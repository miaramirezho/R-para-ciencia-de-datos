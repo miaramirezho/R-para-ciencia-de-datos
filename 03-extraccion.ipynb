{
 "cells": [
  {
   "cell_type": "markdown",
   "metadata": {},
   "source": [
    "# Procesos ETVL usando R -- 3 -- Extracción de datos\n",
    "Notas de clase sobre la extracción, transformación, visualización y carga de datos usando R"
   ]
  },
  {
   "cell_type": "markdown",
   "metadata": {},
   "source": [
    "**Juan David Velásquez Henao**   \n",
    "jdvelasq@unal.edu.co  \n",
    "Universidad Nacional de Colombia, Sede Medellín  \n",
    "Facultad de Minas  \n",
    "Medellín, Colombia  \n",
    "\n",
    "[Licencia](https://github.com/jdvelasq/ETVL-R/blob/master/LICENCIA.txt)  \n",
    "[Readme](https://github.com/jdvelasq/ETVL-R/blob/master/Readme.md)"
   ]
  },
  {
   "cell_type": "markdown",
   "metadata": {},
   "source": [
    "**Software utilizado**.\n",
    "\n",
    "> Este es un documento interactivo escrito como un notebook de [Jupyter](http://jupyter.org), en el cual se presenta un tutorial sobre la extracción, transformación, visualización y carga de datos usando **R** en el contexto de la ciencia de los datos. Los notebooks de Jupyter permiten incoporar simultáneamente código, texto, gráficos y ecuaciones. El código presentado en este notebook puede ejecutarse en los sistemas operativos Linux y OS X.\n",
    "\n",
    "> Haga click [aquí](https://github.com/jdvelasq/guias-de-instalacion) para obtener instrucciones detalladas sobre como instalar Jupyter en Windows y Mac OS X.\n",
    "\n",
    "> Haga clic [aquí](http://nbviewer.jupyter.org/github/jdvelasq/ETVL-R/blob/master/ETVL-R-3-extraccion.ipynb) para ver la última versión de este documento en nbviewer.\n",
    "\n",
    "> Descargue la última versión de este documento a su disco duro; luego, carguelo y ejecutelo en línea en [Try Jupyter!](https://try.jupyter.org)"
   ]
  },
  {
   "cell_type": "markdown",
   "metadata": {},
   "source": [
    "#### Contenido"
   ]
  },
  {
   "cell_type": "markdown",
   "metadata": {},
   "source": [
    "> \n",
    "  * [Lectura y escritura de archivos de texto](#Lectura-y-escritura-de-archivos-de-texto)\n",
    "  * [Formato nativo de R   ](#Formato-nativo-de-R)\n",
    "  * [Feather R/Python interchange format](#Feather-R/Python-interchange-format)\n",
    "  * [CSV](#CSV)\n",
    "  * [CSV2](#CSV2)\n",
    "  * [TXT con formato libre](#TXT-con-formato-libre)\n",
    "  * [TXT como tablas de texto](#TXT-como-tablas-de-texto)\n",
    "  * [TXT con formato de ancho fijo](#TXT-con-formato-de-ancho-fijo)\n",
    "  * [JSON](#JSON)\n",
    "  * [HTML](#HTML)\n",
    "  * [Excel](#Excel)\n",
    "  * [HDF5](#HDF5)\n",
    "  * [STATA](#STATA)\n",
    "  * [SAS](#SAS)\n",
    "  * [XBASE](#XBASE)\n",
    "  * [MySQL y MariaDB](#MySQL-y-MariaDB)\n",
    "  * [XML](#XML)\n",
    "  * [ARFF Weka](#ARFF-Weka)\n",
    "  * [MPT minitab portable worksheet  ](#MPT-minitab-portable-worksheet)\n",
    "  * [PDF](#PDF)\n",
    "  * [Octave & Matlab](#Octave-&-Matlab)\n",
    "  * [SPSS](#SPSS)\n",
    "  * [Systat](#Systat)\n",
    "  * [Mongo DB](#Mongo-DB)\n",
    "  * [Spark](#Spark)"
   ]
  },
  {
   "cell_type": "markdown",
   "metadata": {},
   "source": [
    "**Bibliografía**.\n",
    "\n",
    "> [An introduction to R](https://cran.r-project.org/doc/manuals/R-intro.pdf) by W. N. Venables, D. M. Smith and the R Core Team\n",
    "\n",
    "**Material complementario.**\n",
    "> Webinar RStudio [Getting your data into R](https://www.rstudio.com/resources/webinars/getting-your-data-into-r/) \n",
    "\n",
    "---"
   ]
  },
  {
   "cell_type": "markdown",
   "metadata": {},
   "source": [
    "**Datos de ejemplo**.  \n",
    "> \n",
    "[`Constants {base}`](https://stat.ethz.ch/R-manual/R-devel/library/base/html/Constants.html)  \n",
    "[`Uniform {stats}`](https://stat.ethz.ch/R-manual/R-devel/library/stats/html/Uniform.html)  \n"
   ]
  },
  {
   "cell_type": "code",
   "execution_count": 1,
   "metadata": {
    "scrolled": true
   },
   "outputs": [
    {
     "name": "stdout",
     "output_type": "stream",
     "text": [
      "  index name value\n",
      "1     1    A  6.44\n",
      "2     2    B  5.42\n",
      "3     3    C  8.42\n",
      "4     4    D  3.82\n",
      "5     5    E  7.82\n"
     ]
    }
   ],
   "source": [
    "## crea un dataframe de prueba\n",
    "df <- data.frame(index = 1:5,\n",
    "                 name = LETTERS[1:5],\n",
    "                 value = round(runif(5)*10, 2))\n",
    "print(df)                "
   ]
  },
  {
   "cell_type": "code",
   "execution_count": 1,
   "metadata": {},
   "outputs": [
    {
     "data": {
      "text/html": [
       "<ol class=list-inline>\n",
       "\t<li>0.507224725792184</li>\n",
       "\t<li>0.689063266385347</li>\n",
       "\t<li>0.0114435523282737</li>\n",
       "\t<li>0.777110162191093</li>\n",
       "\t<li>0.873795814579353</li>\n",
       "</ol>\n"
      ],
      "text/latex": [
       "\\begin{enumerate*}\n",
       "\\item 0.507224725792184\n",
       "\\item 0.689063266385347\n",
       "\\item 0.0114435523282737\n",
       "\\item 0.777110162191093\n",
       "\\item 0.873795814579353\n",
       "\\end{enumerate*}\n"
      ],
      "text/markdown": [
       "1. 0.507224725792184\n",
       "2. 0.689063266385347\n",
       "3. 0.0114435523282737\n",
       "4. 0.777110162191093\n",
       "5. 0.873795814579353\n",
       "\n",
       "\n"
      ],
      "text/plain": [
       "[1] 0.50722473 0.68906327 0.01144355 0.77711016 0.87379581"
      ]
     },
     "metadata": {},
     "output_type": "display_data"
    }
   ],
   "source": [
    "runif(5)"
   ]
  },
  {
   "cell_type": "code",
   "execution_count": 2,
   "metadata": {
    "collapsed": true
   },
   "outputs": [],
   "source": [
    "## crea un texto de prueba en formato libre (obtenido de wikipedia)\n",
    "## los cambios de línea introducen caracteres de retorno de carro '\\n'\n",
    "txt = \"R is a programming language and software environment for statistical computing \n",
    "and graphics supported by the R Foundation for Statistical Computing.[3] The R language \n",
    "is widely used among statisticians and data miners for developing statistical software[4] \n",
    "and data analysis.[5] Polls, surveys of data miners, and studies of scholarly literature \n",
    "databases show that R's popularity has increased substantially in recent years.[6]\""
   ]
  },
  {
   "cell_type": "code",
   "execution_count": 3,
   "metadata": {},
   "outputs": [
    {
     "name": "stdout",
     "output_type": "stream",
     "text": [
      "[1] \"R is a programming language and software environment for statistical computing \\nand graphics supported by the R Foundation for Statistical Computing.[3] The R language \\nis widely used among statisticians and data miners for developing statistical software[4] \\nand data analysis.[5] Polls, surveys of data miners, and studies of scholarly literature \\ndatabases show that R's popularity has increased substantially in recent years.[6]\"\n"
     ]
    }
   ],
   "source": [
    "print(txt)"
   ]
  },
  {
   "cell_type": "code",
   "execution_count": 4,
   "metadata": {
    "collapsed": true
   },
   "outputs": [],
   "source": [
    "## escribe el archivo en disco\n",
    "cat(txt, file = 'files/wikipedia.txt')"
   ]
  },
  {
   "cell_type": "markdown",
   "metadata": {},
   "source": [
    "---"
   ]
  },
  {
   "cell_type": "markdown",
   "metadata": {},
   "source": [
    "# Lectura y escritura de archivos de texto"
   ]
  },
  {
   "cell_type": "markdown",
   "metadata": {
    "collapsed": true
   },
   "source": [
    "[Contenido](#Contenido)"
   ]
  },
  {
   "cell_type": "markdown",
   "metadata": {},
   "source": [
    "> [`readLines {base}`](https://stat.ethz.ch/R-manual/R-devel/library/base/html/readLines.html)  \n",
    "[`writeLines {base}`](https://stat.ethz.ch/R-manual/R-devel/library/base/html/writeLines.html)  \n",
    "[`scan {base}`](https://stat.ethz.ch/R-manual/R-devel/library/base/html/scan.html)"
   ]
  },
  {
   "cell_type": "code",
   "execution_count": 2,
   "metadata": {
    "collapsed": true
   },
   "outputs": [],
   "source": [
    "# escribe el contenido del vector de strings al archivo\n",
    "writeLines(text = sprintf('linea %d', seq(5)), # genera el vector de strings\n",
    "           con = 'out.1',  # nombre del archivo\n",
    "           sep = '\\n')     # separador entre strings (retorno de carro)"
   ]
  },
  {
   "cell_type": "code",
   "execution_count": 6,
   "metadata": {},
   "outputs": [
    {
     "data": {
      "text/html": [
       "<ol class=list-inline>\n",
       "\t<li>'linea 1'</li>\n",
       "\t<li>'linea 2'</li>\n",
       "\t<li>'linea 3'</li>\n",
       "\t<li>'linea 4'</li>\n",
       "\t<li>'linea 5'</li>\n",
       "</ol>\n"
      ],
      "text/latex": [
       "\\begin{enumerate*}\n",
       "\\item 'linea 1'\n",
       "\\item 'linea 2'\n",
       "\\item 'linea 3'\n",
       "\\item 'linea 4'\n",
       "\\item 'linea 5'\n",
       "\\end{enumerate*}\n"
      ],
      "text/markdown": [
       "1. 'linea 1'\n",
       "2. 'linea 2'\n",
       "3. 'linea 3'\n",
       "4. 'linea 4'\n",
       "5. 'linea 5'\n",
       "\n",
       "\n"
      ],
      "text/plain": [
       "[1] \"linea 1\" \"linea 2\" \"linea 3\" \"linea 4\" \"linea 5\""
      ]
     },
     "metadata": {},
     "output_type": "display_data"
    }
   ],
   "source": [
    "readLines(con = 'out.1',\n",
    "          n= -1L)"
   ]
  },
  {
   "cell_type": "code",
   "execution_count": 26,
   "metadata": {},
   "outputs": [
    {
     "data": {
      "text/html": [
       "<ol class=list-inline>\n",
       "\t<li>'linea 1'</li>\n",
       "\t<li>'linea 2'</li>\n",
       "\t<li>'linea 3'</li>\n",
       "\t<li>'linea 4'</li>\n",
       "\t<li>'linea 5'</li>\n",
       "</ol>\n"
      ],
      "text/latex": [
       "\\begin{enumerate*}\n",
       "\\item 'linea 1'\n",
       "\\item 'linea 2'\n",
       "\\item 'linea 3'\n",
       "\\item 'linea 4'\n",
       "\\item 'linea 5'\n",
       "\\end{enumerate*}\n"
      ],
      "text/markdown": [
       "1. 'linea 1'\n",
       "2. 'linea 2'\n",
       "3. 'linea 3'\n",
       "4. 'linea 4'\n",
       "5. 'linea 5'\n",
       "\n",
       "\n"
      ],
      "text/plain": [
       "[1] \"linea 1\" \"linea 2\" \"linea 3\" \"linea 4\" \"linea 5\""
      ]
     },
     "execution_count": 26,
     "metadata": {},
     "output_type": "execute_result"
    }
   ],
   "source": [
    "# lee el contenido total o parcial del archivo\n",
    "readLines(con = 'out.1',  # nombre del archivo\n",
    "          n = -1L)        # la totalidad del archivo"
   ]
  },
  {
   "cell_type": "code",
   "execution_count": 27,
   "metadata": {},
   "outputs": [
    {
     "data": {
      "text/html": [
       "<ol class=list-inline>\n",
       "\t<li>'linea 1'</li>\n",
       "\t<li>'linea 2'</li>\n",
       "\t<li>'linea 3'</li>\n",
       "</ol>\n"
      ],
      "text/latex": [
       "\\begin{enumerate*}\n",
       "\\item 'linea 1'\n",
       "\\item 'linea 2'\n",
       "\\item 'linea 3'\n",
       "\\end{enumerate*}\n"
      ],
      "text/markdown": [
       "1. 'linea 1'\n",
       "2. 'linea 2'\n",
       "3. 'linea 3'\n",
       "\n",
       "\n"
      ],
      "text/plain": [
       "[1] \"linea 1\" \"linea 2\" \"linea 3\""
      ]
     },
     "execution_count": 27,
     "metadata": {},
     "output_type": "execute_result"
    }
   ],
   "source": [
    "# lee el contenido total o parcial del archivo\n",
    "readLines(con = 'out.1',  # nombre del archivo\n",
    "          n = 3)          # las primeras 3 lineas"
   ]
  },
  {
   "cell_type": "code",
   "execution_count": 7,
   "metadata": {},
   "outputs": [
    {
     "data": {
      "text/html": [
       "<ol class=list-inline>\n",
       "\t<li>'linea 1'</li>\n",
       "\t<li>'linea 2'</li>\n",
       "\t<li>'linea 3'</li>\n",
       "\t<li>'linea 4'</li>\n",
       "\t<li>'linea 5'</li>\n",
       "</ol>\n"
      ],
      "text/latex": [
       "\\begin{enumerate*}\n",
       "\\item 'linea 1'\n",
       "\\item 'linea 2'\n",
       "\\item 'linea 3'\n",
       "\\item 'linea 4'\n",
       "\\item 'linea 5'\n",
       "\\end{enumerate*}\n"
      ],
      "text/markdown": [
       "1. 'linea 1'\n",
       "2. 'linea 2'\n",
       "3. 'linea 3'\n",
       "4. 'linea 4'\n",
       "5. 'linea 5'\n",
       "\n",
       "\n"
      ],
      "text/plain": [
       "[1] \"linea 1\" \"linea 2\" \"linea 3\" \"linea 4\" \"linea 5\""
      ]
     },
     "metadata": {},
     "output_type": "display_data"
    }
   ],
   "source": [
    "readLines('out.1')"
   ]
  },
  {
   "cell_type": "code",
   "execution_count": 30,
   "metadata": {
    "collapsed": true
   },
   "outputs": [],
   "source": [
    "writeLines(text = as.character(seq(10)), # genera una secuencia de enteros 1, ..., 10\n",
    "           con = 'out.1',                # nombre del archivo\n",
    "           sep = '\\n')                   # separador entre strings (retorno de carro)"
   ]
  },
  {
   "cell_type": "code",
   "execution_count": 20,
   "metadata": {},
   "outputs": [
    {
     "data": {
      "text/html": [
       "<ol class=list-inline>\n",
       "\t<li>'linea 1'</li>\n",
       "\t<li>'linea 2'</li>\n",
       "\t<li>'linea 3'</li>\n",
       "</ol>\n"
      ],
      "text/latex": [
       "\\begin{enumerate*}\n",
       "\\item 'linea 1'\n",
       "\\item 'linea 2'\n",
       "\\item 'linea 3'\n",
       "\\end{enumerate*}\n"
      ],
      "text/markdown": [
       "1. 'linea 1'\n",
       "2. 'linea 2'\n",
       "3. 'linea 3'\n",
       "\n",
       "\n"
      ],
      "text/plain": [
       "[1] \"linea 1\" \"linea 2\" \"linea 3\""
      ]
     },
     "execution_count": 20,
     "metadata": {},
     "output_type": "execute_result"
    }
   ],
   "source": [
    "# imprime las lineas, una a una\n",
    "cat(\"linea 1\\n\", file='out.1')\n",
    "cat(\"linea 2\\n\", file='out.1', append=TRUE)\n",
    "cat(\"linea 3\\n\", file='out.1', append=TRUE)\n",
    "readLines('out.1')"
   ]
  },
  {
   "cell_type": "code",
   "execution_count": 48,
   "metadata": {},
   "outputs": [
    {
     "name": "stdout",
     "output_type": "stream",
     "text": [
      "character(0)\n"
     ]
    }
   ],
   "source": [
    "cat(\"\", file='out.1') # crea un archivo vacío\n",
    "print(readLines('out.1'))"
   ]
  },
  {
   "cell_type": "markdown",
   "metadata": {},
   "source": [
    "En el siguiente ejemplo se realiza la concatenación del contenido de archivos."
   ]
  },
  {
   "cell_type": "code",
   "execution_count": 36,
   "metadata": {
    "collapsed": true
   },
   "outputs": [],
   "source": [
    "# se crean tres archivos\n",
    "cat(sprintf('linea %d', seq(from=1, to=3)), sep='\\n', file='out.1')\n",
    "cat(sprintf('linea %d', seq(from=4, to=6)), sep='\\n', file='out.2')\n",
    "cat(sprintf('linea %d', seq(from=7, to=9)), sep='\\n', file='out.3')"
   ]
  },
  {
   "cell_type": "code",
   "execution_count": 37,
   "metadata": {},
   "outputs": [
    {
     "name": "stdout",
     "output_type": "stream",
     "text": [
      "linea 1\n",
      "linea 2\n",
      "linea 3\n",
      "linea 4\n",
      "linea 5\n",
      "linea 6\n",
      "linea 7\n",
      "linea 8\n",
      "linea 9\n"
     ]
    }
   ],
   "source": [
    "x <- readLines('out.1')       # inicializa la variable con el contenido de `out.1`. \n",
    "x <- c(x, readLines('out.2')) # agrega el contenido de `out.2` a x\n",
    "x <- c(x, readLines('out.3')) # agrega el contenido de `out.3` a x\n",
    "cat(x, sep='\\n')"
   ]
  },
  {
   "cell_type": "code",
   "execution_count": 9,
   "metadata": {},
   "outputs": [
    {
     "data": {
      "text/html": [
       "<ol class=list-inline>\n",
       "\t<li>'linea 1'</li>\n",
       "\t<li>'linea 2'</li>\n",
       "\t<li>'linea 3'</li>\n",
       "</ol>\n"
      ],
      "text/latex": [
       "\\begin{enumerate*}\n",
       "\\item 'linea 1'\n",
       "\\item 'linea 2'\n",
       "\\item 'linea 3'\n",
       "\\end{enumerate*}\n"
      ],
      "text/markdown": [
       "1. 'linea 1'\n",
       "2. 'linea 2'\n",
       "3. 'linea 3'\n",
       "\n",
       "\n"
      ],
      "text/plain": [
       "[1] \"linea 1\" \"linea 2\" \"linea 3\""
      ]
     },
     "metadata": {},
     "output_type": "display_data"
    }
   ],
   "source": [
    "# se leen las tres primeras lineas del archivo\n",
    "cat(sprintf('linea %d', seq(10)), sep='\\n', file='out.1') # crea el archivo\n",
    "readLines('out.1', ok=TRUE, n=3)  "
   ]
  },
  {
   "cell_type": "code",
   "execution_count": 10,
   "metadata": {},
   "outputs": [
    {
     "data": {
      "text/html": [
       "<ol class=list-inline>\n",
       "\t<li>'linea 1'</li>\n",
       "\t<li>'linea 2'</li>\n",
       "\t<li>'linea 3'</li>\n",
       "</ol>\n"
      ],
      "text/latex": [
       "\\begin{enumerate*}\n",
       "\\item 'linea 1'\n",
       "\\item 'linea 2'\n",
       "\\item 'linea 3'\n",
       "\\end{enumerate*}\n"
      ],
      "text/markdown": [
       "1. 'linea 1'\n",
       "2. 'linea 2'\n",
       "3. 'linea 3'\n",
       "\n",
       "\n"
      ],
      "text/plain": [
       "[1] \"linea 1\" \"linea 2\" \"linea 3\""
      ]
     },
     "metadata": {},
     "output_type": "display_data"
    }
   ],
   "source": [
    "# se leen las tres primeras lineas del archivo\n",
    "cat(sprintf('linea %d', seq(10)), file='out.1', sep='\\n') # crea el archivo\n",
    "readLines('out.1', ok=TRUE, n=3)  "
   ]
  },
  {
   "cell_type": "code",
   "execution_count": 7,
   "metadata": {
    "collapsed": true
   },
   "outputs": [],
   "source": [
    "cat(\"linea 1\", \"linea 2\", \"linea 3\", # cadenas de texto (strings)\n",
    "    sep='\\n',                        # separador entre strings\n",
    "    file='out.1')                    # nombre del archivo "
   ]
  },
  {
   "cell_type": "code",
   "execution_count": 21,
   "metadata": {},
   "outputs": [
    {
     "data": {
      "text/html": [
       "<ol class=list-inline>\n",
       "\t<li>'linea 1'</li>\n",
       "\t<li>'linea 2'</li>\n",
       "\t<li>'linea 3'</li>\n",
       "</ol>\n"
      ],
      "text/latex": [
       "\\begin{enumerate*}\n",
       "\\item 'linea 1'\n",
       "\\item 'linea 2'\n",
       "\\item 'linea 3'\n",
       "\\end{enumerate*}\n"
      ],
      "text/markdown": [
       "1. 'linea 1'\n",
       "2. 'linea 2'\n",
       "3. 'linea 3'\n",
       "\n",
       "\n"
      ],
      "text/plain": [
       "[1] \"linea 1\" \"linea 2\" \"linea 3\""
      ]
     },
     "execution_count": 21,
     "metadata": {},
     "output_type": "execute_result"
    }
   ],
   "source": [
    "readLines('out.1') # lee el archivo"
   ]
  },
  {
   "cell_type": "code",
   "execution_count": 39,
   "metadata": {},
   "outputs": [
    {
     "data": {
      "text/html": [
       "<ol class=list-inline>\n",
       "\t<li>'linea 8'</li>\n",
       "\t<li>'linea 9'</li>\n",
       "\t<li>'linea 10'</li>\n",
       "</ol>\n"
      ],
      "text/latex": [
       "\\begin{enumerate*}\n",
       "\\item 'linea 8'\n",
       "\\item 'linea 9'\n",
       "\\item 'linea 10'\n",
       "\\end{enumerate*}\n"
      ],
      "text/markdown": [
       "1. 'linea 8'\n",
       "2. 'linea 9'\n",
       "3. 'linea 10'\n",
       "\n",
       "\n"
      ],
      "text/plain": [
       "[1] \"linea 8\"  \"linea 9\"  \"linea 10\""
      ]
     },
     "execution_count": 39,
     "metadata": {},
     "output_type": "execute_result"
    }
   ],
   "source": [
    "# se leen las tres últimas lineas del archivo\n",
    "x <- readLines('out.1', ok=TRUE)\n",
    "x[(length(x)-2):length(x)]"
   ]
  },
  {
   "cell_type": "code",
   "execution_count": 41,
   "metadata": {},
   "outputs": [
    {
     "data": {
      "text/html": [
       "<ol class=list-inline>\n",
       "\t<li>'linea 5'</li>\n",
       "\t<li>'linea 6'</li>\n",
       "\t<li>'linea 7'</li>\n",
       "\t<li>'linea 8'</li>\n",
       "\t<li>'linea 9'</li>\n",
       "\t<li>'linea 10'</li>\n",
       "</ol>\n"
      ],
      "text/latex": [
       "\\begin{enumerate*}\n",
       "\\item 'linea 5'\n",
       "\\item 'linea 6'\n",
       "\\item 'linea 7'\n",
       "\\item 'linea 8'\n",
       "\\item 'linea 9'\n",
       "\\item 'linea 10'\n",
       "\\end{enumerate*}\n"
      ],
      "text/markdown": [
       "1. 'linea 5'\n",
       "2. 'linea 6'\n",
       "3. 'linea 7'\n",
       "4. 'linea 8'\n",
       "5. 'linea 9'\n",
       "6. 'linea 10'\n",
       "\n",
       "\n"
      ],
      "text/plain": [
       "[1] \"linea 5\"  \"linea 6\"  \"linea 7\"  \"linea 8\"  \"linea 9\"  \"linea 10\""
      ]
     },
     "execution_count": 41,
     "metadata": {},
     "output_type": "execute_result"
    }
   ],
   "source": [
    "# se todas las lineas del archivo, exceptuando las cuatro primeras.\n",
    "x <- readLines('out.1', ok=TRUE)\n",
    "x[-(1:4)]"
   ]
  },
  {
   "cell_type": "code",
   "execution_count": 42,
   "metadata": {},
   "outputs": [
    {
     "data": {
      "text/html": [
       "10"
      ],
      "text/latex": [
       "10"
      ],
      "text/markdown": [
       "10"
      ],
      "text/plain": [
       "[1] 10"
      ]
     },
     "execution_count": 42,
     "metadata": {},
     "output_type": "execute_result"
    }
   ],
   "source": [
    "# cuenta la cantidad de líneas del archivo\n",
    "length(readLines('out.1'))"
   ]
  },
  {
   "cell_type": "code",
   "execution_count": 44,
   "metadata": {},
   "outputs": [
    {
     "name": "stdout",
     "output_type": "stream",
     "text": [
      "[[1]]\n",
      "[1] \"linea\" \"1\"    \n",
      "\n",
      "[[2]]\n",
      "[1] \"linea\" \"2\"    \n",
      "\n",
      "[[3]]\n",
      "[1] \"linea\" \"3\"    \n",
      "\n",
      "[[4]]\n",
      "[1] \"linea\" \"4\"    \n",
      "\n",
      "[[5]]\n",
      "[1] \"linea\" \"5\"    \n",
      "\n",
      "[[6]]\n",
      "[1] \"linea\" \"6\"    \n",
      "\n",
      "[[7]]\n",
      "[1] \"linea\" \"7\"    \n",
      "\n",
      "[[8]]\n",
      "[1] \"linea\" \"8\"    \n",
      "\n",
      "[[9]]\n",
      "[1] \"linea\" \"9\"    \n",
      "\n",
      "[[10]]\n",
      "[1] \"linea\" \"10\"   \n",
      "\n"
     ]
    }
   ],
   "source": [
    "# divide el contenido del archivo en palabras\n",
    "x <- readLines('out.1')\n",
    "print(strsplit(x, split=' '))"
   ]
  },
  {
   "cell_type": "code",
   "execution_count": 46,
   "metadata": {},
   "outputs": [
    {
     "data": {
      "text/html": [
       "20"
      ],
      "text/latex": [
       "20"
      ],
      "text/markdown": [
       "20"
      ],
      "text/plain": [
       "[1] 20"
      ]
     },
     "execution_count": 46,
     "metadata": {},
     "output_type": "execute_result"
    }
   ],
   "source": [
    "# cuenta la cantidad de palabras del archivo\n",
    "x <- readLines('out.1')\n",
    "x <- paste(x, sep='', collapse=' ')  # pega todas las líneas en un solo string\n",
    "x <- strsplit(x, split=' ')[[1]]\n",
    "length(x)"
   ]
  },
  {
   "cell_type": "code",
   "execution_count": 12,
   "metadata": {},
   "outputs": [
    {
     "data": {
      "text/html": [
       "61"
      ],
      "text/latex": [
       "61"
      ],
      "text/markdown": [
       "61"
      ],
      "text/plain": [
       "[1] 61"
      ]
     },
     "metadata": {},
     "output_type": "display_data"
    }
   ],
   "source": [
    "# cuenta la cantidad de caracteres de un archivo\n",
    "x <- readLines('out.1')\n",
    "x <- paste(x, sep='', collapse=' ')\n",
    "x <- strsplit(x, split=' ')[[1]]\n",
    "sum(nchar(x))"
   ]
  },
  {
   "cell_type": "code",
   "execution_count": 13,
   "metadata": {},
   "outputs": [
    {
     "data": {
      "text/html": [
       "61"
      ],
      "text/latex": [
       "61"
      ],
      "text/markdown": [
       "61"
      ],
      "text/plain": [
       "[1] 61"
      ]
     },
     "metadata": {},
     "output_type": "display_data"
    }
   ],
   "source": [
    "# cuenta la cantidad de caracteres de un archivo\n",
    "x <- readLines('out.1')\n",
    "x <- paste(x, sep='', collapse=' ')\n",
    "x <- strsplit(x, split=' ')[[1]]\n",
    "sum(nchar(x))"
   ]
  },
  {
   "cell_type": "markdown",
   "metadata": {},
   "source": [
    "La función `scan()` permite la escritura directa a archivos en disco duro."
   ]
  },
  {
   "cell_type": "code",
   "execution_count": 34,
   "metadata": {},
   "outputs": [
    {
     "data": {
      "text/html": [
       "<ol class=list-inline>\n",
       "\t<li>1</li>\n",
       "\t<li>2</li>\n",
       "\t<li>3</li>\n",
       "\t<li>4</li>\n",
       "\t<li>5</li>\n",
       "</ol>\n"
      ],
      "text/latex": [
       "\\begin{enumerate*}\n",
       "\\item 1\n",
       "\\item 2\n",
       "\\item 3\n",
       "\\item 4\n",
       "\\item 5\n",
       "\\end{enumerate*}\n"
      ],
      "text/markdown": [
       "1. 1\n",
       "2. 2\n",
       "3. 3\n",
       "4. 4\n",
       "5. 5\n",
       "\n",
       "\n"
      ],
      "text/plain": [
       "[1] 1 2 3 4 5"
      ]
     },
     "execution_count": 34,
     "metadata": {},
     "output_type": "execute_result"
    }
   ],
   "source": [
    "scan('out.1') # lee el contenido del archivo y lo convierte en vector"
   ]
  },
  {
   "cell_type": "code",
   "execution_count": 33,
   "metadata": {},
   "outputs": [
    {
     "data": {
      "text/html": [
       "<ol class=list-inline>\n",
       "\t<li>1</li>\n",
       "\t<li>2</li>\n",
       "\t<li>3</li>\n",
       "\t<li>4</li>\n",
       "\t<li>5</li>\n",
       "\t<li>6</li>\n",
       "\t<li>7</li>\n",
       "\t<li>8</li>\n",
       "\t<li>9</li>\n",
       "\t<li>10</li>\n",
       "</ol>\n"
      ],
      "text/latex": [
       "\\begin{enumerate*}\n",
       "\\item 1\n",
       "\\item 2\n",
       "\\item 3\n",
       "\\item 4\n",
       "\\item 5\n",
       "\\item 6\n",
       "\\item 7\n",
       "\\item 8\n",
       "\\item 9\n",
       "\\item 10\n",
       "\\end{enumerate*}\n"
      ],
      "text/markdown": [
       "1. 1\n",
       "2. 2\n",
       "3. 3\n",
       "4. 4\n",
       "5. 5\n",
       "6. 6\n",
       "7. 7\n",
       "8. 8\n",
       "9. 9\n",
       "10. 10\n",
       "\n",
       "\n"
      ],
      "text/plain": [
       " [1]  1  2  3  4  5  6  7  8  9 10"
      ]
     },
     "execution_count": 33,
     "metadata": {},
     "output_type": "execute_result"
    }
   ],
   "source": [
    "scan(text='1.2.3.4.5.6.7.8.9.10', sep='.') # tambien puede leer de strings"
   ]
  },
  {
   "cell_type": "markdown",
   "metadata": {},
   "source": [
    "# Formato nativo de R   "
   ]
  },
  {
   "cell_type": "markdown",
   "metadata": {
    "collapsed": true
   },
   "source": [
    "[Contenido](#Contenido)"
   ]
  },
  {
   "cell_type": "markdown",
   "metadata": {},
   "source": [
    "> [`save {base}`](https://stat.ethz.ch/R-manual/R-devel/library/base/html/save.html)  \n",
    "[`load {base}`](https://stat.ethz.ch/R-manual/R-devel/library/base/html/load.html)  \n",
    "[`readRDS {base}`](https://stat.ethz.ch/R-manual/R-devel/library/base/html/readRDS.html)  \n",
    "[`saveRDS {base}`](https://stat.ethz.ch/R-manual/R-devel/library/base/html/readRDS.html)  "
   ]
  },
  {
   "cell_type": "code",
   "execution_count": 5,
   "metadata": {
    "collapsed": true
   },
   "outputs": [],
   "source": [
    "## Salva el dataframe. se pueden salvar varios objetos simultáneamente\n",
    "save(df, file='files/data.RData') "
   ]
  },
  {
   "cell_type": "code",
   "execution_count": 6,
   "metadata": {},
   "outputs": [
    {
     "data": {
      "text/html": [
       "<ol class=list-inline>\n",
       "\t<li>'df'</li>\n",
       "\t<li>'txt'</li>\n",
       "</ol>\n"
      ],
      "text/latex": [
       "\\begin{enumerate*}\n",
       "\\item 'df'\n",
       "\\item 'txt'\n",
       "\\end{enumerate*}\n"
      ],
      "text/markdown": [
       "1. 'df'\n",
       "2. 'txt'\n",
       "\n",
       "\n"
      ],
      "text/plain": [
       "[1] \"df\"  \"txt\""
      ]
     },
     "metadata": {},
     "output_type": "display_data"
    }
   ],
   "source": [
    "## Se listan las variables existentes en el entorno.\n",
    "ls()"
   ]
  },
  {
   "cell_type": "code",
   "execution_count": 14,
   "metadata": {},
   "outputs": [
    {
     "data": {
      "text/html": [
       "'x'"
      ],
      "text/latex": [
       "'x'"
      ],
      "text/markdown": [
       "'x'"
      ],
      "text/plain": [
       "[1] \"x\""
      ]
     },
     "metadata": {},
     "output_type": "display_data"
    }
   ],
   "source": [
    "ls()"
   ]
  },
  {
   "cell_type": "code",
   "execution_count": 7,
   "metadata": {},
   "outputs": [
    {
     "data": {
      "text/html": [
       "'txt'"
      ],
      "text/latex": [
       "'txt'"
      ],
      "text/markdown": [
       "'txt'"
      ],
      "text/plain": [
       "[1] \"txt\""
      ]
     },
     "metadata": {},
     "output_type": "display_data"
    }
   ],
   "source": [
    "## remueve el dataframe.\n",
    "rm(df)\n",
    "ls()"
   ]
  },
  {
   "cell_type": "code",
   "execution_count": 8,
   "metadata": {},
   "outputs": [
    {
     "name": "stdout",
     "output_type": "stream",
     "text": [
      "  index name value\n",
      "1     1    A  6.44\n",
      "2     2    B  5.42\n",
      "3     3    C  8.42\n",
      "4     4    D  3.82\n",
      "5     5    E  7.82\n"
     ]
    }
   ],
   "source": [
    "## recupera el dataset `df` del archivo.\n",
    "load(file='files/data.RData' )\n",
    "print(df)"
   ]
  },
  {
   "cell_type": "code",
   "execution_count": 9,
   "metadata": {
    "collapsed": true
   },
   "outputs": [],
   "source": [
    "saveRDS(df, \"files/data.rds\")"
   ]
  },
  {
   "cell_type": "code",
   "execution_count": 10,
   "metadata": {
    "scrolled": true
   },
   "outputs": [
    {
     "name": "stdout",
     "output_type": "stream",
     "text": [
      "  index name value\n",
      "1     1    A  6.44\n",
      "2     2    B  5.42\n",
      "3     3    C  8.42\n",
      "4     4    D  3.82\n",
      "5     5    E  7.82\n"
     ]
    }
   ],
   "source": [
    "print(readRDS(\"files/data.rds\"))"
   ]
  },
  {
   "cell_type": "markdown",
   "metadata": {},
   "source": [
    "# Feather R/Python interchange format"
   ]
  },
  {
   "cell_type": "markdown",
   "metadata": {
    "collapsed": true
   },
   "source": [
    "[Contenido](#Contenido)"
   ]
  },
  {
   "cell_type": "markdown",
   "metadata": {},
   "source": [
    "> \n",
    "[`read_feather {feather}`](https://cran.r-project.org/web/packages/feather/index.html)  \n",
    "[`write_feather {feather}`](https://cran.r-project.org/web/packages/feather/index.html)\n",
    "\n",
    "> Instalación:\n",
    "```\n",
    "devtools::install_github(\"wesm/feather/R\")\n",
    "```"
   ]
  },
  {
   "cell_type": "code",
   "execution_count": 11,
   "metadata": {
    "collapsed": true
   },
   "outputs": [],
   "source": [
    "library(feather)\n",
    "write_feather(df, 'files/data.feather')"
   ]
  },
  {
   "cell_type": "code",
   "execution_count": 12,
   "metadata": {},
   "outputs": [
    {
     "name": "stdout",
     "output_type": "stream",
     "text": [
      "Source: local data frame [5 x 3]\n",
      "\n",
      "  index   name value\n",
      "  <int> <fctr> <dbl>\n",
      "1     1      A  6.44\n",
      "2     2      B  5.42\n",
      "3     3      C  8.42\n",
      "4     4      D  3.82\n",
      "5     5      E  7.82\n"
     ]
    }
   ],
   "source": [
    "x <- read_feather('files/data.feather')\n",
    "print(x)"
   ]
  },
  {
   "cell_type": "markdown",
   "metadata": {},
   "source": [
    "# CSV"
   ]
  },
  {
   "cell_type": "markdown",
   "metadata": {
    "collapsed": true
   },
   "source": [
    "[Contenido](#Contenido)"
   ]
  },
  {
   "cell_type": "markdown",
   "metadata": {},
   "source": [
    "> [`write.csv {utils}`](https://stat.ethz.ch/R-manual/R-devel/library/utils/html/write.table.html)  \n",
    "[`read.csv {utils}`](https://stat.ethz.ch/R-manual/R-devel/library/utils/html/read.table.html)  "
   ]
  },
  {
   "cell_type": "code",
   "execution_count": 13,
   "metadata": {},
   "outputs": [
    {
     "name": "stdout",
     "output_type": "stream",
     "text": [
      "\"index\",\"name\",\"value\"\n",
      "1,\"A\",6.44\n",
      "2,\"B\",5.42\n",
      "3,\"C\",8.42\n",
      "4,\"D\",3.82\n",
      "5,\"E\",7.82\n"
     ]
    }
   ],
   "source": [
    "## lo escribe con formato csv.\n",
    "write.csv(x = df, \n",
    "          file = 'files/data.csv',  # archivo\n",
    "          row.names = FALSE)        # imprime los nombres de las filas?\n",
    "\n",
    "## imprime el contenido del archivo\n",
    "x <- readLines(con = 'files/data.csv', n = -1L)\n",
    "cat(x , sep = '\\n')"
   ]
  },
  {
   "cell_type": "code",
   "execution_count": 14,
   "metadata": {
    "collapsed": true
   },
   "outputs": [],
   "source": [
    "## graba el dataset 'iris' para usarlo en el tutorial de python\n",
    "write.csv(x = iris, \n",
    "          file = 'files/iris.csv',  # archivo\n",
    "          row.names = FALSE)        # imprime los nombres de las filas?"
   ]
  },
  {
   "cell_type": "code",
   "execution_count": 15,
   "metadata": {
    "scrolled": false
   },
   "outputs": [
    {
     "name": "stdout",
     "output_type": "stream",
     "text": [
      "  index name value\n",
      "1     1    A  6.44\n",
      "2     2    B  5.42\n",
      "3     3    C  8.42\n",
      "4     4    D  3.82\n",
      "5     5    E  7.82\n"
     ]
    }
   ],
   "source": [
    "## lectura\n",
    "x <- read.csv(file = 'files/data.csv', # nombre del archivo\n",
    "              header = TRUE,           # nombres de columnas\n",
    "              sep = \",\",               # separador de campos\n",
    "              dec = \".\")               # separador de decimales\n",
    "print(x)"
   ]
  },
  {
   "cell_type": "code",
   "execution_count": 24,
   "metadata": {},
   "outputs": [
    {
     "name": "stdout",
     "output_type": "stream",
     "text": [
      "linea 1\n",
      "linea 2\n",
      "linea 3\n",
      "linea 4\n",
      "linea 5\n"
     ]
    }
   ],
   "source": [
    "writeLines(text = sprintf('linea %d', seq(5)), con = 'hola', sep= '\\n')\n",
    "r<- readLines(con= 'hola', n=-1L)\n",
    "cat(r, sep='\\n')"
   ]
  },
  {
   "cell_type": "code",
   "execution_count": 25,
   "metadata": {},
   "outputs": [
    {
     "name": "stdout",
     "output_type": "stream",
     "text": [
      "\"x\"\n",
      "\"linea 1\"\n",
      "\"linea 2\"\n",
      "\"linea 3\"\n",
      "\"linea 4\"\n",
      "\"linea 5\"\n"
     ]
    }
   ],
   "source": [
    "write.csv(x= r, file='hola.csv', row.names= FALSE)\n",
    "\n",
    "rcsv<- readLines(con= 'hola.csv', n=-1L)\n",
    "cat(rcsv, sep='\\n')"
   ]
  },
  {
   "cell_type": "markdown",
   "metadata": {},
   "source": [
    "# CSV2"
   ]
  },
  {
   "cell_type": "markdown",
   "metadata": {
    "collapsed": true
   },
   "source": [
    "[Contenido](#Contenido)"
   ]
  },
  {
   "cell_type": "markdown",
   "metadata": {},
   "source": [
    "> [`write.csv2 {utils}`](https://stat.ethz.ch/R-manual/R-devel/library/utils/html/write.table.html)  \n",
    "[`read.csv2 {utils}`](https://stat.ethz.ch/R-manual/R-devel/library/utils/html/read.table.html) "
   ]
  },
  {
   "cell_type": "code",
   "execution_count": 16,
   "metadata": {},
   "outputs": [
    {
     "name": "stdout",
     "output_type": "stream",
     "text": [
      "\"index\";\"name\";\"value\"\n",
      "1;\"A\";6,44\n",
      "2;\"B\";5,42\n",
      "3;\"C\";8,42\n",
      "4;\"D\";3,82\n",
      "5;\"E\";7,82\n"
     ]
    }
   ],
   "source": [
    "## ';' para campos y ',' para decimales.\n",
    "write.csv2(x = df, \n",
    "           file = 'files/data.csv2',  # archivo\n",
    "           row.names = FALSE)         # imprime los nombres de las filas?\n",
    "\n",
    "## imprime el contenido del archivo\n",
    "cat(readLines(con = 'files/data.csv2', n = -1L), sep = '\\n')"
   ]
  },
  {
   "cell_type": "code",
   "execution_count": 17,
   "metadata": {
    "scrolled": true
   },
   "outputs": [
    {
     "name": "stdout",
     "output_type": "stream",
     "text": [
      "  index name value\n",
      "1     1    A  6.44\n",
      "2     2    B  5.42\n",
      "3     3    C  8.42\n",
      "4     4    D  3.82\n",
      "5     5    E  7.82\n"
     ]
    }
   ],
   "source": [
    "## lectura\n",
    "x <- read.csv(file='files/data.csv2', # nombre del archivo\n",
    "              header=TRUE,            # nombres de columnas\n",
    "              sep = \";\",              # separador de campos\n",
    "              dec = \",\")              # separador de decimales\n",
    "print(x)"
   ]
  },
  {
   "cell_type": "markdown",
   "metadata": {},
   "source": [
    "# TXT con formato libre"
   ]
  },
  {
   "cell_type": "markdown",
   "metadata": {
    "collapsed": true
   },
   "source": [
    "[Contenido](#Contenido)"
   ]
  },
  {
   "cell_type": "markdown",
   "metadata": {
    "collapsed": true
   },
   "source": [
    "> [`scan {base}`](https://stat.ethz.ch/R-manual/R-devel/library/base/html/scan.html)"
   ]
  },
  {
   "cell_type": "code",
   "execution_count": 18,
   "metadata": {
    "scrolled": true
   },
   "outputs": [
    {
     "name": "stdout",
     "output_type": "stream",
     "text": [
      " [1] \"R\"             \"is\"            \"a\"             \"programming\"  \n",
      " [5] \"language\"      \"and\"           \"software\"      \"environment\"  \n",
      " [9] \"for\"           \"statistical\"   \"computing\"     \"and\"          \n",
      "[13] \"graphics\"      \"supported\"     \"by\"            \"the\"          \n",
      "[17] \"R\"             \"Foundation\"    \"for\"           \"Statistical\"  \n",
      "[21] \"Computing.[3]\" \"The\"           \"R\"             \"language\"     \n",
      "[25] \"is\"            \"widely\"        \"used\"          \"among\"        \n",
      "[29] \"statisticians\" \"and\"           \"data\"          \"miners\"       \n",
      "[33] \"for\"           \"developing\"    \"statistical\"   \"software[4]\"  \n",
      "[37] \"and\"           \"data\"          \"analysis.[5]\"  \"Polls,\"       \n",
      "[41] \"surveys\"       \"of\"            \"data\"          \"miners,\"      \n",
      "[45] \"and\"           \"studies\"       \"of\"            \"scholarly\"    \n",
      "[49] \"literature\"    \"databases\"     \"show\"          \"that\"         \n",
      "[53] \"R's\"           \"popularity\"    \"has\"           \"increased\"    \n",
      "[57] \"substantially\" \"in\"            \"recent\"        \"years.[6]\"    \n"
     ]
    }
   ],
   "source": [
    "## separa el contenido del archivo por palabra \n",
    "## (strings delimitados por espacios en blanco)\n",
    "print(scan(file = 'files/wikipedia.txt',  # nombre del archivo\n",
    "           what = character(0)))          # tipo de dato          "
   ]
  },
  {
   "cell_type": "code",
   "execution_count": 19,
   "metadata": {
    "scrolled": false
   },
   "outputs": [
    {
     "name": "stdout",
     "output_type": "stream",
     "text": [
      "[1] \"R is a programming language and software environment for statistical computing \"           \n",
      "[2] \"and graphics supported by the R Foundation for Statistical Computing\"                      \n",
      "[3] \"[3] The R language \"                                                                       \n",
      "[4] \"is widely used among statisticians and data miners for developing statistical software[4] \"\n",
      "[5] \"and data analysis\"                                                                         \n",
      "[6] \"[5] Polls, surveys of data miners, and studies of scholarly literature \"                   \n",
      "[7] \"databases show that R's popularity has increased substantially in recent years\"            \n",
      "[8] \"[6]\"                                                                                       \n"
     ]
    }
   ],
   "source": [
    "## separa el contenido del archivo por renglon y frase\n",
    "print(scan(file = 'files/wikipedia.txt',   #\n",
    "           what = character(0),            #\n",
    "           quote='',                       # \n",
    "           sep='.'))                       # caracter de separación "
   ]
  },
  {
   "cell_type": "markdown",
   "metadata": {},
   "source": [
    "# TXT como tablas de texto"
   ]
  },
  {
   "cell_type": "markdown",
   "metadata": {
    "collapsed": true
   },
   "source": [
    "[Contenido](#Contenido)"
   ]
  },
  {
   "cell_type": "markdown",
   "metadata": {},
   "source": [
    "> [`write.table {utils}`](https://stat.ethz.ch/R-manual/R-devel/library/utils/html/write.table.html)  \n",
    "[`read.table {utils}`](https://stat.ethz.ch/R-manual/R-devel/library/utils/html/read.table.html)  "
   ]
  },
  {
   "cell_type": "code",
   "execution_count": 20,
   "metadata": {},
   "outputs": [
    {
     "name": "stdout",
     "output_type": "stream",
     "text": [
      "index name value\n",
      "1 A 6.44\n",
      "2 B 5.42\n",
      "3 C 8.42\n",
      "4 D 3.82\n",
      "5 E 7.82\n"
     ]
    }
   ],
   "source": [
    "## escribe el archivo en forma de tabla \n",
    "write.table(x = df,                   # el dataframe\n",
    "            file = 'files/data.txt',  # archivo\n",
    "            append = FALSE,           # lo agrega al final del archivo? \n",
    "            sep = ' ',                # caracter de separcion entre campos\n",
    "            quote = FALSE,            # delimitador\n",
    "            row.names = FALSE,        # imprime los nombres de las filas?\n",
    "            col.names = TRUE)         # imprime los nombres de las columnas?\n",
    "\n",
    "## imprime el contenido del archivo\n",
    "cat(readLines(con = 'files/data.txt', n = -1L), sep = '\\n')"
   ]
  },
  {
   "cell_type": "code",
   "execution_count": 21,
   "metadata": {
    "scrolled": true
   },
   "outputs": [
    {
     "name": "stdout",
     "output_type": "stream",
     "text": [
      "  index name value\n",
      "1     1    A  6.44\n",
      "2     2    B  5.42\n",
      "3     3    C  8.42\n",
      "4     4    D  3.82\n",
      "5     5    E  7.82\n"
     ]
    }
   ],
   "source": [
    "x <- read.table(file = 'files/data.txt', \n",
    "                header = TRUE, \n",
    "                sep = \"\", \n",
    "                quote = \"\\\"'\")     \n",
    "print(x)"
   ]
  },
  {
   "cell_type": "markdown",
   "metadata": {},
   "source": [
    "# TXT con formato de ancho fijo"
   ]
  },
  {
   "cell_type": "markdown",
   "metadata": {
    "collapsed": true
   },
   "source": [
    "[Contenido](#Contenido)"
   ]
  },
  {
   "cell_type": "markdown",
   "metadata": {},
   "source": [
    "> [`read.fwf {utils}`](https://stat.ethz.ch/R-manual/R-devel/library/utils/html/read.fwf.html)  \n",
    "[`write.fwf {gdata}`](http://svitsrv25.epfl.ch/R-doc/library/gdata/html/write.fwf.html)"
   ]
  },
  {
   "cell_type": "code",
   "execution_count": 22,
   "metadata": {
    "collapsed": true
   },
   "outputs": [],
   "source": [
    "# crea un archivo separado por multiples espacios en blanco.\n",
    "# los nombres de las columnas están separados por comas.\n",
    "cat(\"index,names,values,codes\",\n",
    "    \"00001john wick002.1310\",\n",
    "    \"00002mark twin003.1411\",\n",
    "    \"00003louis ng 004.3412\",\n",
    "    \"00004dan brown002.3113\",\n",
    "    \"00005ann marie004.9814\", sep = '\\n', file = 'files/data.fwf')"
   ]
  },
  {
   "cell_type": "code",
   "execution_count": 23,
   "metadata": {
    "collapsed": true
   },
   "outputs": [
    {
     "name": "stdout",
     "output_type": "stream",
     "text": [
      "  index     names values codes\n",
      "1     1 john wick   2.13    10\n",
      "2     2 mark twin   3.14    11\n",
      "3     3 louis ng    4.34    12\n",
      "4     4 dan brown   2.31    13\n",
      "5     5 ann marie   4.98    14\n"
     ]
    }
   ],
   "source": [
    "x <- read.fwf(file='files/data.fwf',    # nombre del archivo\n",
    "              widths=c(5,9,6,2),        # anchos de los campos\n",
    "              header = TRUE,            # nombres de columnas\n",
    "              sep = \",\")                # separador de los nombres de columnas\n",
    "\n",
    "print(x)"
   ]
  },
  {
   "cell_type": "markdown",
   "metadata": {},
   "source": [
    "# JSON"
   ]
  },
  {
   "cell_type": "markdown",
   "metadata": {
    "collapsed": true
   },
   "source": [
    "[Contenido](#Contenido)"
   ]
  },
  {
   "cell_type": "markdown",
   "metadata": {},
   "source": [
    "> [`toJSON {jsonlite}`](https://cran.r-project.org/web/packages/jsonlite/index.html)  \n",
    "[`fromJSON {jsonlite}`](https://cran.r-project.org/web/packages/jsonlite/index.html) \n",
    "\n",
    "> [`toJSON {rjson}`](https://cran.r-project.org/web/packages/rjson/index.html)  \n",
    "[`fromJSON {rjson}`](https://cran.r-project.org/web/packages/rjson/index.html)\n",
    "\n",
    "> JSON en [Wikipedia](https://es.wikipedia.org/wiki/JSON)  "
   ]
  },
  {
   "cell_type": "code",
   "execution_count": 24,
   "metadata": {},
   "outputs": [
    {
     "name": "stderr",
     "output_type": "stream",
     "text": [
      "\n",
      "Attaching package: 'rjson'\n",
      "\n",
      "The following objects are masked from 'package:jsonlite':\n",
      "\n",
      "    fromJSON, toJSON\n",
      "\n"
     ]
    }
   ],
   "source": [
    "# carga las librerias\n",
    "library(jsonlite)\n",
    "library(rjson)"
   ]
  },
  {
   "cell_type": "code",
   "execution_count": 25,
   "metadata": {},
   "outputs": [
    {
     "data": {
      "text/plain": [
       "[\n",
       "  {\n",
       "    \"index\": 1,\n",
       "    \"name\": \"A\",\n",
       "    \"value\": 6.44\n",
       "  },\n",
       "  {\n",
       "    \"index\": 2,\n",
       "    \"name\": \"B\",\n",
       "    \"value\": 5.42\n",
       "  },\n",
       "  {\n",
       "    \"index\": 3,\n",
       "    \"name\": \"C\",\n",
       "    \"value\": 8.42\n",
       "  },\n",
       "  {\n",
       "    \"index\": 4,\n",
       "    \"name\": \"D\",\n",
       "    \"value\": 3.82\n",
       "  },\n",
       "  {\n",
       "    \"index\": 5,\n",
       "    \"name\": \"E\",\n",
       "    \"value\": 7.82\n",
       "  }\n",
       "] "
      ]
     },
     "metadata": {},
     "output_type": "display_data"
    }
   ],
   "source": [
    "## convierte a JSON\n",
    "jsonlite::toJSON(df, pretty = TRUE)"
   ]
  },
  {
   "cell_type": "code",
   "execution_count": 26,
   "metadata": {},
   "outputs": [
    {
     "data": {
      "text/html": [
       "<table>\n",
       "<thead><tr><th></th><th scope=col>index</th><th scope=col>name</th><th scope=col>value</th></tr></thead>\n",
       "<tbody>\n",
       "\t<tr><th scope=row>1</th><td>1   </td><td>A   </td><td>6.44</td></tr>\n",
       "\t<tr><th scope=row>2</th><td>2   </td><td>B   </td><td>5.42</td></tr>\n",
       "\t<tr><th scope=row>3</th><td>3   </td><td>C   </td><td>8.42</td></tr>\n",
       "\t<tr><th scope=row>4</th><td>4   </td><td>D   </td><td>3.82</td></tr>\n",
       "\t<tr><th scope=row>5</th><td>5   </td><td>E   </td><td>7.82</td></tr>\n",
       "</tbody>\n",
       "</table>\n"
      ],
      "text/latex": [
       "\\begin{tabular}{r|lll}\n",
       "  & index & name & value\\\\\n",
       "\\hline\n",
       "\t1 & 1    & A    & 6.44\\\\\n",
       "\t2 & 2    & B    & 5.42\\\\\n",
       "\t3 & 3    & C    & 8.42\\\\\n",
       "\t4 & 4    & D    & 3.82\\\\\n",
       "\t5 & 5    & E    & 7.82\\\\\n",
       "\\end{tabular}\n"
      ],
      "text/plain": [
       "  index name value\n",
       "1     1    A  6.44\n",
       "2     2    B  5.42\n",
       "3     3    C  8.42\n",
       "4     4    D  3.82\n",
       "5     5    E  7.82"
      ]
     },
     "metadata": {},
     "output_type": "display_data"
    },
    {
     "name": "stdout",
     "output_type": "stream",
     "text": [
      "  index     names values codes\n",
      "1     1 john wick   2.13    10\n",
      "2     2 mark twin   3.14    11\n",
      "3     3 louis ng    4.34    12\n",
      "4     4 dan brown   2.31    13\n",
      "5     5 ann marie   4.98    14\n"
     ]
    }
   ],
   "source": [
    "jsonlite::fromJSON(jsonlite::toJSON(df))\n",
    "print(x)"
   ]
  },
  {
   "cell_type": "code",
   "execution_count": 27,
   "metadata": {
    "scrolled": false
   },
   "outputs": [
    {
     "data": {
      "text/html": [
       "<dl>\n",
       "\t<dt>$index</dt>\n",
       "\t\t<dd><dl>\n",
       "\t<dt>$`0`</dt>\n",
       "\t\t<dd>1</dd>\n",
       "\t<dt>$`1`</dt>\n",
       "\t\t<dd>2</dd>\n",
       "\t<dt>$`2`</dt>\n",
       "\t\t<dd>3</dd>\n",
       "\t<dt>$`3`</dt>\n",
       "\t\t<dd>4</dd>\n",
       "\t<dt>$`4`</dt>\n",
       "\t\t<dd>5</dd>\n",
       "</dl>\n",
       "</dd>\n",
       "\t<dt>$name</dt>\n",
       "\t\t<dd><dl>\n",
       "\t<dt>$`0`</dt>\n",
       "\t\t<dd>'A'</dd>\n",
       "\t<dt>$`1`</dt>\n",
       "\t\t<dd>'B'</dd>\n",
       "\t<dt>$`2`</dt>\n",
       "\t\t<dd>'C'</dd>\n",
       "\t<dt>$`3`</dt>\n",
       "\t\t<dd>'D'</dd>\n",
       "\t<dt>$`4`</dt>\n",
       "\t\t<dd>'E'</dd>\n",
       "</dl>\n",
       "</dd>\n",
       "\t<dt>$value</dt>\n",
       "\t\t<dd><dl>\n",
       "\t<dt>$`0`</dt>\n",
       "\t\t<dd>3.03</dd>\n",
       "\t<dt>$`1`</dt>\n",
       "\t\t<dd>5.14</dd>\n",
       "\t<dt>$`2`</dt>\n",
       "\t\t<dd>0.4</dd>\n",
       "\t<dt>$`3`</dt>\n",
       "\t\t<dd>1.13</dd>\n",
       "\t<dt>$`4`</dt>\n",
       "\t\t<dd>8.25</dd>\n",
       "</dl>\n",
       "</dd>\n",
       "</dl>\n"
      ],
      "text/latex": [
       "\\begin{description}\n",
       "\\item[\\$index] \\begin{description}\n",
       "\\item[\\$`0`] 1\n",
       "\\item[\\$`1`] 2\n",
       "\\item[\\$`2`] 3\n",
       "\\item[\\$`3`] 4\n",
       "\\item[\\$`4`] 5\n",
       "\\end{description}\n",
       "\n",
       "\\item[\\$name] \\begin{description}\n",
       "\\item[\\$`0`] 'A'\n",
       "\\item[\\$`1`] 'B'\n",
       "\\item[\\$`2`] 'C'\n",
       "\\item[\\$`3`] 'D'\n",
       "\\item[\\$`4`] 'E'\n",
       "\\end{description}\n",
       "\n",
       "\\item[\\$value] \\begin{description}\n",
       "\\item[\\$`0`] 3.03\n",
       "\\item[\\$`1`] 5.14\n",
       "\\item[\\$`2`] 0.4\n",
       "\\item[\\$`3`] 1.13\n",
       "\\item[\\$`4`] 8.25\n",
       "\\end{description}\n",
       "\n",
       "\\end{description}\n"
      ],
      "text/markdown": [
       "$index\n",
       ":   $`0`\n",
       ":   1\n",
       "$`1`\n",
       ":   2\n",
       "$`2`\n",
       ":   3\n",
       "$`3`\n",
       ":   4\n",
       "$`4`\n",
       ":   5\n",
       "\n",
       "\n",
       "\n",
       "$name\n",
       ":   $`0`\n",
       ":   'A'\n",
       "$`1`\n",
       ":   'B'\n",
       "$`2`\n",
       ":   'C'\n",
       "$`3`\n",
       ":   'D'\n",
       "$`4`\n",
       ":   'E'\n",
       "\n",
       "\n",
       "\n",
       "$value\n",
       ":   $`0`\n",
       ":   3.03\n",
       "$`1`\n",
       ":   5.14\n",
       "$`2`\n",
       ":   0.4\n",
       "$`3`\n",
       ":   1.13\n",
       "$`4`\n",
       ":   8.25\n",
       "\n",
       "\n",
       "\n",
       "\n",
       "\n"
      ],
      "text/plain": [
       "$index\n",
       "$index$`0`\n",
       "[1] 1\n",
       "\n",
       "$index$`1`\n",
       "[1] 2\n",
       "\n",
       "$index$`2`\n",
       "[1] 3\n",
       "\n",
       "$index$`3`\n",
       "[1] 4\n",
       "\n",
       "$index$`4`\n",
       "[1] 5\n",
       "\n",
       "\n",
       "$name\n",
       "$name$`0`\n",
       "[1] \"A\"\n",
       "\n",
       "$name$`1`\n",
       "[1] \"B\"\n",
       "\n",
       "$name$`2`\n",
       "[1] \"C\"\n",
       "\n",
       "$name$`3`\n",
       "[1] \"D\"\n",
       "\n",
       "$name$`4`\n",
       "[1] \"E\"\n",
       "\n",
       "\n",
       "$value\n",
       "$value$`0`\n",
       "[1] 3.03\n",
       "\n",
       "$value$`1`\n",
       "[1] 5.14\n",
       "\n",
       "$value$`2`\n",
       "[1] 0.4\n",
       "\n",
       "$value$`3`\n",
       "[1] 1.13\n",
       "\n",
       "$value$`4`\n",
       "[1] 8.25\n",
       "\n"
      ]
     },
     "metadata": {},
     "output_type": "display_data"
    }
   ],
   "source": [
    "x <- rjson::fromJSON(file = \"files/data.json\" )\n",
    "x"
   ]
  },
  {
   "cell_type": "markdown",
   "metadata": {},
   "source": [
    "# HTML"
   ]
  },
  {
   "cell_type": "markdown",
   "metadata": {
    "collapsed": true
   },
   "source": [
    "[Contenido](#Contenido)"
   ]
  },
  {
   "cell_type": "markdown",
   "metadata": {},
   "source": [
    "> [`rio` Package](https://cran.r-project.org/web/packages/rio/index.html): : A Swiss-Army Knife for Data I/O"
   ]
  },
  {
   "cell_type": "code",
   "execution_count": 1,
   "metadata": {},
   "outputs": [
    {
     "ename": "ERROR",
     "evalue": "Error in library(rio): there is no package called ‘rio’\n",
     "output_type": "error",
     "traceback": [
      "Error in library(rio): there is no package called ‘rio’\nTraceback:\n",
      "1. library(rio)",
      "2. stop(txt, domain = NA)"
     ]
    }
   ],
   "source": [
    "library(rio)\n",
    "export(df, 'files/data.html')\n",
    "\n",
    "# imprime el archivo creado\n",
    "cat(readLines(con = 'files/data.html', n = -1L), sep = '\\n')"
   ]
  },
  {
   "cell_type": "markdown",
   "metadata": {},
   "source": [
    "# Excel"
   ]
  },
  {
   "cell_type": "markdown",
   "metadata": {
    "collapsed": true
   },
   "source": [
    "[Contenido](#Contenido)"
   ]
  },
  {
   "cell_type": "markdown",
   "metadata": {},
   "source": [
    "> \n",
    "[`WriteXLS {WriteXLS}`](https://cran.r-project.org/web/packages/WriteXLS/)\n",
    "\n",
    "> [`read.xls {gdata}`](http://svitsrv25.epfl.ch/R-doc/library/gdata/html/read.xls.html)  \n",
    "[`read_excel {readxl}`](https://cran.r-project.org/web/packages/readxl/)  \n",
    "[`read.xlsx {xlsx}`](https://cran.r-project.org/web/packages/xlsx/)  \n",
    "[`loadWorkbook {XLConnect}`](https://cran.r-project.org/web/packages/XLConnect/)  \n",
    "[`readWorksheet {XLConnect}`](https://cran.r-project.org/web/packages/XLConnect/)  "
   ]
  },
  {
   "cell_type": "code",
   "execution_count": 29,
   "metadata": {
    "collapsed": true
   },
   "outputs": [],
   "source": [
    "## convierte el data.frame a Excel\n",
    "library(WriteXLS)\n",
    "WriteXLS(x = df, ExcelFileName = \"files/data.xls\")"
   ]
  },
  {
   "cell_type": "code",
   "execution_count": 30,
   "metadata": {},
   "outputs": [
    {
     "name": "stderr",
     "output_type": "stream",
     "text": [
      "gdata: read.xls support for 'XLS' (Excel 97-2004) files ENABLED.\n",
      "\n",
      "gdata: read.xls support for 'XLSX' (Excel 2007+) files ENABLED.\n",
      "\n",
      "Attaching package: 'gdata'\n",
      "\n",
      "The following object is masked from 'package:stats':\n",
      "\n",
      "    nobs\n",
      "\n",
      "The following object is masked from 'package:utils':\n",
      "\n",
      "    object.size\n",
      "\n",
      "The following object is masked from 'package:base':\n",
      "\n",
      "    startsWith\n",
      "\n"
     ]
    },
    {
     "name": "stdout",
     "output_type": "stream",
     "text": [
      "  index name value\n",
      "1     1    A  6.44\n",
      "2     2    B  5.42\n",
      "3     3    C  8.42\n",
      "4     4    D  3.82\n",
      "5     5    E  7.82\n"
     ]
    }
   ],
   "source": [
    "library(gdata)                   # contiene la función read.xls\n",
    "x <- read.xls(xls='files/data.xls',   # nombre del archivo\n",
    "              sheet=1)                # indice de la hoja a leer.\n",
    "print(x)"
   ]
  },
  {
   "cell_type": "code",
   "execution_count": 31,
   "metadata": {},
   "outputs": [
    {
     "name": "stderr",
     "output_type": "stream",
     "text": [
      "XLConnect 0.2-11 by Mirai Solutions GmbH [aut],\n",
      "  Martin Studer [cre],\n",
      "  The Apache Software Foundation [ctb, cph] (Apache POI, Apache Commons\n",
      "    Codec),\n",
      "  Stephen Colebourne [ctb, cph] (Joda-Time Java library)\n",
      "http://www.mirai-solutions.com ,\n",
      "http://miraisolutions.wordpress.com\n"
     ]
    },
    {
     "name": "stdout",
     "output_type": "stream",
     "text": [
      "  index name value\n",
      "1     1    A  9.48\n",
      "2     2    B  8.21\n",
      "3     3    C  6.79\n",
      "4     4    D  3.41\n",
      "5     5    E  5.19\n"
     ]
    }
   ],
   "source": [
    "library(XLConnectJars)\n",
    "library(XLConnect) \n",
    "x <- readWorksheet(loadWorkbook(\"files/data.xlsx\"),  # carga el libro\n",
    "                   sheet=1)                          # lee la hoja 1\n",
    "print(x)"
   ]
  },
  {
   "cell_type": "code",
   "execution_count": 32,
   "metadata": {},
   "outputs": [
    {
     "name": "stdout",
     "output_type": "stream",
     "text": [
      "Source: local data frame [5 x 2]\n",
      "\n",
      "  index  name\n",
      "  <dbl> <chr>\n",
      "1     1     A\n",
      "2     2     B\n",
      "3     3     C\n",
      "4     4     D\n",
      "5     5     E\n"
     ]
    }
   ],
   "source": [
    "library(readxl)  # debe instalar el paquete readxl\n",
    "x <- read_excel(\"files/data.xls\")\n",
    "print(x)"
   ]
  },
  {
   "cell_type": "code",
   "execution_count": 33,
   "metadata": {
    "scrolled": false
   },
   "outputs": [
    {
     "name": "stderr",
     "output_type": "stream",
     "text": [
      "Loading required package: rJava\n",
      "Loading required package: xlsxjars\n",
      "\n",
      "Attaching package: 'xlsx'\n",
      "\n",
      "The following objects are masked from 'package:XLConnect':\n",
      "\n",
      "    createFreezePane, createSheet, createSplitPane, getCellStyle,\n",
      "    getSheets, loadWorkbook, removeSheet, saveWorkbook, setCellStyle,\n",
      "    setColumnWidth, setRowHeight\n",
      "\n"
     ]
    },
    {
     "name": "stdout",
     "output_type": "stream",
     "text": [
      "  index name value\n",
      "1     1    A  9.48\n",
      "2     2    B  8.21\n",
      "3     3    C  6.79\n",
      "4     4    D  3.41\n",
      "5     5    E  5.19\n"
     ]
    }
   ],
   "source": [
    "library(xlsx)  \n",
    "x <- read.xlsx('files/data.xlsx',  # el archivo\n",
    "               sheetIndex = 1,     # la hoja\n",
    "               header = TRUE)      # la tabla tiene cabeceras?\n",
    "print(x)"
   ]
  },
  {
   "cell_type": "markdown",
   "metadata": {},
   "source": [
    "# HDF5"
   ]
  },
  {
   "cell_type": "markdown",
   "metadata": {
    "collapsed": true
   },
   "source": [
    "[Contenido](#Contenido)"
   ]
  },
  {
   "cell_type": "markdown",
   "metadata": {},
   "source": [
    "> Para la manipulación de modelos de datos en HDF5 se usa el paquete `hdf5` disponible en bioconductor. Para instalarlo, ejecute los siguientes comandos en el prompt de comandos del IDLE de R.\n",
    "```\n",
    "> source(\"http://bioconductor.org/biocLite.R\")  # bioconductor installer\n",
    "> biocLite(\"rhdf5\")                             # instalador del paquete\n",
    "```\n",
    "El manual de usuario se puede obtener [aquí](http://www.bioconductor.org/packages/release/bioc/vignettes/rhdf5/inst/doc/rhdf5.pdf)."
   ]
  },
  {
   "cell_type": "code",
   "execution_count": 34,
   "metadata": {},
   "outputs": [
    {
     "data": {
      "text/html": [
       "TRUE"
      ],
      "text/latex": [
       "TRUE"
      ],
      "text/markdown": [
       "TRUE"
      ],
      "text/plain": [
       "[1] TRUE"
      ]
     },
     "metadata": {},
     "output_type": "display_data"
    },
    {
     "data": {
      "text/html": [
       "TRUE"
      ],
      "text/latex": [
       "TRUE"
      ],
      "text/markdown": [
       "TRUE"
      ],
      "text/plain": [
       "[1] TRUE"
      ]
     },
     "metadata": {},
     "output_type": "display_data"
    },
    {
     "data": {
      "text/html": [
       "TRUE"
      ],
      "text/latex": [
       "TRUE"
      ],
      "text/markdown": [
       "TRUE"
      ],
      "text/plain": [
       "[1] TRUE"
      ]
     },
     "metadata": {},
     "output_type": "display_data"
    },
    {
     "data": {
      "text/html": [
       "TRUE"
      ],
      "text/latex": [
       "TRUE"
      ],
      "text/markdown": [
       "TRUE"
      ],
      "text/plain": [
       "[1] TRUE"
      ]
     },
     "metadata": {},
     "output_type": "display_data"
    },
    {
     "data": {
      "text/html": [
       "TRUE"
      ],
      "text/latex": [
       "TRUE"
      ],
      "text/markdown": [
       "TRUE"
      ],
      "text/plain": [
       "[1] TRUE"
      ]
     },
     "metadata": {},
     "output_type": "display_data"
    },
    {
     "data": {
      "text/html": [
       "<table>\n",
       "<thead><tr><th></th><th scope=col>group</th><th scope=col>name</th><th scope=col>otype</th><th scope=col>dclass</th><th scope=col>dim</th></tr></thead>\n",
       "<tbody>\n",
       "\t<tr><th scope=row>0</th><td>/        </td><td>myGroup1 </td><td>H5I_GROUP</td><td>         </td><td>         </td></tr>\n",
       "\t<tr><th scope=row>1</th><td>/        </td><td>myGroup2 </td><td>H5I_GROUP</td><td>         </td><td>         </td></tr>\n",
       "\t<tr><th scope=row>2</th><td>/        </td><td>myGroup3 </td><td>H5I_GROUP</td><td>         </td><td>         </td></tr>\n",
       "</tbody>\n",
       "</table>\n"
      ],
      "text/latex": [
       "\\begin{tabular}{r|lllll}\n",
       "  & group & name & otype & dclass & dim\\\\\n",
       "\\hline\n",
       "\t0 & /           & myGroup1    & H5I\\_GROUP &             &            \\\\\n",
       "\t1 & /           & myGroup2    & H5I\\_GROUP &             &            \\\\\n",
       "\t2 & /           & myGroup3    & H5I\\_GROUP &             &            \\\\\n",
       "\\end{tabular}\n"
      ],
      "text/plain": [
       "  group     name     otype dclass dim\n",
       "0     / myGroup1 H5I_GROUP           \n",
       "1     / myGroup2 H5I_GROUP           \n",
       "2     / myGroup3 H5I_GROUP           "
      ]
     },
     "metadata": {},
     "output_type": "display_data"
    }
   ],
   "source": [
    "# si el archivo ya existe lo borra\n",
    "if (file.exists('files/data.h5')) {\n",
    "    file.remove('files/data.h5')\n",
    "}\n",
    "\n",
    "library(rhdf5)\n",
    "h5createFile(\"files/data.h5\")                # crea el archivo\n",
    "h5createGroup(\"files/data.h5\",\"myGroup1\")    # crea un grupo\n",
    "h5createGroup(\"files/data.h5\",\"myGroup2\")    # crea otro grupo\n",
    "h5createGroup(\"files/data.h5\",\"myGroup3\")    # y otro grupo\n",
    "h5ls(\"files/data.h5\")                        # lista los grupos en el archivo"
   ]
  },
  {
   "cell_type": "code",
   "execution_count": 35,
   "metadata": {
    "collapsed": true
   },
   "outputs": [],
   "source": [
    "# se crean varios datos de diferentes tipos \n",
    "a = matrix(1:10,nr=5,nc=2)\n",
    "b = c(1, 2, 3, 4, 5)\n",
    "c = 'holamundo'"
   ]
  },
  {
   "cell_type": "code",
   "execution_count": 36,
   "metadata": {},
   "outputs": [
    {
     "name": "stdout",
     "output_type": "stream",
     "text": [
      "      group     name       otype   dclass   dim\n",
      "0         / myGroup1   H5I_GROUP               \n",
      "1 /myGroup1        a H5I_DATASET  INTEGER 5 x 2\n",
      "2 /myGroup1        b H5I_DATASET    FLOAT     5\n",
      "3 /myGroup1        c H5I_DATASET   STRING     1\n",
      "4 /myGroup1       df H5I_DATASET COMPOUND     5\n",
      "5         / myGroup2   H5I_GROUP               \n",
      "6         / myGroup3   H5I_GROUP               \n"
     ]
    }
   ],
   "source": [
    "# se escriben los contenidos de las variables al archivo \n",
    "h5write(a,  \"files/data.h5\",\"myGroup1/a\")\n",
    "h5write(b,  \"files/data.h5\",\"myGroup1/b\")\n",
    "h5write(c,  \"files/data.h5\",\"myGroup1/c\")\n",
    "h5write(df, \"files/data.h5\",\"myGroup1/df\")\n",
    "x <- h5ls(\"files/data.h5\")\n",
    "H5close()\n",
    "\n",
    "print(x)"
   ]
  },
  {
   "cell_type": "code",
   "execution_count": 37,
   "metadata": {},
   "outputs": [
    {
     "data": {
      "text/plain": [
       "HDF5 FILE\n",
       "        name /\n",
       "    filename \n",
       "\n",
       "      name     otype dclass dim\n",
       "0 myGroup1 H5I_GROUP           \n",
       "1 myGroup2 H5I_GROUP           \n",
       "2 myGroup3 H5I_GROUP           "
      ]
     },
     "metadata": {},
     "output_type": "display_data"
    }
   ],
   "source": [
    "# lectura del archivo\n",
    "h5f = H5Fopen(\"files/data.h5\")\n",
    "h5f"
   ]
  },
  {
   "cell_type": "code",
   "execution_count": 38,
   "metadata": {
    "scrolled": false
   },
   "outputs": [
    {
     "data": {
      "text/html": [
       "<dl>\n",
       "\t<dt>$a</dt>\n",
       "\t\t<dd><table>\n",
       "<tbody>\n",
       "\t<tr><td>1</td><td>6</td></tr>\n",
       "\t<tr><td>2</td><td>7</td></tr>\n",
       "\t<tr><td>3</td><td>8</td></tr>\n",
       "\t<tr><td>4</td><td>9</td></tr>\n",
       "\t<tr><td> 5</td><td>10</td></tr>\n",
       "</tbody>\n",
       "</table>\n",
       "</dd>\n",
       "\t<dt>$b</dt>\n",
       "\t\t<dd><ol class=list-inline>\n",
       "\t<li>1</li>\n",
       "\t<li>2</li>\n",
       "\t<li>3</li>\n",
       "\t<li>4</li>\n",
       "\t<li>5</li>\n",
       "</ol>\n",
       "</dd>\n",
       "\t<dt>$c</dt>\n",
       "\t\t<dd>'holamundo'</dd>\n",
       "\t<dt>$df</dt>\n",
       "\t\t<dd><table>\n",
       "<thead><tr><th></th><th scope=col>index</th><th scope=col>name</th><th scope=col>value</th></tr></thead>\n",
       "<tbody>\n",
       "\t<tr><th scope=row>1</th><td>1.00</td><td>1.00</td><td>6.44</td></tr>\n",
       "\t<tr><th scope=row>2</th><td>2.00</td><td>2.00</td><td>5.42</td></tr>\n",
       "\t<tr><th scope=row>3</th><td>3.00</td><td>3.00</td><td>8.42</td></tr>\n",
       "\t<tr><th scope=row>4</th><td>4.00</td><td>4.00</td><td>3.82</td></tr>\n",
       "\t<tr><th scope=row>5</th><td>5.00</td><td>5.00</td><td>7.82</td></tr>\n",
       "</tbody>\n",
       "</table>\n",
       "</dd>\n",
       "</dl>\n"
      ],
      "text/latex": [
       "\\begin{description}\n",
       "\\item[\\$a] \\begin{tabular}{ll}\n",
       "\t 1 & 6\\\\\n",
       "\t 2 & 7\\\\\n",
       "\t 3 & 8\\\\\n",
       "\t 4 & 9\\\\\n",
       "\t  5 & 10\\\\\n",
       "\\end{tabular}\n",
       "\n",
       "\\item[\\$b] \\begin{enumerate*}\n",
       "\\item 1\n",
       "\\item 2\n",
       "\\item 3\n",
       "\\item 4\n",
       "\\item 5\n",
       "\\end{enumerate*}\n",
       "\n",
       "\\item[\\$c] 'holamundo'\n",
       "\\item[\\$df] \\begin{tabular}{r|lll}\n",
       "  & index & name & value\\\\\n",
       "\\hline\n",
       "\t1 & 1.00 & 1.00 & 6.44\\\\\n",
       "\t2 & 2.00 & 2.00 & 5.42\\\\\n",
       "\t3 & 3.00 & 3.00 & 8.42\\\\\n",
       "\t4 & 4.00 & 4.00 & 3.82\\\\\n",
       "\t5 & 5.00 & 5.00 & 7.82\\\\\n",
       "\\end{tabular}\n",
       "\n",
       "\\end{description}\n"
      ],
      "text/plain": [
       "$a\n",
       "     [,1] [,2]\n",
       "[1,]    1    6\n",
       "[2,]    2    7\n",
       "[3,]    3    8\n",
       "[4,]    4    9\n",
       "[5,]    5   10\n",
       "\n",
       "$b\n",
       "[1] 1 2 3 4 5\n",
       "\n",
       "$c\n",
       "[1] \"holamundo\"\n",
       "\n",
       "$df\n",
       "  index name value\n",
       "1     1    1  6.44\n",
       "2     2    2  5.42\n",
       "3     3    3  8.42\n",
       "4     4    4  3.82\n",
       "5     5    5  7.82\n"
      ]
     },
     "metadata": {},
     "output_type": "display_data"
    }
   ],
   "source": [
    "h5f$myGroup1"
   ]
  },
  {
   "cell_type": "code",
   "execution_count": 39,
   "metadata": {
    "collapsed": true
   },
   "outputs": [],
   "source": [
    "H5close() # cierre de la conexión al archivo."
   ]
  },
  {
   "cell_type": "markdown",
   "metadata": {},
   "source": [
    "# STATA"
   ]
  },
  {
   "cell_type": "markdown",
   "metadata": {
    "collapsed": true
   },
   "source": [
    "[Contenido](#Contenido)"
   ]
  },
  {
   "cell_type": "markdown",
   "metadata": {},
   "source": [
    "> \n",
    "[`read.dta {foreign}`](http://www.inside-r.org/r-doc/foreign/read.dta)  \n",
    "[`write.dta {foreign}`](http://www.inside-r.org/r-doc/foreign/write.dta)"
   ]
  },
  {
   "cell_type": "code",
   "execution_count": 40,
   "metadata": {
    "collapsed": true
   },
   "outputs": [],
   "source": [
    "library(foreign)\n",
    "write.dta(df, 'files/data.dta')"
   ]
  },
  {
   "cell_type": "code",
   "execution_count": 41,
   "metadata": {},
   "outputs": [
    {
     "name": "stdout",
     "output_type": "stream",
     "text": [
      "  index name value\n",
      "1     1    A  6.44\n",
      "2     2    B  5.42\n",
      "3     3    C  8.42\n",
      "4     4    D  3.82\n",
      "5     5    E  7.82\n"
     ]
    }
   ],
   "source": [
    "x <- read.dta('files/data.dta')\n",
    "print(x)"
   ]
  },
  {
   "cell_type": "markdown",
   "metadata": {},
   "source": [
    "# SAS"
   ]
  },
  {
   "cell_type": "markdown",
   "metadata": {
    "collapsed": true
   },
   "source": [
    "[Contenido](#Contenido)"
   ]
  },
  {
   "cell_type": "markdown",
   "metadata": {},
   "source": [
    "> no hay info disponible"
   ]
  },
  {
   "cell_type": "code",
   "execution_count": 42,
   "metadata": {
    "collapsed": true
   },
   "outputs": [],
   "source": [
    "#\n",
    "# pendiente\n",
    "#"
   ]
  },
  {
   "cell_type": "markdown",
   "metadata": {},
   "source": [
    "# XBASE"
   ]
  },
  {
   "cell_type": "markdown",
   "metadata": {
    "collapsed": true
   },
   "source": [
    "[Contenido](#Contenido)"
   ]
  },
  {
   "cell_type": "markdown",
   "metadata": {},
   "source": [
    "> \n",
    "[`read.dbf {foreign}`](http://www.inside-r.org/r-doc/foreign/read.dbf)  \n",
    "[`write.dbf {foreign}`](http://www.inside-r.org/r-doc/foreign/write.dbf)"
   ]
  },
  {
   "cell_type": "code",
   "execution_count": 43,
   "metadata": {
    "collapsed": true
   },
   "outputs": [],
   "source": [
    "library(foreign)\n",
    "write.dbf(df, 'files/data.dbf')"
   ]
  },
  {
   "cell_type": "code",
   "execution_count": 44,
   "metadata": {},
   "outputs": [
    {
     "data": {
      "text/html": [
       "<table>\n",
       "<thead><tr><th></th><th scope=col>index</th><th scope=col>name</th><th scope=col>value</th></tr></thead>\n",
       "<tbody>\n",
       "\t<tr><th scope=row>1</th><td>1   </td><td>A   </td><td>6.44</td></tr>\n",
       "\t<tr><th scope=row>2</th><td>2   </td><td>B   </td><td>5.42</td></tr>\n",
       "\t<tr><th scope=row>3</th><td>3   </td><td>C   </td><td>8.42</td></tr>\n",
       "\t<tr><th scope=row>4</th><td>4   </td><td>D   </td><td>3.82</td></tr>\n",
       "\t<tr><th scope=row>5</th><td>5   </td><td>E   </td><td>7.82</td></tr>\n",
       "</tbody>\n",
       "</table>\n"
      ],
      "text/latex": [
       "\\begin{tabular}{r|lll}\n",
       "  & index & name & value\\\\\n",
       "\\hline\n",
       "\t1 & 1    & A    & 6.44\\\\\n",
       "\t2 & 2    & B    & 5.42\\\\\n",
       "\t3 & 3    & C    & 8.42\\\\\n",
       "\t4 & 4    & D    & 3.82\\\\\n",
       "\t5 & 5    & E    & 7.82\\\\\n",
       "\\end{tabular}\n"
      ],
      "text/plain": [
       "  index name value\n",
       "1     1    A  6.44\n",
       "2     2    B  5.42\n",
       "3     3    C  8.42\n",
       "4     4    D  3.82\n",
       "5     5    E  7.82"
      ]
     },
     "metadata": {},
     "output_type": "display_data"
    }
   ],
   "source": [
    "read.dbf('files/data.dbf')"
   ]
  },
  {
   "cell_type": "markdown",
   "metadata": {
    "collapsed": true
   },
   "source": [
    "# MySQL y MariaDB"
   ]
  },
  {
   "cell_type": "markdown",
   "metadata": {
    "collapsed": true
   },
   "source": [
    "[Contenido](#Contenido)"
   ]
  },
  {
   "cell_type": "markdown",
   "metadata": {
    "collapsed": true
   },
   "source": [
    "> Para estos ejemplos, la máquina local debe tener instalada la herramienta. Visite http://dev.mysql.com/downloads/ para más información.\n",
    "\n",
    "> **Nota.** A continuación se describe el proceso de instalación de MySQL.\n",
    "\n",
    "> 1. Descague el instalador y ejecutelo. Durante la instalación el sistema le suministrará un username y un password inicial. En mi caso: root@localhost y gxnM*y;_x7Vi\n",
    "2. Cuando finalice la instalación, vaya el prompt de comandos y ejecute MySQL. En OS X la ruta es `/usr/local/mysql/bin`.\n",
    "3. Como resultado se abrirá consola de comandos de MySQL.\n",
    "4. En la consola, el primer paso es reiniciar el password. Para ello, ejecute el siguiente comando en la consola:  \n",
    "`ALTER USER 'root'@'localhost' IDENTIFIED BY 'xxx';`\n",
    "5. Cree una base de datos de prueba:  \n",
    "      `CREATE DATABASE test;`\n",
    "6. Salga de MySQL con `quit`."
   ]
  },
  {
   "cell_type": "code",
   "execution_count": 45,
   "metadata": {},
   "outputs": [
    {
     "name": "stderr",
     "output_type": "stream",
     "text": [
      "Loading required package: DBI\n"
     ]
    }
   ],
   "source": [
    "# crea una conexión a la base de datos\n",
    "library(RMySQL)\n",
    "con_mysql <- dbConnect(RMySQL::MySQL(), \n",
    "                       user=\"root\", \n",
    "                       password=\"xxx\", \n",
    "                       dbname='test')"
   ]
  },
  {
   "cell_type": "code",
   "execution_count": 46,
   "metadata": {},
   "outputs": [
    {
     "data": {
      "text/plain": [
       "<MySQLResult:1852270963,0,0>"
      ]
     },
     "metadata": {},
     "output_type": "display_data"
    },
    {
     "data": {
      "text/html": [
       "TRUE"
      ],
      "text/latex": [
       "TRUE"
      ],
      "text/markdown": [
       "TRUE"
      ],
      "text/plain": [
       "[1] TRUE"
      ]
     },
     "metadata": {},
     "output_type": "display_data"
    }
   ],
   "source": [
    "# crea una tabla llamada 'mtcars' y graba el dataframe `mtcars` en ella.\n",
    "dbSendQuery(con_mysql, 'drop table if exists mtcars')   # borra la tabla si existe\n",
    "dbWriteTable(conn=con_mysql, name = 'mtcars', value = mtcars) # crea la tabla"
   ]
  },
  {
   "cell_type": "code",
   "execution_count": 47,
   "metadata": {},
   "outputs": [
    {
     "data": {
      "text/html": [
       "'mtcars'"
      ],
      "text/latex": [
       "'mtcars'"
      ],
      "text/markdown": [
       "'mtcars'"
      ],
      "text/plain": [
       "[1] \"mtcars\""
      ]
     },
     "metadata": {},
     "output_type": "display_data"
    }
   ],
   "source": [
    "# lista las tablas existentes en la base de datos actual.\n",
    "# 'mtcars'  es la tabla que se acabo de crear\n",
    "dbListTables(con_mysql)"
   ]
  },
  {
   "cell_type": "code",
   "execution_count": 48,
   "metadata": {},
   "outputs": [
    {
     "data": {
      "text/html": [
       "<table>\n",
       "<thead><tr><th></th><th scope=col>row_names</th><th scope=col>mpg</th><th scope=col>cyl</th><th scope=col>disp</th><th scope=col>hp</th><th scope=col>drat</th><th scope=col>wt</th><th scope=col>qsec</th><th scope=col>vs</th><th scope=col>am</th><th scope=col>gear</th><th scope=col>carb</th></tr></thead>\n",
       "<tbody>\n",
       "\t<tr><th scope=row>1</th><td>Fiat 128</td><td>32.4    </td><td>4       </td><td>78.7    </td><td>66      </td><td>4.08    </td><td>2.2     </td><td>19.47   </td><td>1       </td><td>1       </td><td>4       </td><td>1       </td></tr>\n",
       "\t<tr><th scope=row>2</th><td>Honda Civic</td><td>30.4       </td><td>4          </td><td>75.7       </td><td>52         </td><td>4.93       </td><td>1.615      </td><td>18.52      </td><td>1          </td><td>1          </td><td>4          </td><td>2          </td></tr>\n",
       "\t<tr><th scope=row>3</th><td>Toyota Corolla</td><td>33.9          </td><td>4             </td><td>71.1          </td><td>65            </td><td>4.22          </td><td>1.835         </td><td>19.9          </td><td>1             </td><td>1             </td><td>4             </td><td>1             </td></tr>\n",
       "\t<tr><th scope=row>4</th><td>Lotus Europa</td><td>30.4        </td><td>4           </td><td>95.1        </td><td>113         </td><td>3.77        </td><td>1.513       </td><td>16.9        </td><td>1           </td><td>1           </td><td>5           </td><td>2           </td></tr>\n",
       "</tbody>\n",
       "</table>\n"
      ],
      "text/latex": [
       "\\begin{tabular}{r|llllllllllll}\n",
       "  & row\\_names & mpg & cyl & disp & hp & drat & wt & qsec & vs & am & gear & carb\\\\\n",
       "\\hline\n",
       "\t1 & Fiat 128 & 32.4     & 4        & 78.7     & 66       & 4.08     & 2.2      & 19.47    & 1        & 1        & 4        & 1       \\\\\n",
       "\t2 & Honda Civic & 30.4        & 4           & 75.7        & 52          & 4.93        & 1.615       & 18.52       & 1           & 1           & 4           & 2          \\\\\n",
       "\t3 & Toyota Corolla & 33.9           & 4              & 71.1           & 65             & 4.22           & 1.835          & 19.9           & 1              & 1              & 4              & 1             \\\\\n",
       "\t4 & Lotus Europa & 30.4         & 4            & 95.1         & 113          & 3.77         & 1.513        & 16.9         & 1            & 1            & 5            & 2           \\\\\n",
       "\\end{tabular}\n"
      ],
      "text/plain": [
       "       row_names  mpg cyl disp  hp drat    wt  qsec vs am gear carb\n",
       "1       Fiat 128 32.4   4 78.7  66 4.08 2.200 19.47  1  1    4    1\n",
       "2    Honda Civic 30.4   4 75.7  52 4.93 1.615 18.52  1  1    4    2\n",
       "3 Toyota Corolla 33.9   4 71.1  65 4.22 1.835 19.90  1  1    4    1\n",
       "4   Lotus Europa 30.4   4 95.1 113 3.77 1.513 16.90  1  1    5    2"
      ]
     },
     "metadata": {},
     "output_type": "display_data"
    }
   ],
   "source": [
    "# obtiene los registros con mpg > 30 de la tabla.\n",
    "result = dbSendQuery(con_mysql, \"select * from mtcars where mpg > 30\")\n",
    "df = fetch(result)\n",
    "df"
   ]
  },
  {
   "cell_type": "code",
   "execution_count": 49,
   "metadata": {},
   "outputs": [
    {
     "name": "stderr",
     "output_type": "stream",
     "text": [
      "Warning message:\n",
      ": Closing open result sets"
     ]
    },
    {
     "data": {
      "text/html": [
       "TRUE"
      ],
      "text/latex": [
       "TRUE"
      ],
      "text/markdown": [
       "TRUE"
      ],
      "text/plain": [
       "[1] TRUE"
      ]
     },
     "metadata": {},
     "output_type": "display_data"
    }
   ],
   "source": [
    "dbDisconnect(con_mysql)"
   ]
  },
  {
   "cell_type": "markdown",
   "metadata": {},
   "source": [
    "# XML"
   ]
  },
  {
   "cell_type": "markdown",
   "metadata": {
    "collapsed": true
   },
   "source": [
    "[Contenido](#Contenido)"
   ]
  },
  {
   "cell_type": "markdown",
   "metadata": {},
   "source": [
    "> \n",
    "[`XML` Package](https://cran.r-project.org/web/packages/XML/index.html)  \n",
    "[`rio` Package](https://cran.r-project.org/web/packages/rio/index.html): : A Swiss-Army Knife for Data I/O\n",
    "\n",
    "> XML en [Wikipedia](https://en.wikipedia.org/wiki/XML)  "
   ]
  },
  {
   "cell_type": "code",
   "execution_count": 50,
   "metadata": {
    "collapsed": true
   },
   "outputs": [],
   "source": [
    "library(rio)\n",
    "export(df, 'files/data.xml')"
   ]
  },
  {
   "cell_type": "code",
   "execution_count": 51,
   "metadata": {},
   "outputs": [
    {
     "name": "stdout",
     "output_type": "stream",
     "text": [
      "          Observation Observation   Observation      Observation   \n",
      "row_names \"Fiat 128\"  \"Honda Civic\" \"Toyota Corolla\" \"Lotus Europa\"\n",
      "mpg       \"32.4\"      \"30.4\"        \"33.9\"           \"30.4\"        \n",
      "cyl       \"4\"         \"4\"           \"4\"              \"4\"           \n",
      "disp      \"78.7\"      \"75.7\"        \"71.1\"           \"95.1\"        \n",
      "hp        \"66\"        \"52\"          \"65\"             \"113\"         \n",
      "drat      \"4.08\"      \"4.93\"        \"4.22\"           \"3.77\"        \n",
      "wt        \"2.2\"       \"1.615\"       \"1.835\"          \"1.513\"       \n",
      "qsec      \"19.47\"     \"18.52\"       \"19.9\"           \"16.9\"        \n",
      "vs        \"1\"         \"1\"           \"1\"              \"1\"           \n",
      "am        \"1\"         \"1\"           \"1\"              \"1\"           \n",
      "gear      \"4\"         \"4\"           \"4\"              \"5\"           \n",
      "carb      \"1\"         \"2\"           \"1\"              \"2\"           \n"
     ]
    }
   ],
   "source": [
    "library(XML)\n",
    "\n",
    "## lee el archivo en formato XML\n",
    "xmlfile <- xmlTreeParse(\"files/data.xml\")\n",
    "\n",
    "##\n",
    "topxml <- xmlRoot(xmlfile)\n",
    "topxml <- xmlSApply(topxml, function(x) xmlSApply(x, xmlValue))\n",
    "\n",
    "##\n",
    "print(topxml)"
   ]
  },
  {
   "cell_type": "code",
   "execution_count": 52,
   "metadata": {},
   "outputs": [
    {
     "name": "stdout",
     "output_type": "stream",
     "text": [
      "       row_names  mpg cyl disp  hp drat    wt  qsec vs am gear carb\n",
      "1       Fiat 128 32.4   4 78.7  66 4.08   2.2 19.47  1  1    4    1\n",
      "2    Honda Civic 30.4   4 75.7  52 4.93 1.615 18.52  1  1    4    2\n",
      "3 Toyota Corolla 33.9   4 71.1  65 4.22 1.835  19.9  1  1    4    1\n",
      "4   Lotus Europa 30.4   4 95.1 113 3.77 1.513  16.9  1  1    5    2\n"
     ]
    }
   ],
   "source": [
    "xml_df <- data.frame(t(topxml),\n",
    "                     row.names=NULL)\n",
    "print(xml_df)"
   ]
  },
  {
   "cell_type": "code",
   "execution_count": 53,
   "metadata": {},
   "outputs": [
    {
     "name": "stdout",
     "output_type": "stream",
     "text": [
      "       row_names  mpg cyl disp  hp drat    wt  qsec vs am gear carb\n",
      "1       Fiat 128 32.4   4 78.7  66 4.08   2.2 19.47  1  1    4    1\n",
      "2    Honda Civic 30.4   4 75.7  52 4.93 1.615 18.52  1  1    4    2\n",
      "3 Toyota Corolla 33.9   4 71.1  65 4.22 1.835  19.9  1  1    4    1\n",
      "4   Lotus Europa 30.4   4 95.1 113 3.77 1.513  16.9  1  1    5    2\n"
     ]
    }
   ],
   "source": [
    "# otra forma\n",
    "print(xmlToDataFrame('files/data.xml'))"
   ]
  },
  {
   "cell_type": "markdown",
   "metadata": {},
   "source": [
    "# ARFF Weka"
   ]
  },
  {
   "cell_type": "markdown",
   "metadata": {
    "collapsed": true
   },
   "source": [
    "[Contenido](#Contenido)"
   ]
  },
  {
   "cell_type": "markdown",
   "metadata": {},
   "source": [
    "> \n",
    "[`read.arff {foreign}`](http://www.inside-r.org/r-doc/foreign/read.arff)  \n",
    "[`write.arff {foreign}`](http://www.inside-r.org/r-doc/foreign/write.arff)"
   ]
  },
  {
   "cell_type": "code",
   "execution_count": 54,
   "metadata": {
    "collapsed": true
   },
   "outputs": [],
   "source": [
    "## no es compatible con la librería de Python\n",
    "library(foreign)\n",
    "write.arff(x = df,\n",
    "           file = 'files/data.arff')"
   ]
  },
  {
   "cell_type": "code",
   "execution_count": 55,
   "metadata": {},
   "outputs": [
    {
     "name": "stdout",
     "output_type": "stream",
     "text": [
      "       row_names  mpg cyl disp  hp drat    wt  qsec vs am gear carb\n",
      "1       Fiat 128 32.4   4 78.7  66 4.08 2.200 19.47  1  1    4    1\n",
      "2    Honda Civic 30.4   4 75.7  52 4.93 1.615 18.52  1  1    4    2\n",
      "3 Toyota Corolla 33.9   4 71.1  65 4.22 1.835 19.90  1  1    4    1\n",
      "4   Lotus Europa 30.4   4 95.1 113 3.77 1.513 16.90  1  1    5    2\n"
     ]
    }
   ],
   "source": [
    "x <- read.arff(file = 'files/data.arff')\n",
    "print(x)"
   ]
  },
  {
   "cell_type": "markdown",
   "metadata": {},
   "source": [
    "# MPT minitab portable worksheet  "
   ]
  },
  {
   "cell_type": "markdown",
   "metadata": {
    "collapsed": true
   },
   "source": [
    "[Contenido](#Contenido)"
   ]
  },
  {
   "cell_type": "markdown",
   "metadata": {},
   "source": [
    "> \n",
    "[`read.mtp {foreign}`](http://www.inside-r.org/r-doc/foreign/read.mtp)"
   ]
  },
  {
   "cell_type": "code",
   "execution_count": 1,
   "metadata": {
    "collapsed": true
   },
   "outputs": [],
   "source": [
    "library(foreign)\n",
    "# read.mpt('data/data.mtp')"
   ]
  },
  {
   "cell_type": "markdown",
   "metadata": {},
   "source": [
    "# PDF"
   ]
  },
  {
   "cell_type": "markdown",
   "metadata": {
    "collapsed": true
   },
   "source": [
    "[Contenido](#Contenido)"
   ]
  },
  {
   "cell_type": "markdown",
   "metadata": {},
   "source": [
    "> Para leer pdfs debe tener instalado el paquete tm (text mining). El paquete `tm` usa la función `pdftotext` del sistema Unix. Para instalarla (en Unix) use homebrew.\n",
    "```\n",
    "brew install poppler\n",
    "```"
   ]
  },
  {
   "cell_type": "code",
   "execution_count": 57,
   "metadata": {},
   "outputs": [
    {
     "data": {
      "text/html": [
       "<ol class=list-inline>\n",
       "\t<li>'content'</li>\n",
       "\t<li>'meta'</li>\n",
       "</ol>\n"
      ],
      "text/latex": [
       "\\begin{enumerate*}\n",
       "\\item 'content'\n",
       "\\item 'meta'\n",
       "\\end{enumerate*}\n"
      ],
      "text/markdown": [
       "1. 'content'\n",
       "2. 'meta'\n",
       "\n",
       "\n"
      ],
      "text/plain": [
       "[1] \"content\" \"meta\"   "
      ]
     },
     "metadata": {},
     "output_type": "display_data"
    }
   ],
   "source": [
    "# Para este ejemplo se creó un archivo pdf que contiene el texto del ejemplo anterior.\n",
    "library(NLP)\n",
    "library(tm)\n",
    "pdf_reader <- readPDF(control = list(text = \"-layout\"))      # crea la función para leer el documento\n",
    "pdf_docs <- pdf_reader(elem = list(uri = 'files/data.pdf'),  # nombre del archivo\n",
    "                       language = \"en\")                      # idioma\n",
    "names(pdf_docs)"
   ]
  },
  {
   "cell_type": "code",
   "execution_count": 58,
   "metadata": {},
   "outputs": [
    {
     "data": {
      "text/plain": [
       "  author       : character(0)\n",
       "  datetimestamp: 2016-06-04 23:28:43\n",
       "  description  : character(0)\n",
       "  heading      : demo\n",
       "  id           : data.pdf\n",
       "  language     : en\n",
       "  origin       : TextEdit"
      ]
     },
     "metadata": {},
     "output_type": "display_data"
    }
   ],
   "source": [
    "# metadatos\n",
    "pdf_docs$meta"
   ]
  },
  {
   "cell_type": "code",
   "execution_count": 59,
   "metadata": {},
   "outputs": [
    {
     "data": {
      "text/html": [
       "<ol class=list-inline>\n",
       "\t<li>\"R is a programming language and software environment for\"</li>\n",
       "\t<li>\"statistical computing and graphics supported by the R Foundation\"</li>\n",
       "\t<li>\"for Statistical Computing.[3] The R language is widely used among\"</li>\n",
       "\t<li>\"statisticians and data miners for developing statistical software[4]\"</li>\n",
       "\t<li>\"and data analysis.[5] Polls, surveys of data miners, and studies of\"</li>\n",
       "\t<li>\"scholarly literature databases show that R's popularity has increased\"</li>\n",
       "\t<li>\"substantially in recent years.[6]\"</li>\n",
       "\t<li>\"\f",
       "\"</li>\n",
       "</ol>\n"
      ],
      "text/latex": [
       "\\begin{enumerate*}\n",
       "\\item \"R is a programming language and software environment for\"\n",
       "\\item \"statistical computing and graphics supported by the R Foundation\"\n",
       "\\item \"for Statistical Computing.{[}3{]} The R language is widely used among\"\n",
       "\\item \"statisticians and data miners for developing statistical software{[}4{]}\"\n",
       "\\item \"and data analysis.{[}5{]} Polls, surveys of data miners, and studies of\"\n",
       "\\item \"scholarly literature databases show that R's popularity has increased\"\n",
       "\\item \"substantially in recent years.{[}6{]}\"\n",
       "\\item \"\f",
       "\"\n",
       "\\end{enumerate*}\n"
      ],
      "text/markdown": [
       "1. \"R is a programming language and software environment for\"\n",
       "2. \"statistical computing and graphics supported by the R Foundation\"\n",
       "3. \"for Statistical Computing.[3] The R language is widely used among\"\n",
       "4. \"statisticians and data miners for developing statistical software[4]\"\n",
       "5. \"and data analysis.[5] Polls, surveys of data miners, and studies of\"\n",
       "6. \"scholarly literature databases show that R's popularity has increased\"\n",
       "7. \"substantially in recent years.[6]\"\n",
       "8. \"\f",
       "\"\n",
       "\n",
       "\n"
      ],
      "text/plain": [
       "[1] \"R is a programming language and software environment for\"             \n",
       "[2] \"statistical computing and graphics supported by the R Foundation\"     \n",
       "[3] \"for Statistical Computing.[3] The R language is widely used among\"    \n",
       "[4] \"statisticians and data miners for developing statistical software[4]\" \n",
       "[5] \"and data analysis.[5] Polls, surveys of data miners, and studies of\"  \n",
       "[6] \"scholarly literature databases show that R's popularity has increased\"\n",
       "[7] \"substantially in recent years.[6]\"                                    \n",
       "[8] \"\\f\"                                                                   "
      ]
     },
     "metadata": {},
     "output_type": "display_data"
    }
   ],
   "source": [
    "# contenido\n",
    "pdf_docs$content"
   ]
  },
  {
   "cell_type": "markdown",
   "metadata": {},
   "source": [
    "# Octave & Matlab"
   ]
  },
  {
   "cell_type": "markdown",
   "metadata": {
    "collapsed": true
   },
   "source": [
    "[Contenido](#Contenido)"
   ]
  },
  {
   "cell_type": "markdown",
   "metadata": {},
   "source": [
    "> \n",
    "[`read.octave {foreign}`](http://www.inside-r.org/r-doc/foreign/read.octave)  "
   ]
  },
  {
   "cell_type": "code",
   "execution_count": 2,
   "metadata": {
    "collapsed": true
   },
   "outputs": [],
   "source": [
    "# pendiente -- no es compatible con python sio\n",
    "# read.octave('files/data.mat')"
   ]
  },
  {
   "cell_type": "markdown",
   "metadata": {},
   "source": [
    "# SPSS"
   ]
  },
  {
   "cell_type": "markdown",
   "metadata": {
    "collapsed": true
   },
   "source": [
    "[Contenido](#Contenido)"
   ]
  },
  {
   "cell_type": "markdown",
   "metadata": {},
   "source": [
    "> \n",
    "[`read.spss {foreign}`](http://www.inside-r.org/r-doc/foreign/read.spss)"
   ]
  },
  {
   "cell_type": "code",
   "execution_count": 61,
   "metadata": {
    "collapsed": true
   },
   "outputs": [],
   "source": [
    "#\n",
    "# pendiente\n",
    "#"
   ]
  },
  {
   "cell_type": "markdown",
   "metadata": {},
   "source": [
    "# Systat"
   ]
  },
  {
   "cell_type": "markdown",
   "metadata": {
    "collapsed": true
   },
   "source": [
    "[Contenido](#Contenido)"
   ]
  },
  {
   "cell_type": "markdown",
   "metadata": {},
   "source": [
    "> [`read.systat {foreign}`](http://www.inside-r.org/r-doc/foreign/read.systat)"
   ]
  },
  {
   "cell_type": "code",
   "execution_count": 62,
   "metadata": {},
   "outputs": [
    {
     "ename": "ERROR",
     "evalue": "Error in parse(text = x, srcfile = src): <text>:2:0: unexpected end of input\n1:  read.systat(system.file(\"files/Iris.syd\", package=\"foreign\")\n   ^\n",
     "output_type": "error",
     "traceback": [
      "Error in parse(text = x, srcfile = src): <text>:2:0: unexpected end of input\n1:  read.systat(system.file(\"files/Iris.syd\", package=\"foreign\")\n   ^\nTraceback:\n"
     ]
    }
   ],
   "source": [
    "# read.systat(system.file(\"files/Iris.syd\", package=\"foreign\")"
   ]
  },
  {
   "cell_type": "markdown",
   "metadata": {},
   "source": [
    "# Mongo DB"
   ]
  },
  {
   "cell_type": "markdown",
   "metadata": {
    "collapsed": true
   },
   "source": [
    "[Contenido](#Contenido)"
   ]
  },
  {
   "cell_type": "markdown",
   "metadata": {
    "collapsed": true
   },
   "source": [
    "> Sin información disponilble"
   ]
  },
  {
   "cell_type": "code",
   "execution_count": 3,
   "metadata": {
    "collapsed": true
   },
   "outputs": [],
   "source": [
    "#\n",
    "# pendiente\n",
    "#"
   ]
  },
  {
   "cell_type": "markdown",
   "metadata": {},
   "source": [
    "# Spark"
   ]
  },
  {
   "cell_type": "markdown",
   "metadata": {
    "collapsed": true
   },
   "source": [
    "[Contenido](#Contenido)"
   ]
  },
  {
   "cell_type": "markdown",
   "metadata": {
    "collapsed": true
   },
   "source": [
    ">  Sin información disponible"
   ]
  },
  {
   "cell_type": "code",
   "execution_count": 4,
   "metadata": {
    "collapsed": true
   },
   "outputs": [],
   "source": [
    "#\n",
    "# pendiente\n",
    "# "
   ]
  },
  {
   "cell_type": "markdown",
   "metadata": {
    "collapsed": true
   },
   "source": [
    "---"
   ]
  },
  {
   "cell_type": "markdown",
   "metadata": {
    "collapsed": true
   },
   "source": [
    "[Contenido](#Contenido)"
   ]
  },
  {
   "cell_type": "markdown",
   "metadata": {},
   "source": [
    "<a rel=\"license\" href=\"http://creativecommons.org/licenses/by-nc-nd/4.0/\"><img alt=\"Licencia de Creative Commons\" style=\"border-width:0\" src=\"https://i.creativecommons.org/l/by-nc-nd/4.0/88x31.png\" /></a><br />Este obra está bajo una <a rel=\"license\" href=\"http://creativecommons.org/licenses/by-nc-nd/4.0/\">licencia de Creative Commons Reconocimiento-NoComercial-SinObraDerivada 4.0 Internacional</a>."
   ]
  }
 ],
 "metadata": {
  "kernelspec": {
   "display_name": "R",
   "language": "R",
   "name": "ir"
  },
  "language_info": {
   "codemirror_mode": "r",
   "file_extension": ".r",
   "mimetype": "text/x-r-source",
   "name": "R",
   "pygments_lexer": "r",
   "version": "3.2.3"
  }
 },
 "nbformat": 4,
 "nbformat_minor": 1
}
