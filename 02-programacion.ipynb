{
 "cells": [
  {
   "cell_type": "markdown",
   "metadata": {},
   "source": [
    "# Procesos ETVL usando R -- 2 -- Programación\n",
    "Notas de clase sobre la extracción, transformación, visualización y carga de datos usando R"
   ]
  },
  {
   "cell_type": "markdown",
   "metadata": {},
   "source": [
    "**Juan David Velásquez Henao**   \n",
    "jdvelasq@unal.edu.co  \n",
    "Universidad Nacional de Colombia, Sede Medellín  \n",
    "Facultad de Minas  \n",
    "Medellín, Colombia  \n",
    "\n",
    "[Licencia](https://github.com/jdvelasq/ETVL-R/blob/master/LICENCIA.txt)  \n",
    "[Readme](https://github.com/jdvelasq/ETVL-R/blob/master/Readme.md)"
   ]
  },
  {
   "cell_type": "markdown",
   "metadata": {},
   "source": [
    "**Software utilizado**\n",
    "\n",
    "> Este es un documento interactivo escrito como un notebook de [Jupyter](http://jupyter.org), en el cual se presenta un tutorial sobre la extracción, transformación, visualización y carga de datos usando **R** en el contexto de la ciencia de los datos. Los notebooks de Jupyter permiten incoporar simultáneamente código, texto, gráficos y ecuaciones. El código presentado en este notebook puede ejecutarse en los sistemas operativos Linux y OS X.\n",
    "\n",
    "> Haga click [aquí](https://github.com/jdvelasq/guias-de-instalacion) para obtener instrucciones detalladas sobre como instalar Jupyter en Windows y Mac OS X.\n",
    "\n",
    "> Haga clic [aquí](http://nbviewer.jupyter.org/github/jdvelasq/ETVL-R/blob/master/ETVL-R-2-programacion.ipynb) para ver la última versión de este documento en nbviewer.\n",
    "\n",
    "> Descargue la última versión de este documento a su disco duro; luego, carguelo y ejecutelo en línea en [Try Jupyter!](https://try.jupyter.org)"
   ]
  },
  {
   "cell_type": "markdown",
   "metadata": {},
   "source": [
    "#### Contenido"
   ]
  },
  {
   "cell_type": "markdown",
   "metadata": {},
   "source": [
    "> \n",
    "* [Estructuras de control](#Estructuras-de-control)\n",
    "    * [Estructura  `if`](#Estructura--if)\n",
    "    * [Estructura `for`](#Estructura-for)\n",
    "    * [Comandos `break` y `next`](#Comandos-break-y-next)\n",
    "    * [Estructura `while`](#Estructura-while)\n",
    "    * [Estructura `repeat`](#Estructura-repeat)\n",
    "* [Funciones](#Funciones)\n",
    "* [Estructuras de Datos](#Estructuras-de-Datos)\n",
    "    * [Vectores](#Vectores)\n",
    "    * [Matrices](#Matrices)\n",
    "    * [Funciones `lapply` ,  `apply` ](#Funciones-lapply-,--apply)\n",
    "    * [Data frames](#Data-frames)\n",
    "    * [Conjuntos](#Conjuntos)\n",
    "    * [Uso de listas como dicionarios](#Uso-de-listas-como-dicionarios)\n",
    "    * [Factores](#Factores)\n",
    "    * [Strings](#Strings)\n",
    "* [Impresión con formato](#Impresión-con-formato)\n",
    "* [Ejecución de Python dentro de R](#Ejecución-de-Python-dentro-de-R)"
   ]
  },
  {
   "cell_type": "markdown",
   "metadata": {},
   "source": [
    "**Bibliografía**.\n",
    "\n",
    "> [An introduction to R](https://cran.r-project.org/doc/manuals/R-intro.pdf) by W. N. Venables, D. M. Smith and the R Core Team\n"
   ]
  },
  {
   "cell_type": "markdown",
   "metadata": {},
   "source": [
    "# Estructuras de control"
   ]
  },
  {
   "cell_type": "markdown",
   "metadata": {},
   "source": [
    "## Estructura  `if`"
   ]
  },
  {
   "cell_type": "markdown",
   "metadata": {},
   "source": [
    "[Contenido](#Contenido)"
   ]
  },
  {
   "cell_type": "markdown",
   "metadata": {},
   "source": [
    "En el lenguaje R se usan las llaves (`{` y `}`) para indicar el bloque de código correspondiente a cada estructura de control."
   ]
  },
  {
   "cell_type": "code",
   "execution_count": 1,
   "metadata": {},
   "outputs": [
    {
     "name": "stdout",
     "output_type": "stream",
     "text": [
      "[1] \"Single\"\n"
     ]
    }
   ],
   "source": [
    "# x = as.integer(readline(prompt=\"Please enter an integer: \")) # no funciona en jupyter\n",
    "x = 1\n",
    "if (x < 0) {\n",
    "    x = 0\n",
    "    print('Negative changed to zero')\n",
    "} else if (x == 0) {\n",
    "    print('Zero')\n",
    "} else if (x == 1) {\n",
    "    print('Single')\n",
    "} else {\n",
    "    print('More')\n",
    "}"
   ]
  },
  {
   "cell_type": "code",
   "execution_count": 2,
   "metadata": {},
   "outputs": [
    {
     "data": {
      "text/html": [
       "'2 &gt; 1!!!'"
      ],
      "text/latex": [
       "'2 > 1!!!'"
      ],
      "text/markdown": [
       "'2 &gt; 1!!!'"
      ],
      "text/plain": [
       "[1] \"2 > 1!!!\""
      ]
     },
     "metadata": {},
     "output_type": "display_data"
    }
   ],
   "source": [
    "x <- ifelse(2 > 1, '2 > 1!!!',  ' False  ')\n",
    "x"
   ]
  },
  {
   "cell_type": "markdown",
   "metadata": {},
   "source": [
    "## Estructura `for`"
   ]
  },
  {
   "cell_type": "markdown",
   "metadata": {},
   "source": [
    "[Contenido](#Contenido)"
   ]
  },
  {
   "cell_type": "markdown",
   "metadata": {},
   "source": [
    "El comando `for` permite iterar sobre los elementos de un vector."
   ]
  },
  {
   "cell_type": "code",
   "execution_count": 3,
   "metadata": {},
   "outputs": [
    {
     "name": "stdout",
     "output_type": "stream",
     "text": [
      "cat 3 \n",
      "window 6 \n",
      "door 4 \n",
      "abcdefg 7 \n"
     ]
    }
   ],
   "source": [
    "words = c('cat', 'window', 'door', 'abcdefg')\n",
    "for (w in words)\n",
    "    cat(w, nchar(w), '\\n')"
   ]
  },
  {
   "cell_type": "markdown",
   "metadata": {},
   "source": [
    "La función `seq(n)` devuelve un objeto cuyos elementos son los enteros consecutivos desde `1` hasta `n`."
   ]
  },
  {
   "cell_type": "code",
   "execution_count": 4,
   "metadata": {},
   "outputs": [
    {
     "name": "stdout",
     "output_type": "stream",
     "text": [
      "[1] 1\n",
      "[1] 2\n",
      "[1] 3\n",
      "[1] 4\n",
      "[1] 5\n"
     ]
    }
   ],
   "source": [
    "for (i in seq(5))\n",
    "    print(i)"
   ]
  },
  {
   "cell_type": "code",
   "execution_count": 5,
   "metadata": {},
   "outputs": [
    {
     "data": {
      "text/html": [
       "<ol class=list-inline>\n",
       "\t<li>1</li>\n",
       "\t<li>2</li>\n",
       "\t<li>3</li>\n",
       "\t<li>4</li>\n",
       "\t<li>5</li>\n",
       "</ol>\n"
      ],
      "text/latex": [
       "\\begin{enumerate*}\n",
       "\\item 1\n",
       "\\item 2\n",
       "\\item 3\n",
       "\\item 4\n",
       "\\item 5\n",
       "\\end{enumerate*}\n"
      ],
      "text/markdown": [
       "1. 1\n",
       "2. 2\n",
       "3. 3\n",
       "4. 4\n",
       "5. 5\n",
       "\n",
       "\n"
      ],
      "text/plain": [
       "[1] 1 2 3 4 5"
      ]
     },
     "metadata": {},
     "output_type": "display_data"
    }
   ],
   "source": [
    "seq(5)"
   ]
  },
  {
   "cell_type": "code",
   "execution_count": 6,
   "metadata": {},
   "outputs": [
    {
     "name": "stdout",
     "output_type": "stream",
     "text": [
      "5, 6, 7, 8, 9, 10, "
     ]
    }
   ],
   "source": [
    "for (i in seq(5, 10))\n",
    "    cat(i, end = ', ', sep = '') # el argumento end indica que al final del print  \n",
    "                                 # se imprime ', ' y no retorno de carro"
   ]
  },
  {
   "cell_type": "code",
   "execution_count": 7,
   "metadata": {},
   "outputs": [
    {
     "name": "stdout",
     "output_type": "stream",
     "text": [
      "1 Mary \n",
      "2 had \n",
      "3 a \n",
      "4 little \n",
      "5 lamb \n"
     ]
    }
   ],
   "source": [
    "a = c('Mary', 'had', 'a', 'little', 'lamb')\n",
    "for (i in seq(length(a)))\n",
    "    cat(i, a[i], '\\n')"
   ]
  },
  {
   "cell_type": "markdown",
   "metadata": {},
   "source": [
    "## Comandos `break` y `next`"
   ]
  },
  {
   "cell_type": "markdown",
   "metadata": {},
   "source": [
    "[Contenido](#Contenido)"
   ]
  },
  {
   "cell_type": "markdown",
   "metadata": {},
   "source": [
    "El comando `next` causa que se ejecute una nueva iteración del ciclo `for` sin pasar por el resto del código que hace parte del cuerpo del ciclo `for`. El comando `break` causa la salida del cuerpo del ciclo `for`."
   ]
  },
  {
   "cell_type": "code",
   "execution_count": 8,
   "metadata": {},
   "outputs": [
    {
     "name": "stdout",
     "output_type": "stream",
     "text": [
      "[1] 4\n",
      "[1] 5\n",
      "[1] 6\n",
      "[1] 7\n",
      "[1] \"fin\"\n"
     ]
    }
   ],
   "source": [
    "for (n in seq(1, 10)) {\n",
    "    if (n < 4)\n",
    "        next\n",
    "    print(n)   # solo pasa por aca cuando n >= 4.\n",
    "    if (n > 6)\n",
    "        break  # interrupe el ciclo cuando n > 6.\n",
    "}\n",
    "print('fin')"
   ]
  },
  {
   "cell_type": "markdown",
   "metadata": {
    "collapsed": true
   },
   "source": [
    "## Estructura `while`"
   ]
  },
  {
   "cell_type": "markdown",
   "metadata": {},
   "source": [
    "[Contenido](#Contenido)"
   ]
  },
  {
   "cell_type": "markdown",
   "metadata": {},
   "source": [
    "El comando `while` permite iterar mientras se cumpla una condición. Al igual que en un ciclo `for`, el código perteneciente al cuerpo del `while` se identifica por identación. "
   ]
  },
  {
   "cell_type": "code",
   "execution_count": 9,
   "metadata": {},
   "outputs": [
    {
     "name": "stdout",
     "output_type": "stream",
     "text": [
      "[1] 4\n",
      "[1] 5\n",
      "[1] 6\n",
      "[1] 7\n",
      "[1] \"fin\"\n"
     ]
    }
   ],
   "source": [
    "n = 0\n",
    "while (n < 10) {  # se ejecuta mientras se cumpla que n < 5\n",
    "    if (n < 4) {\n",
    "        n <- n +1\n",
    "        next\n",
    "    }\n",
    "    print(n)   # solo pasa por aca cuando n >= 4.\n",
    "    if (n > 6)\n",
    "        break  # interrupe el ciclo cuando n > 6.\n",
    "    n = n + 1\n",
    "}   \n",
    "print('fin')"
   ]
  },
  {
   "cell_type": "markdown",
   "metadata": {},
   "source": [
    "## Estructura `repeat`"
   ]
  },
  {
   "cell_type": "markdown",
   "metadata": {},
   "source": [
    "[Contenido](#Contenido)"
   ]
  },
  {
   "cell_type": "code",
   "execution_count": 10,
   "metadata": {},
   "outputs": [
    {
     "name": "stdout",
     "output_type": "stream",
     "text": [
      "[1] 4\n",
      "[1] 5\n",
      "[1] 6\n",
      "[1] 7\n",
      "[1] \"fin\"\n"
     ]
    }
   ],
   "source": [
    "n <- 0\n",
    "repeat {  # es un ciclo infinito si no se coloca un break\n",
    "    if (n < 4) {\n",
    "        n <- n +1\n",
    "        next\n",
    "    }\n",
    "    print(n)   # solo pasa por aca cuando n >= 4.\n",
    "    if (n > 6)\n",
    "        break  # interrupe el ciclo cuando n > 6.\n",
    "    n = n + 1\n",
    "}\n",
    "print('fin')"
   ]
  },
  {
   "cell_type": "markdown",
   "metadata": {},
   "source": [
    "# Funciones"
   ]
  },
  {
   "cell_type": "markdown",
   "metadata": {},
   "source": [
    "[Contenido](#Contenido)"
   ]
  },
  {
   "cell_type": "markdown",
   "metadata": {},
   "source": [
    "Las funciones son definidas mediante la palabra reservada `function`. En el siguiente ejemplo se presenta una función que calcula la serie de Fibonnaci. "
   ]
  },
  {
   "cell_type": "code",
   "execution_count": 11,
   "metadata": {},
   "outputs": [
    {
     "name": "stdout",
     "output_type": "stream",
     "text": [
      "0  1  2  4  8  16  32  64  128  256  512  1024  \n"
     ]
    }
   ],
   "source": [
    "fib <- function(n){    \n",
    "    ## Imprime los términos de la serie de Fibbonaci que son menores que n.\n",
    "    a <- 0\n",
    "    b <- 1\n",
    "    while (a < n) {\n",
    "        cat(a, end=' ')\n",
    "        a <- b\n",
    "        b <- a + b\n",
    "    }\n",
    "    cat('\\n')\n",
    "}\n",
    "# Llama la función\n",
    "fib(2000)"
   ]
  },
  {
   "cell_type": "code",
   "execution_count": 12,
   "metadata": {},
   "outputs": [
    {
     "data": {
      "text/html": [
       "<pre class=language-r><code>function (n) \n",
       "{\n",
       "    a &lt;- 0\n",
       "    b &lt;- 1\n",
       "    while (a &lt; n) {\n",
       "        cat(a, end = \" \")\n",
       "        a &lt;- b\n",
       "        b &lt;- a + b\n",
       "    }\n",
       "    cat(\"\\n\")\n",
       "}</code></pre>"
      ],
      "text/latex": [
       "\\begin{minted}{r}\n",
       "function (n) \n",
       "\\{\n",
       "    a <- 0\n",
       "    b <- 1\n",
       "    while (a < n) \\{\n",
       "        cat(a, end = \" \")\n",
       "        a <- b\n",
       "        b <- a + b\n",
       "    \\}\n",
       "    cat(\"\\textbackslash{}n\")\n",
       "\\}\n",
       "\\end{minted}"
      ],
      "text/markdown": [
       "```r\n",
       "function (n) \n",
       "{\n",
       "    a <- 0\n",
       "    b <- 1\n",
       "    while (a < n) {\n",
       "        cat(a, end = \" \")\n",
       "        a <- b\n",
       "        b <- a + b\n",
       "    }\n",
       "    cat(\"\\n\")\n",
       "}\n",
       "```"
      ],
      "text/plain": [
       "function(n){    \n",
       "    ##<c2><a0>Imprime los t<c3><a9>rminos de la serie de Fibbonaci que son menores que n.\n",
       "    a <- 0\n",
       "    b <- 1\n",
       "    while (a < n) {\n",
       "        cat(a, end=' ')\n",
       "        a <- b\n",
       "        b <- a + b\n",
       "    }\n",
       "    cat('\\n')\n",
       "}"
      ]
     },
     "metadata": {},
     "output_type": "display_data"
    }
   ],
   "source": [
    "fib  # la función es un objeto."
   ]
  },
  {
   "cell_type": "code",
   "execution_count": 13,
   "metadata": {
    "collapsed": true
   },
   "outputs": [],
   "source": [
    "f = fib # se almacena el objeto en la variable f"
   ]
  },
  {
   "cell_type": "code",
   "execution_count": 14,
   "metadata": {},
   "outputs": [
    {
     "name": "stdout",
     "output_type": "stream",
     "text": [
      "0  1  2  4  8  16  32  64  \n"
     ]
    }
   ],
   "source": [
    "f(100)  # terminos de la serie de Fibbonaci menores que 100"
   ]
  },
  {
   "cell_type": "code",
   "execution_count": 15,
   "metadata": {},
   "outputs": [
    {
     "data": {
      "text/html": [
       "<ol class=list-inline>\n",
       "\t<li>0</li>\n",
       "\t<li>1</li>\n",
       "\t<li>2</li>\n",
       "\t<li>4</li>\n",
       "\t<li>8</li>\n",
       "\t<li>16</li>\n",
       "\t<li>32</li>\n",
       "\t<li>64</li>\n",
       "</ol>\n"
      ],
      "text/latex": [
       "\\begin{enumerate*}\n",
       "\\item 0\n",
       "\\item 1\n",
       "\\item 2\n",
       "\\item 4\n",
       "\\item 8\n",
       "\\item 16\n",
       "\\item 32\n",
       "\\item 64\n",
       "\\end{enumerate*}\n"
      ],
      "text/markdown": [
       "1. 0\n",
       "2. 1\n",
       "3. 2\n",
       "4. 4\n",
       "5. 8\n",
       "6. 16\n",
       "7. 32\n",
       "8. 64\n",
       "\n",
       "\n"
      ],
      "text/plain": [
       "[1]  0  1  2  4  8 16 32 64"
      ]
     },
     "metadata": {},
     "output_type": "display_data"
    }
   ],
   "source": [
    "# en vez de imprimir, devuelve los términos de la serie en un vector.\n",
    "fib2 <- function(n){\n",
    "    # Retorna los términos de la serie de Fibbonaci que son menores que n en una lista.\n",
    "    result = c()  # se crea un vector vacio\n",
    "    a <- 0\n",
    "    b <- 1\n",
    "    while (a < n) {        \n",
    "        result <- c(result, a)    # se agrega a al final del vector (opera como un stack)\n",
    "        a <- b\n",
    "        b <- a + b\n",
    "    }\n",
    "    result\n",
    "}\n",
    "f100 = fib2(100)    # llama la función\n",
    "f100                # imprime el resultado"
   ]
  },
  {
   "cell_type": "code",
   "execution_count": 16,
   "metadata": {},
   "outputs": [
    {
     "name": "stdout",
     "output_type": "stream",
     "text": [
      "[1] 1 2\n",
      "[1] 5 2\n",
      "[1]  1 10\n",
      "[1]  5 10\n"
     ]
    }
   ],
   "source": [
    "f <- function(a=1, b=2) {\n",
    "    c(a, b)\n",
    "}\n",
    "\n",
    "print(f())\n",
    "print(f(a=5))\n",
    "print(f(b=10))\n",
    "print(f(a=5, b=10))"
   ]
  },
  {
   "cell_type": "markdown",
   "metadata": {},
   "source": [
    "Las funciones pueden ser invocadas con una cantidad variable de argumentos.   "
   ]
  },
  {
   "cell_type": "code",
   "execution_count": 17,
   "metadata": {},
   "outputs": [
    {
     "name": "stdout",
     "output_type": "stream",
     "text": [
      "[1] 1 2 3\n"
     ]
    }
   ],
   "source": [
    "f <- function(...){ # simplemente imprime los argumentos con que se invoca\n",
    "    print(c(...))\n",
    "}\n",
    "    \n",
    "f(1, 2, 3)"
   ]
  },
  {
   "cell_type": "code",
   "execution_count": 18,
   "metadata": {},
   "outputs": [
    {
     "name": "stdout",
     "output_type": "stream",
     "text": [
      "[[1]]\n",
      "[1] 1\n",
      "\n",
      "[[2]]\n",
      "[1] 2\n",
      "\n",
      "[[3]]\n",
      "[1] 3\n",
      "\n"
     ]
    }
   ],
   "source": [
    "f <- function(...){ # simplemente imprime los argumentos con que se invoca\n",
    "    print(list(...))\n",
    "}\n",
    "    \n",
    "f(1, 2, 3)"
   ]
  },
  {
   "cell_type": "markdown",
   "metadata": {},
   "source": [
    "En el siguiente ejemplo, se está dando un valor por defecto al argumento `c`, tal que cuando la función es invocada, la variable `c` toma el valor especificado. "
   ]
  },
  {
   "cell_type": "code",
   "execution_count": 19,
   "metadata": {},
   "outputs": [
    {
     "name": "stdout",
     "output_type": "stream",
     "text": [
      "[1] 1\n",
      "[1] 2 3 4 5\n",
      "[1] \"hola\"\n"
     ]
    }
   ],
   "source": [
    "f <- function(a, ..., d = 'hola'){ \n",
    "    print(a)\n",
    "    print(c(...))\n",
    "    print(d)\n",
    "}\n",
    "    \n",
    "f(1, 2, 3, 4, 5) # el 5 no se asigna a la variable d"
   ]
  },
  {
   "cell_type": "markdown",
   "metadata": {},
   "source": [
    "Note que a diferencia del caso anterior, en el cual se hacia la llamada `f(1, 2, 3, 4, 5) `, en el siguiente ejemplo se hace explicita la asignación a la variable `c`."
   ]
  },
  {
   "cell_type": "code",
   "execution_count": 20,
   "metadata": {},
   "outputs": [
    {
     "name": "stdout",
     "output_type": "stream",
     "text": [
      "[1] 1\n",
      "[1] 2 3 4\n",
      "[1] 5\n"
     ]
    }
   ],
   "source": [
    "f(1, 2, 3, 4, d=5) # se debe indicar explicitamente que `c = 5`."
   ]
  },
  {
   "cell_type": "markdown",
   "metadata": {},
   "source": [
    "R permite el uso de funciones anónimas (que no se almacenan en una variable). En el siguiente ejemplo, se define la función `incr` la cual incrementa en la unidad su argumento."
   ]
  },
  {
   "cell_type": "code",
   "execution_count": 21,
   "metadata": {},
   "outputs": [
    {
     "data": {
      "text/html": [
       "2"
      ],
      "text/latex": [
       "2"
      ],
      "text/markdown": [
       "2"
      ],
      "text/plain": [
       "[1] 2"
      ]
     },
     "metadata": {},
     "output_type": "display_data"
    }
   ],
   "source": [
    "incr <- function(x) return(x + 1)\n",
    "\n",
    "incr(1)"
   ]
  },
  {
   "cell_type": "markdown",
   "metadata": {},
   "source": [
    "La función puede usarse directamente como una función anónima."
   ]
  },
  {
   "cell_type": "code",
   "execution_count": 22,
   "metadata": {},
   "outputs": [
    {
     "data": {
      "text/html": [
       "2"
      ],
      "text/latex": [
       "2"
      ],
      "text/markdown": [
       "2"
      ],
      "text/plain": [
       "[1] 2"
      ]
     },
     "metadata": {},
     "output_type": "display_data"
    }
   ],
   "source": [
    "(function(x) x + 1)(1) "
   ]
  },
  {
   "cell_type": "markdown",
   "metadata": {},
   "source": [
    "Las funciones pueden retornar funciones, tal como es el caso presentado a continuación donde `return` devuelve una función. Note que el valor de `n` persiste, tal que la función `f` suma `42` a su argumento y `g` suma `1` a su argumento.  "
   ]
  },
  {
   "cell_type": "code",
   "execution_count": 23,
   "metadata": {},
   "outputs": [
    {
     "data": {
      "text/html": [
       "42"
      ],
      "text/latex": [
       "42"
      ],
      "text/markdown": [
       "42"
      ],
      "text/plain": [
       "[1] 42"
      ]
     },
     "metadata": {},
     "output_type": "display_data"
    }
   ],
   "source": [
    "make_incrementor <- function(n){ \n",
    "    return (function(x) x + n)\n",
    "}\n",
    "\n",
    "f <- make_incrementor(42)\n",
    "f(0)"
   ]
  },
  {
   "cell_type": "code",
   "execution_count": 24,
   "metadata": {},
   "outputs": [
    {
     "data": {
      "text/html": [
       "43"
      ],
      "text/latex": [
       "43"
      ],
      "text/markdown": [
       "43"
      ],
      "text/plain": [
       "[1] 43"
      ]
     },
     "metadata": {},
     "output_type": "display_data"
    }
   ],
   "source": [
    "f(1)"
   ]
  },
  {
   "cell_type": "code",
   "execution_count": 25,
   "metadata": {},
   "outputs": [
    {
     "data": {
      "text/html": [
       "2"
      ],
      "text/latex": [
       "2"
      ],
      "text/markdown": [
       "2"
      ],
      "text/plain": [
       "[1] 2"
      ]
     },
     "metadata": {},
     "output_type": "display_data"
    }
   ],
   "source": [
    "g <- make_incrementor(1)\n",
    "g(1)"
   ]
  },
  {
   "cell_type": "code",
   "execution_count": null,
   "metadata": {
    "collapsed": true
   },
   "outputs": [],
   "source": []
  },
  {
   "cell_type": "markdown",
   "metadata": {},
   "source": [
    "# Estructuras de Datos"
   ]
  },
  {
   "cell_type": "markdown",
   "metadata": {},
   "source": [
    "[Contenido](#Contenido)"
   ]
  },
  {
   "cell_type": "markdown",
   "metadata": {},
   "source": [
    "## Vectores"
   ]
  },
  {
   "cell_type": "markdown",
   "metadata": {},
   "source": [
    "[Contenido](#Contenido)"
   ]
  },
  {
   "cell_type": "code",
   "execution_count": 26,
   "metadata": {},
   "outputs": [
    {
     "data": {
      "text/html": [
       "<ol class=list-inline>\n",
       "\t<li>1</li>\n",
       "\t<li>2</li>\n",
       "\t<li>3</li>\n",
       "\t<li>4</li>\n",
       "\t<li>5</li>\n",
       "</ol>\n"
      ],
      "text/latex": [
       "\\begin{enumerate*}\n",
       "\\item 1\n",
       "\\item 2\n",
       "\\item 3\n",
       "\\item 4\n",
       "\\item 5\n",
       "\\end{enumerate*}\n"
      ],
      "text/markdown": [
       "1. 1\n",
       "2. 2\n",
       "3. 3\n",
       "4. 4\n",
       "5. 5\n",
       "\n",
       "\n"
      ],
      "text/plain": [
       "[1] 1 2 3 4 5"
      ]
     },
     "metadata": {},
     "output_type": "display_data"
    }
   ],
   "source": [
    "a = c(1, 2, 3, 4, 5) # creación de la lista\n",
    "a"
   ]
  },
  {
   "cell_type": "code",
   "execution_count": 27,
   "metadata": {},
   "outputs": [
    {
     "data": {
      "text/html": [
       "<ol class=list-inline>\n",
       "\t<li>1</li>\n",
       "\t<li>2</li>\n",
       "\t<li>3</li>\n",
       "\t<li>4</li>\n",
       "\t<li>5</li>\n",
       "\t<li>6</li>\n",
       "</ol>\n"
      ],
      "text/latex": [
       "\\begin{enumerate*}\n",
       "\\item 1\n",
       "\\item 2\n",
       "\\item 3\n",
       "\\item 4\n",
       "\\item 5\n",
       "\\item 6\n",
       "\\end{enumerate*}\n"
      ],
      "text/markdown": [
       "1. 1\n",
       "2. 2\n",
       "3. 3\n",
       "4. 4\n",
       "5. 5\n",
       "6. 6\n",
       "\n",
       "\n"
      ],
      "text/plain": [
       "[1] 1 2 3 4 5 6"
      ]
     },
     "metadata": {},
     "output_type": "display_data"
    }
   ],
   "source": [
    "a <- c(a, 6) # agrega el elemento al final\n",
    "a"
   ]
  },
  {
   "cell_type": "code",
   "execution_count": 28,
   "metadata": {},
   "outputs": [
    {
     "data": {
      "text/html": [
       "<ol class=list-inline>\n",
       "\t<li>1</li>\n",
       "\t<li>2</li>\n",
       "\t<li>3</li>\n",
       "\t<li>4</li>\n",
       "\t<li>5</li>\n",
       "\t<li>6</li>\n",
       "\t<li>7</li>\n",
       "\t<li>8</li>\n",
       "\t<li>9</li>\n",
       "</ol>\n"
      ],
      "text/latex": [
       "\\begin{enumerate*}\n",
       "\\item 1\n",
       "\\item 2\n",
       "\\item 3\n",
       "\\item 4\n",
       "\\item 5\n",
       "\\item 6\n",
       "\\item 7\n",
       "\\item 8\n",
       "\\item 9\n",
       "\\end{enumerate*}\n"
      ],
      "text/markdown": [
       "1. 1\n",
       "2. 2\n",
       "3. 3\n",
       "4. 4\n",
       "5. 5\n",
       "6. 6\n",
       "7. 7\n",
       "8. 8\n",
       "9. 9\n",
       "\n",
       "\n"
      ],
      "text/plain": [
       "[1] 1 2 3 4 5 6 7 8 9"
      ]
     },
     "metadata": {},
     "output_type": "display_data"
    }
   ],
   "source": [
    "b <- c(7, 8, 9)  # crea un nuevo vector\n",
    "a <- c(a, b)    # pega el nuevo vector al final del anterior\n",
    "a"
   ]
  },
  {
   "cell_type": "code",
   "execution_count": 29,
   "metadata": {},
   "outputs": [
    {
     "data": {
      "text/html": [
       "<ol class=list-inline>\n",
       "\t<li>1</li>\n",
       "\t<li>2</li>\n",
       "\t<li>0</li>\n",
       "\t<li>3</li>\n",
       "\t<li>4</li>\n",
       "\t<li>5</li>\n",
       "\t<li>6</li>\n",
       "\t<li>7</li>\n",
       "\t<li>8</li>\n",
       "\t<li>9</li>\n",
       "</ol>\n"
      ],
      "text/latex": [
       "\\begin{enumerate*}\n",
       "\\item 1\n",
       "\\item 2\n",
       "\\item 0\n",
       "\\item 3\n",
       "\\item 4\n",
       "\\item 5\n",
       "\\item 6\n",
       "\\item 7\n",
       "\\item 8\n",
       "\\item 9\n",
       "\\end{enumerate*}\n"
      ],
      "text/markdown": [
       "1. 1\n",
       "2. 2\n",
       "3. 0\n",
       "4. 3\n",
       "5. 4\n",
       "6. 5\n",
       "7. 6\n",
       "8. 7\n",
       "9. 8\n",
       "10. 9\n",
       "\n",
       "\n"
      ],
      "text/plain": [
       " [1] 1 2 0 3 4 5 6 7 8 9"
      ]
     },
     "metadata": {},
     "output_type": "display_data"
    }
   ],
   "source": [
    "append(a, 0, 2)  # agrega el elemento 0 al vector despues de la posición 2"
   ]
  },
  {
   "cell_type": "code",
   "execution_count": 30,
   "metadata": {},
   "outputs": [
    {
     "data": {
      "text/plain": [
       "x\n",
       "a b c d \n",
       "1 2 3 4 "
      ]
     },
     "metadata": {},
     "output_type": "display_data"
    }
   ],
   "source": [
    "x = c('a', 'b', 'b', 'c', 'c', 'c', 'd', 'd', 'd', 'd') # cuenta la cantidad de veces que aparece cada elemento\n",
    "table(x)"
   ]
  },
  {
   "cell_type": "code",
   "execution_count": 31,
   "metadata": {},
   "outputs": [
    {
     "data": {
      "text/html": [
       "<ol class=list-inline>\n",
       "\t<li>1</li>\n",
       "\t<li>3</li>\n",
       "\t<li>4</li>\n",
       "\t<li>5</li>\n",
       "\t<li>6</li>\n",
       "\t<li>7</li>\n",
       "\t<li>8</li>\n",
       "\t<li>9</li>\n",
       "\t<li>10</li>\n",
       "</ol>\n"
      ],
      "text/latex": [
       "\\begin{enumerate*}\n",
       "\\item 1\n",
       "\\item 3\n",
       "\\item 4\n",
       "\\item 5\n",
       "\\item 6\n",
       "\\item 7\n",
       "\\item 8\n",
       "\\item 9\n",
       "\\item 10\n",
       "\\end{enumerate*}\n"
      ],
      "text/markdown": [
       "1. 1\n",
       "2. 3\n",
       "3. 4\n",
       "4. 5\n",
       "5. 6\n",
       "6. 7\n",
       "7. 8\n",
       "8. 9\n",
       "9. 10\n",
       "\n",
       "\n"
      ],
      "text/plain": [
       "[1]  1  3  4  5  6  7  8  9 10"
      ]
     },
     "metadata": {},
     "output_type": "display_data"
    }
   ],
   "source": [
    "x <- 1:10\n",
    "x[-2]  # remueve el elemento en la posición 2"
   ]
  },
  {
   "cell_type": "code",
   "execution_count": 32,
   "metadata": {},
   "outputs": [
    {
     "data": {
      "text/html": [
       "<ol class=list-inline>\n",
       "\t<li>2</li>\n",
       "\t<li>3</li>\n",
       "\t<li>4</li>\n",
       "\t<li>2</li>\n",
       "\t<li>3</li>\n",
       "\t<li>4</li>\n",
       "\t<li>2</li>\n",
       "\t<li>3</li>\n",
       "\t<li>4</li>\n",
       "</ol>\n"
      ],
      "text/latex": [
       "\\begin{enumerate*}\n",
       "\\item 2\n",
       "\\item 3\n",
       "\\item 4\n",
       "\\item 2\n",
       "\\item 3\n",
       "\\item 4\n",
       "\\item 2\n",
       "\\item 3\n",
       "\\item 4\n",
       "\\end{enumerate*}\n"
      ],
      "text/markdown": [
       "1. 2\n",
       "2. 3\n",
       "3. 4\n",
       "4. 2\n",
       "5. 3\n",
       "6. 4\n",
       "7. 2\n",
       "8. 3\n",
       "9. 4\n",
       "\n",
       "\n"
      ],
      "text/plain": [
       "[1] 2 3 4 2 3 4 2 3 4"
      ]
     },
     "metadata": {},
     "output_type": "display_data"
    }
   ],
   "source": [
    "x <- c(1:4, 1:4, 1:4)\n",
    "x[x != 1] # remueve los elementos iguales a 1"
   ]
  },
  {
   "cell_type": "code",
   "execution_count": 33,
   "metadata": {},
   "outputs": [
    {
     "data": {
      "text/html": [
       "<ol class=list-inline>\n",
       "\t<li>10</li>\n",
       "\t<li>9</li>\n",
       "\t<li>8</li>\n",
       "\t<li>7</li>\n",
       "\t<li>6</li>\n",
       "\t<li>5</li>\n",
       "\t<li>4</li>\n",
       "\t<li>3</li>\n",
       "\t<li>2</li>\n",
       "\t<li>1</li>\n",
       "</ol>\n"
      ],
      "text/latex": [
       "\\begin{enumerate*}\n",
       "\\item 10\n",
       "\\item 9\n",
       "\\item 8\n",
       "\\item 7\n",
       "\\item 6\n",
       "\\item 5\n",
       "\\item 4\n",
       "\\item 3\n",
       "\\item 2\n",
       "\\item 1\n",
       "\\end{enumerate*}\n"
      ],
      "text/markdown": [
       "1. 10\n",
       "2. 9\n",
       "3. 8\n",
       "4. 7\n",
       "5. 6\n",
       "6. 5\n",
       "7. 4\n",
       "8. 3\n",
       "9. 2\n",
       "10. 1\n",
       "\n",
       "\n"
      ],
      "text/plain": [
       " [1] 10  9  8  7  6  5  4  3  2  1"
      ]
     },
     "metadata": {},
     "output_type": "display_data"
    }
   ],
   "source": [
    "rev(1:10)  # invierte el vector"
   ]
  },
  {
   "cell_type": "code",
   "execution_count": 34,
   "metadata": {},
   "outputs": [
    {
     "data": {
      "text/html": [
       "<ol class=list-inline>\n",
       "\t<li>1</li>\n",
       "\t<li>2</li>\n",
       "\t<li>3</li>\n",
       "\t<li>4</li>\n",
       "\t<li>5</li>\n",
       "</ol>\n"
      ],
      "text/latex": [
       "\\begin{enumerate*}\n",
       "\\item 1\n",
       "\\item 2\n",
       "\\item 3\n",
       "\\item 4\n",
       "\\item 5\n",
       "\\end{enumerate*}\n"
      ],
      "text/markdown": [
       "1. 1\n",
       "2. 2\n",
       "3. 3\n",
       "4. 4\n",
       "5. 5\n",
       "\n",
       "\n"
      ],
      "text/plain": [
       "[1] 1 2 3 4 5"
      ]
     },
     "metadata": {},
     "output_type": "display_data"
    }
   ],
   "source": [
    "sort(c(2, 4, 1, 5, 3))  # ordena el vector"
   ]
  },
  {
   "cell_type": "code",
   "execution_count": 35,
   "metadata": {},
   "outputs": [
    {
     "data": {
      "text/html": [
       "<ol class=list-inline>\n",
       "\t<li>1</li>\n",
       "\t<li>2</li>\n",
       "\t<li>3</li>\n",
       "\t<li>4</li>\n",
       "\t<li>5</li>\n",
       "\t<li>6</li>\n",
       "\t<li>7</li>\n",
       "\t<li>8</li>\n",
       "\t<li>9</li>\n",
       "</ol>\n"
      ],
      "text/latex": [
       "\\begin{enumerate*}\n",
       "\\item 1\n",
       "\\item 2\n",
       "\\item 3\n",
       "\\item 4\n",
       "\\item 5\n",
       "\\item 6\n",
       "\\item 7\n",
       "\\item 8\n",
       "\\item 9\n",
       "\\end{enumerate*}\n"
      ],
      "text/markdown": [
       "1. 1\n",
       "2. 2\n",
       "3. 3\n",
       "4. 4\n",
       "5. 5\n",
       "6. 6\n",
       "7. 7\n",
       "8. 8\n",
       "9. 9\n",
       "\n",
       "\n"
      ],
      "text/plain": [
       "[1] 1 2 3 4 5 6 7 8 9"
      ]
     },
     "metadata": {},
     "output_type": "display_data"
    }
   ],
   "source": [
    "x <- 1:10\n",
    "x[-length(x)] # elimina el último elemento del vector."
   ]
  },
  {
   "cell_type": "code",
   "execution_count": 36,
   "metadata": {},
   "outputs": [
    {
     "data": {
      "text/html": [
       "<ol class=list-inline>\n",
       "\t<li>1</li>\n",
       "\t<li>2</li>\n",
       "\t<li>3</li>\n",
       "\t<li>4</li>\n",
       "\t<li>5</li>\n",
       "\t<li>6</li>\n",
       "\t<li>7</li>\n",
       "\t<li>8</li>\n",
       "\t<li>9</li>\n",
       "\t<li>10</li>\n",
       "</ol>\n"
      ],
      "text/latex": [
       "\\begin{enumerate*}\n",
       "\\item 1\n",
       "\\item 2\n",
       "\\item 3\n",
       "\\item 4\n",
       "\\item 5\n",
       "\\item 6\n",
       "\\item 7\n",
       "\\item 8\n",
       "\\item 9\n",
       "\\item 10\n",
       "\\end{enumerate*}\n"
      ],
      "text/markdown": [
       "1. 1\n",
       "2. 2\n",
       "3. 3\n",
       "4. 4\n",
       "5. 5\n",
       "6. 6\n",
       "7. 7\n",
       "8. 8\n",
       "9. 9\n",
       "10. 10\n",
       "\n",
       "\n"
      ],
      "text/plain": [
       " [1]  1  2  3  4  5  6  7  8  9 10"
      ]
     },
     "metadata": {},
     "output_type": "display_data"
    }
   ],
   "source": [
    "x = seq(10) # devuelve una lista\n",
    "x"
   ]
  },
  {
   "cell_type": "markdown",
   "metadata": {},
   "source": [
    "## Matrices"
   ]
  },
  {
   "cell_type": "markdown",
   "metadata": {},
   "source": [
    "[Contenido](#Contenido)"
   ]
  },
  {
   "cell_type": "markdown",
   "metadata": {},
   "source": [
    "R permite la operación directa sobre matrices."
   ]
  },
  {
   "cell_type": "code",
   "execution_count": 3,
   "metadata": {
    "scrolled": true
   },
   "outputs": [
    {
     "name": "stdout",
     "output_type": "stream",
     "text": [
      "     [,1] [,2] [,3]\n",
      "[1,]    1    5    9\n",
      "[2,]    2    6   10\n",
      "[3,]    3    7   11\n",
      "[4,]    4    8   12\n"
     ]
    }
   ],
   "source": [
    "x <- matrix(1:12, nrow = 4, ncol = 3)\n",
    "print(x)"
   ]
  },
  {
   "cell_type": "code",
   "execution_count": 1,
   "metadata": {},
   "outputs": [
    {
     "name": "stdout",
     "output_type": "stream",
     "text": [
      "     [,1] [,2] [,3] [,4]\n",
      "[1,]    1    4    7   10\n",
      "[2,]    2    5    8   11\n",
      "[3,]    3    6    9   12\n"
     ]
    }
   ],
   "source": [
    "p<- matrix(1:12, nrow=3, ncol= 4)\n",
    "print(p)"
   ]
  },
  {
   "cell_type": "code",
   "execution_count": 38,
   "metadata": {},
   "outputs": [
    {
     "data": {
      "text/html": [
       "<ol class=list-inline>\n",
       "\t<li>1</li>\n",
       "\t<li>2</li>\n",
       "\t<li>3</li>\n",
       "\t<li>4</li>\n",
       "\t<li>5</li>\n",
       "\t<li>6</li>\n",
       "\t<li>7</li>\n",
       "\t<li>8</li>\n",
       "\t<li>9</li>\n",
       "\t<li>10</li>\n",
       "\t<li>11</li>\n",
       "\t<li>12</li>\n",
       "</ol>\n"
      ],
      "text/latex": [
       "\\begin{enumerate*}\n",
       "\\item 1\n",
       "\\item 2\n",
       "\\item 3\n",
       "\\item 4\n",
       "\\item 5\n",
       "\\item 6\n",
       "\\item 7\n",
       "\\item 8\n",
       "\\item 9\n",
       "\\item 10\n",
       "\\item 11\n",
       "\\item 12\n",
       "\\end{enumerate*}\n"
      ],
      "text/markdown": [
       "1. 1\n",
       "2. 2\n",
       "3. 3\n",
       "4. 4\n",
       "5. 5\n",
       "6. 6\n",
       "7. 7\n",
       "8. 8\n",
       "9. 9\n",
       "10. 10\n",
       "11. 11\n",
       "12. 12\n",
       "\n",
       "\n"
      ],
      "text/plain": [
       " [1]  1  2  3  4  5  6  7  8  9 10 11 12"
      ]
     },
     "metadata": {},
     "output_type": "display_data"
    }
   ],
   "source": [
    "c(x)"
   ]
  },
  {
   "cell_type": "code",
   "execution_count": 39,
   "metadata": {},
   "outputs": [
    {
     "name": "stdout",
     "output_type": "stream",
     "text": [
      "     [,1] [,2] [,3] [,4]\n",
      "[1,]    1    2    3    4\n",
      "[2,]    5    6    7    8\n",
      "[3,]    9   10   11   12\n"
     ]
    }
   ],
   "source": [
    "print(t(x))"
   ]
  },
  {
   "cell_type": "code",
   "execution_count": 40,
   "metadata": {},
   "outputs": [
    {
     "name": "stdout",
     "output_type": "stream",
     "text": [
      "     [,1] [,2]\n",
      "[1,]    1    4\n",
      "[2,]    2    5\n",
      "[3,]    3    6\n"
     ]
    }
   ],
   "source": [
    "print(cbind(c(1,2,3),c(4,5,6)))  # pega por columnas"
   ]
  },
  {
   "cell_type": "code",
   "execution_count": 41,
   "metadata": {},
   "outputs": [
    {
     "name": "stdout",
     "output_type": "stream",
     "text": [
      "     [,1] [,2] [,3]\n",
      "[1,]    1    2    3\n",
      "[2,]    4    5    6\n"
     ]
    }
   ],
   "source": [
    "print(rbind(c(1,2,3),c(4,5,6))) # pega por filas"
   ]
  },
  {
   "cell_type": "code",
   "execution_count": 42,
   "metadata": {},
   "outputs": [
    {
     "data": {
      "text/html": [
       "<ol class=list-inline>\n",
       "\t<li>1</li>\n",
       "\t<li>5</li>\n",
       "\t<li>9</li>\n",
       "</ol>\n"
      ],
      "text/latex": [
       "\\begin{enumerate*}\n",
       "\\item 1\n",
       "\\item 5\n",
       "\\item 9\n",
       "\\end{enumerate*}\n"
      ],
      "text/markdown": [
       "1. 1\n",
       "2. 5\n",
       "3. 9\n",
       "\n",
       "\n"
      ],
      "text/plain": [
       "[1] 1 5 9"
      ]
     },
     "metadata": {},
     "output_type": "display_data"
    }
   ],
   "source": [
    "x[1,]"
   ]
  },
  {
   "cell_type": "code",
   "execution_count": 43,
   "metadata": {},
   "outputs": [
    {
     "data": {
      "text/html": [
       "<ol class=list-inline>\n",
       "\t<li>1</li>\n",
       "\t<li>2</li>\n",
       "\t<li>3</li>\n",
       "\t<li>4</li>\n",
       "</ol>\n"
      ],
      "text/latex": [
       "\\begin{enumerate*}\n",
       "\\item 1\n",
       "\\item 2\n",
       "\\item 3\n",
       "\\item 4\n",
       "\\end{enumerate*}\n"
      ],
      "text/markdown": [
       "1. 1\n",
       "2. 2\n",
       "3. 3\n",
       "4. 4\n",
       "\n",
       "\n"
      ],
      "text/plain": [
       "[1] 1 2 3 4"
      ]
     },
     "metadata": {},
     "output_type": "display_data"
    }
   ],
   "source": [
    "x[,1]"
   ]
  },
  {
   "cell_type": "code",
   "execution_count": 44,
   "metadata": {
    "scrolled": true
   },
   "outputs": [
    {
     "data": {
      "text/html": [
       "<ol class=list-inline>\n",
       "\t<li>6</li>\n",
       "\t<li>7</li>\n",
       "</ol>\n"
      ],
      "text/latex": [
       "\\begin{enumerate*}\n",
       "\\item 6\n",
       "\\item 7\n",
       "\\end{enumerate*}\n"
      ],
      "text/markdown": [
       "1. 6\n",
       "2. 7\n",
       "\n",
       "\n"
      ],
      "text/plain": [
       "[1] 6 7"
      ]
     },
     "metadata": {},
     "output_type": "display_data"
    }
   ],
   "source": [
    "x[c(2,3), 2]"
   ]
  },
  {
   "cell_type": "code",
   "execution_count": 6,
   "metadata": {},
   "outputs": [
    {
     "data": {
      "text/html": [
       "<ol class=list-inline>\n",
       "\t<li>9</li>\n",
       "\t<li>10</li>\n",
       "\t<li>11</li>\n",
       "</ol>\n"
      ],
      "text/latex": [
       "\\begin{enumerate*}\n",
       "\\item 9\n",
       "\\item 10\n",
       "\\item 11\n",
       "\\end{enumerate*}\n"
      ],
      "text/markdown": [
       "1. 9\n",
       "2. 10\n",
       "3. 11\n",
       "\n",
       "\n"
      ],
      "text/plain": [
       "[1]  9 10 11"
      ]
     },
     "metadata": {},
     "output_type": "display_data"
    }
   ],
   "source": [
    "x[c(1,2,3), 3] #mostrar la los elementos de las filas 1, 2 y 3 para la columna 3"
   ]
  },
  {
   "cell_type": "code",
   "execution_count": 45,
   "metadata": {},
   "outputs": [
    {
     "data": {
      "text/html": [
       "<ol class=list-inline>\n",
       "\t<li>6</li>\n",
       "\t<li>7</li>\n",
       "\t<li>8</li>\n",
       "\t<li>9</li>\n",
       "\t<li>10</li>\n",
       "\t<li>11</li>\n",
       "\t<li>12</li>\n",
       "</ol>\n"
      ],
      "text/latex": [
       "\\begin{enumerate*}\n",
       "\\item 6\n",
       "\\item 7\n",
       "\\item 8\n",
       "\\item 9\n",
       "\\item 10\n",
       "\\item 11\n",
       "\\item 12\n",
       "\\end{enumerate*}\n"
      ],
      "text/markdown": [
       "1. 6\n",
       "2. 7\n",
       "3. 8\n",
       "4. 9\n",
       "5. 10\n",
       "6. 11\n",
       "7. 12\n",
       "\n",
       "\n"
      ],
      "text/plain": [
       "[1]  6  7  8  9 10 11 12"
      ]
     },
     "metadata": {},
     "output_type": "display_data"
    }
   ],
   "source": [
    "x[x>5]  # selección lógica"
   ]
  },
  {
   "cell_type": "code",
   "execution_count": 46,
   "metadata": {},
   "outputs": [
    {
     "name": "stdout",
     "output_type": "stream",
     "text": [
      "     [,1] [,2] [,3]\n",
      "[1,]    0    5    9\n",
      "[2,]    0    6   10\n",
      "[3,]    0    7   11\n",
      "[4,]    4    8   12\n"
     ]
    }
   ],
   "source": [
    "x[x<4] <- 0\n",
    "print(x)"
   ]
  },
  {
   "cell_type": "code",
   "execution_count": 47,
   "metadata": {},
   "outputs": [
    {
     "name": "stdout",
     "output_type": "stream",
     "text": [
      "     [,1] [,2] [,3] [,4]\n",
      "[1,]    1    0    0    0\n",
      "[2,]    0    1    0    0\n",
      "[3,]    0    0    1    0\n",
      "[4,]    0    0    0    1\n"
     ]
    }
   ],
   "source": [
    "x <- matrix(0, 4, 4)\n",
    "x[seq(1,16, by = 5)] <- 1\n",
    "print(x)"
   ]
  },
  {
   "cell_type": "code",
   "execution_count": 48,
   "metadata": {},
   "outputs": [
    {
     "name": "stdout",
     "output_type": "stream",
     "text": [
      "     [,1] [,2] [,3] [,4]\n",
      "[1,]    2    5    9   13\n",
      "[2,]    2    7   10   14\n",
      "[3,]    3    7   12   15\n",
      "[4,]    4    8   12   17\n"
     ]
    }
   ],
   "source": [
    "y <- matrix(1:16, 4, 4)\n",
    "print(x + y)"
   ]
  },
  {
   "cell_type": "code",
   "execution_count": 49,
   "metadata": {},
   "outputs": [
    {
     "name": "stdout",
     "output_type": "stream",
     "text": [
      "     [,1] [,2] [,3] [,4]\n",
      "[1,]    1    0    0    0\n",
      "[2,]    0    6    0    0\n",
      "[3,]    0    0   11    0\n",
      "[4,]    0    0    0   16\n"
     ]
    }
   ],
   "source": [
    "print(x * y)"
   ]
  },
  {
   "cell_type": "code",
   "execution_count": 50,
   "metadata": {},
   "outputs": [
    {
     "name": "stdout",
     "output_type": "stream",
     "text": [
      "     [,1] [,2] [,3] [,4]\n",
      "[1,]    1    5    9   13\n",
      "[2,]    2    6   10   14\n",
      "[3,]    3    7   11   15\n",
      "[4,]    4    8   12   16\n"
     ]
    }
   ],
   "source": [
    "print(x %*% y)"
   ]
  },
  {
   "cell_type": "code",
   "execution_count": 51,
   "metadata": {},
   "outputs": [
    {
     "name": "stdout",
     "output_type": "stream",
     "text": [
      "     [,1] [,2] [,3] [,4]\n",
      "[1,]    1    0    0    0\n",
      "[2,]    0    1    0    0\n",
      "[3,]    0    0    1    0\n",
      "[4,]    0    0    0    1\n"
     ]
    }
   ],
   "source": [
    "print(solve(x))  # inversa"
   ]
  },
  {
   "cell_type": "code",
   "execution_count": 52,
   "metadata": {},
   "outputs": [
    {
     "name": "stdout",
     "output_type": "stream",
     "text": [
      "     [,1] [,2] [,3] [,4]\n",
      "[1,]    2    1    1    1\n",
      "[2,]    1    2    1    1\n",
      "[3,]    1    1    2    1\n",
      "[4,]    1    1    1    2\n"
     ]
    }
   ],
   "source": [
    "print(x + 1)"
   ]
  },
  {
   "cell_type": "markdown",
   "metadata": {},
   "source": [
    "## Funciones `lapply` ,  `apply` "
   ]
  },
  {
   "cell_type": "markdown",
   "metadata": {},
   "source": [
    "[Contenido](#Contenido)"
   ]
  },
  {
   "cell_type": "code",
   "execution_count": 53,
   "metadata": {},
   "outputs": [
    {
     "data": {
      "text/html": [
       "<ol>\n",
       "\t<li>1</li>\n",
       "\t<li>4</li>\n",
       "\t<li>9</li>\n",
       "\t<li>16</li>\n",
       "\t<li>25</li>\n",
       "\t<li>36</li>\n",
       "</ol>\n"
      ],
      "text/latex": [
       "\\begin{enumerate}\n",
       "\\item 1\n",
       "\\item 4\n",
       "\\item 9\n",
       "\\item 16\n",
       "\\item 25\n",
       "\\item 36\n",
       "\\end{enumerate}\n"
      ],
      "text/markdown": [
       "1. 1\n",
       "2. 4\n",
       "3. 9\n",
       "4. 16\n",
       "5. 25\n",
       "6. 36\n",
       "\n",
       "\n"
      ],
      "text/plain": [
       "[[1]]\n",
       "[1] 1\n",
       "\n",
       "[[2]]\n",
       "[1] 4\n",
       "\n",
       "[[3]]\n",
       "[1] 9\n",
       "\n",
       "[[4]]\n",
       "[1] 16\n",
       "\n",
       "[[5]]\n",
       "[1] 25\n",
       "\n",
       "[[6]]\n",
       "[1] 36\n"
      ]
     },
     "metadata": {},
     "output_type": "display_data"
    }
   ],
   "source": [
    "x <- 1:6\n",
    "sqrd <- function(x) x ** 2\n",
    "lapply(x, sqrd)  # aplica la función a cada elemento y devuelve una lista"
   ]
  },
  {
   "cell_type": "code",
   "execution_count": 7,
   "metadata": {},
   "outputs": [
    {
     "name": "stdout",
     "output_type": "stream",
     "text": [
      "     [,1] [,2] [,3] [,4]\n",
      "[1,]    1    5    9   13\n",
      "[2,]    2    6   10   14\n",
      "[3,]    3    7   11   15\n",
      "[4,]    4    8   12   16\n"
     ]
    }
   ],
   "source": [
    "x <- matrix(1:16, 4, 4)\n",
    "print(x)"
   ]
  },
  {
   "cell_type": "code",
   "execution_count": 55,
   "metadata": {},
   "outputs": [
    {
     "name": "stdout",
     "output_type": "stream",
     "text": [
      "[1] 28 32 36 40\n"
     ]
    }
   ],
   "source": [
    "print(apply(x, 1, sum))  # aplica la función a cada fila"
   ]
  },
  {
   "cell_type": "code",
   "execution_count": 56,
   "metadata": {
    "scrolled": true
   },
   "outputs": [
    {
     "name": "stdout",
     "output_type": "stream",
     "text": [
      "[1] 10 26 42 58\n"
     ]
    }
   ],
   "source": [
    "print(apply(x, 2, sum))  # aplica la función a cada columna"
   ]
  },
  {
   "cell_type": "code",
   "execution_count": 9,
   "metadata": {},
   "outputs": [
    {
     "name": "stdout",
     "output_type": "stream",
     "text": [
      "[1]  7  8  9 10\n"
     ]
    }
   ],
   "source": [
    "print(apply(x, 1, mean ))"
   ]
  },
  {
   "cell_type": "markdown",
   "metadata": {},
   "source": [
    "## Data frames"
   ]
  },
  {
   "cell_type": "markdown",
   "metadata": {},
   "source": [
    "[Contenido](#Contenido)"
   ]
  },
  {
   "cell_type": "markdown",
   "metadata": {},
   "source": [
    "Los dataframes son la estructura base para almacenar tablas en R. Son ampliamente usados en diferentes funciones para realizar cálculos y estimar modelos. "
   ]
  },
  {
   "cell_type": "code",
   "execution_count": 10,
   "metadata": {},
   "outputs": [
    {
     "name": "stdout",
     "output_type": "stream",
     "text": [
      "  x  y\n",
      "1 1  1\n",
      "2 2  4\n",
      "3 3  9\n",
      "4 4 16\n",
      "5 5 25\n"
     ]
    }
   ],
   "source": [
    "x <- 1:5\n",
    "y <- x ** 2\n",
    "d <- data.frame(x, y)\n",
    "print(d)"
   ]
  },
  {
   "cell_type": "code",
   "execution_count": 58,
   "metadata": {},
   "outputs": [
    {
     "name": "stdout",
     "output_type": "stream",
     "text": [
      "  x\n",
      "1 1\n",
      "2 2\n",
      "3 3\n",
      "4 4\n",
      "5 5\n"
     ]
    }
   ],
   "source": [
    "print(d['x']) # acceso a los elementos usando el nombre de las columnas"
   ]
  },
  {
   "cell_type": "code",
   "execution_count": 59,
   "metadata": {},
   "outputs": [
    {
     "name": "stdout",
     "output_type": "stream",
     "text": [
      "   y\n",
      "1  1\n",
      "2  4\n",
      "3  9\n",
      "4 16\n",
      "5 25\n"
     ]
    }
   ],
   "source": [
    "print(d['y'])"
   ]
  },
  {
   "cell_type": "code",
   "execution_count": 60,
   "metadata": {},
   "outputs": [
    {
     "name": "stdout",
     "output_type": "stream",
     "text": [
      "  x  y\n",
      "2 2  4\n",
      "3 3  9\n",
      "4 4 16\n"
     ]
    }
   ],
   "source": [
    "print(d[2:4,])  # acceso como una matriz"
   ]
  },
  {
   "cell_type": "code",
   "execution_count": 61,
   "metadata": {},
   "outputs": [
    {
     "name": "stdout",
     "output_type": "stream",
     "text": [
      "[1]  4  9 16\n"
     ]
    }
   ],
   "source": [
    "print(d[2:4,2])"
   ]
  },
  {
   "cell_type": "code",
   "execution_count": 62,
   "metadata": {},
   "outputs": [
    {
     "data": {
      "text/html": [
       "<ol class=list-inline>\n",
       "\t<li>1</li>\n",
       "\t<li>2</li>\n",
       "\t<li>3</li>\n",
       "\t<li>4</li>\n",
       "\t<li>5</li>\n",
       "</ol>\n"
      ],
      "text/latex": [
       "\\begin{enumerate*}\n",
       "\\item 1\n",
       "\\item 2\n",
       "\\item 3\n",
       "\\item 4\n",
       "\\item 5\n",
       "\\end{enumerate*}\n"
      ],
      "text/markdown": [
       "1. 1\n",
       "2. 2\n",
       "3. 3\n",
       "4. 4\n",
       "5. 5\n",
       "\n",
       "\n"
      ],
      "text/plain": [
       "[1] 1 2 3 4 5"
      ]
     },
     "metadata": {},
     "output_type": "display_data"
    }
   ],
   "source": [
    "d$x  # acceso como una lista"
   ]
  },
  {
   "cell_type": "code",
   "execution_count": 63,
   "metadata": {},
   "outputs": [
    {
     "data": {
      "text/html": [
       "<ol class=list-inline>\n",
       "\t<li>1</li>\n",
       "\t<li>4</li>\n",
       "\t<li>9</li>\n",
       "\t<li>16</li>\n",
       "\t<li>25</li>\n",
       "</ol>\n"
      ],
      "text/latex": [
       "\\begin{enumerate*}\n",
       "\\item 1\n",
       "\\item 4\n",
       "\\item 9\n",
       "\\item 16\n",
       "\\item 25\n",
       "\\end{enumerate*}\n"
      ],
      "text/markdown": [
       "1. 1\n",
       "2. 4\n",
       "3. 9\n",
       "4. 16\n",
       "5. 25\n",
       "\n",
       "\n"
      ],
      "text/plain": [
       "[1]  1  4  9 16 25"
      ]
     },
     "metadata": {},
     "output_type": "display_data"
    }
   ],
   "source": [
    "d$y # acceso como una lista"
   ]
  },
  {
   "cell_type": "code",
   "execution_count": 64,
   "metadata": {},
   "outputs": [
    {
     "name": "stdout",
     "output_type": "stream",
     "text": [
      "  x y\n",
      "1 1 1\n",
      "2 2 4\n",
      "3 3 9\n"
     ]
    }
   ],
   "source": [
    "print(head(d, n = 3)) # imprime los primeros tres registros"
   ]
  },
  {
   "cell_type": "code",
   "execution_count": 65,
   "metadata": {},
   "outputs": [
    {
     "name": "stdout",
     "output_type": "stream",
     "text": [
      "  x  y\n",
      "3 3  9\n",
      "4 4 16\n",
      "5 5 25\n"
     ]
    }
   ],
   "source": [
    "print(tail(d, n = 3))  # imprime los ultimos tres registros"
   ]
  },
  {
   "cell_type": "code",
   "execution_count": 66,
   "metadata": {
    "collapsed": true
   },
   "outputs": [],
   "source": [
    "d$nuevo = c('a', 'a', 'b', 'c', 'd')  # agrega una nueva columna"
   ]
  },
  {
   "cell_type": "code",
   "execution_count": 67,
   "metadata": {},
   "outputs": [
    {
     "name": "stdout",
     "output_type": "stream",
     "text": [
      "  x  y nuevo\n",
      "1 1  1     a\n",
      "2 2  4     a\n",
      "3 3  9     b\n",
      "4 4 16     c\n",
      "5 5 25     d\n"
     ]
    }
   ],
   "source": [
    "print(d)"
   ]
  },
  {
   "cell_type": "code",
   "execution_count": 13,
   "metadata": {},
   "outputs": [
    {
     "name": "stdout",
     "output_type": "stream",
     "text": [
      "  x  y nombre\n",
      "1 1  1      m\n",
      "2 2  4      i\n",
      "3 3  9      l\n",
      "4 4 16      t\n",
      "5 5 25      n\n"
     ]
    }
   ],
   "source": [
    "d$nombre = c('m', 'i', 'l', 't', 'n')\n",
    "print(d)"
   ]
  },
  {
   "cell_type": "code",
   "execution_count": 68,
   "metadata": {},
   "outputs": [
    {
     "name": "stdout",
     "output_type": "stream",
     "text": [
      "'data.frame':\t5 obs. of  3 variables:\n",
      " $ x    : int  1 2 3 4 5\n",
      " $ y    : num  1 4 9 16 25\n",
      " $ nuevo: chr  \"a\" \"a\" \"b\" \"c\" ...\n"
     ]
    }
   ],
   "source": [
    "str(d)"
   ]
  },
  {
   "cell_type": "code",
   "execution_count": 69,
   "metadata": {},
   "outputs": [
    {
     "name": "stdout",
     "output_type": "stream",
     "text": [
      "  x  y nuevo\n",
      "1 1  1     a\n",
      "3 3  9     b\n",
      "4 4 16     c\n",
      "5 5 25     d\n"
     ]
    }
   ],
   "source": [
    "print(d[-2,])  # elimina la segunda fila"
   ]
  },
  {
   "cell_type": "code",
   "execution_count": 70,
   "metadata": {},
   "outputs": [
    {
     "name": "stdout",
     "output_type": "stream",
     "text": [
      "  x nuevo\n",
      "1 1     a\n",
      "2 2     a\n",
      "3 3     b\n",
      "4 4     c\n",
      "5 5     d\n"
     ]
    }
   ],
   "source": [
    "print(d[,-2]) # elimina la segunda columna"
   ]
  },
  {
   "cell_type": "code",
   "execution_count": 71,
   "metadata": {},
   "outputs": [
    {
     "name": "stdout",
     "output_type": "stream",
     "text": [
      "  x  y nuevo\n",
      "1 1  1     a\n",
      "2 2  4     a\n",
      "3 3  9     b\n",
      "4 4 16     c\n",
      "5 5 25     d\n",
      "6 6 36     f\n"
     ]
    }
   ],
   "source": [
    "print(rbind(d, c(6, 36, 'f')))"
   ]
  },
  {
   "cell_type": "code",
   "execution_count": 72,
   "metadata": {},
   "outputs": [
    {
     "name": "stdout",
     "output_type": "stream",
     "text": [
      "  x  y nuevo  m\n",
      "1 1  1     a 10\n",
      "2 2  4     a 20\n",
      "3 3  9     b 30\n",
      "4 4 16     c 40\n",
      "5 5 25     d 50\n"
     ]
    }
   ],
   "source": [
    "print(cbind(d, m = seq(from=10, to=50, by=10)))"
   ]
  },
  {
   "cell_type": "markdown",
   "metadata": {},
   "source": [
    "## Conjuntos"
   ]
  },
  {
   "cell_type": "markdown",
   "metadata": {},
   "source": [
    "[Contenido](#Contenido)"
   ]
  },
  {
   "cell_type": "markdown",
   "metadata": {},
   "source": [
    "R no posee conjuntos propiamente dichos, pero es posible aplicar las funciones de conjuntos a vectores."
   ]
  },
  {
   "cell_type": "code",
   "execution_count": 73,
   "metadata": {},
   "outputs": [
    {
     "name": "stdout",
     "output_type": "stream",
     "text": [
      " [1] 1 2 3 4 5 1 2 3 4 5 1 2 3 4 5\n"
     ]
    }
   ],
   "source": [
    "x = c(1:5, 1:5, 1:5)\n",
    "print(x) "
   ]
  },
  {
   "cell_type": "code",
   "execution_count": 74,
   "metadata": {},
   "outputs": [
    {
     "name": "stdout",
     "output_type": "stream",
     "text": [
      "[1] 1 2 3 4 5\n"
     ]
    }
   ],
   "source": [
    "print(unique(x))  # extrae los elementos únicos"
   ]
  },
  {
   "cell_type": "code",
   "execution_count": 75,
   "metadata": {},
   "outputs": [
    {
     "data": {
      "text/html": [
       "<ol class=list-inline>\n",
       "\t<li>FALSE</li>\n",
       "\t<li>FALSE</li>\n",
       "\t<li>FALSE</li>\n",
       "\t<li>FALSE</li>\n",
       "\t<li>FALSE</li>\n",
       "\t<li>TRUE</li>\n",
       "\t<li>TRUE</li>\n",
       "\t<li>TRUE</li>\n",
       "\t<li>TRUE</li>\n",
       "\t<li>TRUE</li>\n",
       "\t<li>TRUE</li>\n",
       "\t<li>TRUE</li>\n",
       "\t<li>TRUE</li>\n",
       "\t<li>TRUE</li>\n",
       "\t<li>TRUE</li>\n",
       "</ol>\n"
      ],
      "text/latex": [
       "\\begin{enumerate*}\n",
       "\\item FALSE\n",
       "\\item FALSE\n",
       "\\item FALSE\n",
       "\\item FALSE\n",
       "\\item FALSE\n",
       "\\item TRUE\n",
       "\\item TRUE\n",
       "\\item TRUE\n",
       "\\item TRUE\n",
       "\\item TRUE\n",
       "\\item TRUE\n",
       "\\item TRUE\n",
       "\\item TRUE\n",
       "\\item TRUE\n",
       "\\item TRUE\n",
       "\\end{enumerate*}\n"
      ],
      "text/markdown": [
       "1. FALSE\n",
       "2. FALSE\n",
       "3. FALSE\n",
       "4. FALSE\n",
       "5. FALSE\n",
       "6. TRUE\n",
       "7. TRUE\n",
       "8. TRUE\n",
       "9. TRUE\n",
       "10. TRUE\n",
       "11. TRUE\n",
       "12. TRUE\n",
       "13. TRUE\n",
       "14. TRUE\n",
       "15. TRUE\n",
       "\n",
       "\n"
      ],
      "text/plain": [
       " [1] FALSE FALSE FALSE FALSE FALSE  TRUE  TRUE  TRUE  TRUE  TRUE  TRUE  TRUE\n",
       "[13]  TRUE  TRUE  TRUE"
      ]
     },
     "metadata": {},
     "output_type": "display_data"
    }
   ],
   "source": [
    "duplicated(x) # indica los elementos duplicados"
   ]
  },
  {
   "cell_type": "code",
   "execution_count": 76,
   "metadata": {},
   "outputs": [
    {
     "name": "stdout",
     "output_type": "stream",
     "text": [
      " [1]  1  2  3  4  5  6  7  8  9 10\n"
     ]
    }
   ],
   "source": [
    "x <- 1:7\n",
    "y <- 5:10\n",
    "print(union(x, y))"
   ]
  },
  {
   "cell_type": "code",
   "execution_count": 77,
   "metadata": {},
   "outputs": [
    {
     "name": "stdout",
     "output_type": "stream",
     "text": [
      "[1] 5 6 7\n"
     ]
    }
   ],
   "source": [
    "print(intersect(x, y))"
   ]
  },
  {
   "cell_type": "code",
   "execution_count": 78,
   "metadata": {},
   "outputs": [
    {
     "name": "stdout",
     "output_type": "stream",
     "text": [
      "[1] 1 2 3 4\n"
     ]
    }
   ],
   "source": [
    "print(setdiff(x, y))"
   ]
  },
  {
   "cell_type": "code",
   "execution_count": 79,
   "metadata": {},
   "outputs": [
    {
     "name": "stdout",
     "output_type": "stream",
     "text": [
      "[1] FALSE\n"
     ]
    }
   ],
   "source": [
    "print(setequal(x, y))"
   ]
  },
  {
   "cell_type": "code",
   "execution_count": 80,
   "metadata": {},
   "outputs": [
    {
     "name": "stdout",
     "output_type": "stream",
     "text": [
      "[1] TRUE\n"
     ]
    }
   ],
   "source": [
    "print(1 %in% x)"
   ]
  },
  {
   "cell_type": "markdown",
   "metadata": {},
   "source": [
    "## Uso de listas como dicionarios"
   ]
  },
  {
   "cell_type": "markdown",
   "metadata": {},
   "source": [
    "[Contenido](#Contenido)"
   ]
  },
  {
   "cell_type": "markdown",
   "metadata": {},
   "source": [
    "A diferencia de Python, R no posee diccionarios, pero pueden simularse usando listas o vectores."
   ]
  },
  {
   "cell_type": "code",
   "execution_count": 81,
   "metadata": {},
   "outputs": [
    {
     "data": {
      "text/html": [
       "<dl class=dl-horizontal>\n",
       "\t<dt>jack</dt>\n",
       "\t\t<dd>4098</dd>\n",
       "\t<dt>sape</dt>\n",
       "\t\t<dd>4139</dd>\n",
       "\t<dt>guido</dt>\n",
       "\t\t<dd>4127</dd>\n",
       "</dl>\n"
      ],
      "text/latex": [
       "\\begin{description*}\n",
       "\\item[jack] 4098\n",
       "\\item[sape] 4139\n",
       "\\item[guido] 4127\n",
       "\\end{description*}\n"
      ],
      "text/markdown": [
       "jack\n",
       ":   4098sape\n",
       ":   4139guido\n",
       ":   4127\n",
       "\n"
      ],
      "text/plain": [
       " jack  sape guido \n",
       " 4098  4139  4127 "
      ]
     },
     "metadata": {},
     "output_type": "display_data"
    }
   ],
   "source": [
    "tel = c(jack=4098, sape=4139) # 'jack'  y 'sape'actuan como claves y 4098 y 4139 son los valores\n",
    "tel['guido'] = 4127  # se agrega un neuvo elemento al dicicionario.\n",
    "tel"
   ]
  },
  {
   "cell_type": "code",
   "execution_count": 82,
   "metadata": {},
   "outputs": [
    {
     "data": {
      "text/html": [
       "<strong>jack:</strong> 4098"
      ],
      "text/latex": [
       "\\textbf{jack:} 4098"
      ],
      "text/markdown": [
       "**jack:** 4098"
      ],
      "text/plain": [
       "jack \n",
       "4098 "
      ]
     },
     "metadata": {},
     "output_type": "display_data"
    }
   ],
   "source": [
    "tel['jack']  # se obtiene el valor asociado a la clave 'jack'"
   ]
  },
  {
   "cell_type": "code",
   "execution_count": 83,
   "metadata": {},
   "outputs": [
    {
     "data": {
      "text/html": [
       "<ol class=list-inline>\n",
       "\t<li>'jack'</li>\n",
       "\t<li>'sape'</li>\n",
       "\t<li>'guido'</li>\n",
       "</ol>\n"
      ],
      "text/latex": [
       "\\begin{enumerate*}\n",
       "\\item 'jack'\n",
       "\\item 'sape'\n",
       "\\item 'guido'\n",
       "\\end{enumerate*}\n"
      ],
      "text/markdown": [
       "1. 'jack'\n",
       "2. 'sape'\n",
       "3. 'guido'\n",
       "\n",
       "\n"
      ],
      "text/plain": [
       "[1] \"jack\"  \"sape\"  \"guido\""
      ]
     },
     "metadata": {},
     "output_type": "display_data"
    }
   ],
   "source": [
    "names(tel)    # la función `names` imprime los nombres de los elementos."
   ]
  },
  {
   "cell_type": "code",
   "execution_count": 84,
   "metadata": {},
   "outputs": [
    {
     "data": {
      "text/html": [
       "<ol class=list-inline>\n",
       "\t<li>'guido'</li>\n",
       "\t<li>'jack'</li>\n",
       "\t<li>'sape'</li>\n",
       "</ol>\n"
      ],
      "text/latex": [
       "\\begin{enumerate*}\n",
       "\\item 'guido'\n",
       "\\item 'jack'\n",
       "\\item 'sape'\n",
       "\\end{enumerate*}\n"
      ],
      "text/markdown": [
       "1. 'guido'\n",
       "2. 'jack'\n",
       "3. 'sape'\n",
       "\n",
       "\n"
      ],
      "text/plain": [
       "[1] \"guido\" \"jack\"  \"sape\" "
      ]
     },
     "metadata": {},
     "output_type": "display_data"
    }
   ],
   "source": [
    "sort(names(tel))  # nombres ordenados."
   ]
  },
  {
   "cell_type": "code",
   "execution_count": 85,
   "metadata": {},
   "outputs": [
    {
     "data": {
      "text/html": [
       "FALSE"
      ],
      "text/latex": [
       "FALSE"
      ],
      "text/markdown": [
       "FALSE"
      ],
      "text/plain": [
       "[1] FALSE"
      ]
     },
     "metadata": {},
     "output_type": "display_data"
    }
   ],
   "source": [
    "'irv' %in% names(tel)  "
   ]
  },
  {
   "cell_type": "markdown",
   "metadata": {},
   "source": [
    "## Factores"
   ]
  },
  {
   "cell_type": "markdown",
   "metadata": {},
   "source": [
    "[Contenido](#Contenido)"
   ]
  },
  {
   "cell_type": "markdown",
   "metadata": {},
   "source": [
    "Los factores son variables categóricas, usualmente ordenadas, que representan clases.  "
   ]
  },
  {
   "cell_type": "code",
   "execution_count": 86,
   "metadata": {},
   "outputs": [
    {
     "name": "stdout",
     "output_type": "stream",
     "text": [
      "[1] A B B A\n",
      "Levels: A B\n"
     ]
    }
   ],
   "source": [
    "x <- factor(c(\"A\",\"B\",\"B\",\"A\"))\n",
    "print(x)"
   ]
  },
  {
   "cell_type": "code",
   "execution_count": 87,
   "metadata": {},
   "outputs": [
    {
     "name": "stdout",
     "output_type": "stream",
     "text": [
      " Factor w/ 2 levels \"A\",\"B\": 1 2 2 1\n"
     ]
    }
   ],
   "source": [
    "str(x)"
   ]
  },
  {
   "cell_type": "code",
   "execution_count": 88,
   "metadata": {},
   "outputs": [
    {
     "name": "stdout",
     "output_type": "stream",
     "text": [
      "[1] A B B A\n",
      "Levels: A B C\n"
     ]
    }
   ],
   "source": [
    "x <- factor(c(\"A\",\"B\",\"B\",\"A\"), levels = c('A', 'B', 'C'))\n",
    "print(x)"
   ]
  },
  {
   "cell_type": "code",
   "execution_count": 89,
   "metadata": {},
   "outputs": [
    {
     "name": "stdout",
     "output_type": "stream",
     "text": [
      " Factor w/ 3 levels \"A\",\"B\",\"C\": 1 2 2 1\n"
     ]
    }
   ],
   "source": [
    "str(x)"
   ]
  },
  {
   "cell_type": "code",
   "execution_count": 90,
   "metadata": {},
   "outputs": [
    {
     "data": {
      "text/html": [
       "B"
      ],
      "text/latex": [
       "B"
      ],
      "text/markdown": [
       "B"
      ],
      "text/plain": [
       "[1] B\n",
       "Levels: A B C"
      ]
     },
     "metadata": {},
     "output_type": "display_data"
    }
   ],
   "source": [
    "x[2]"
   ]
  },
  {
   "cell_type": "code",
   "execution_count": 91,
   "metadata": {
    "collapsed": true
   },
   "outputs": [],
   "source": [
    "x[2] <- 'C'  # se cambia el nivel "
   ]
  },
  {
   "cell_type": "code",
   "execution_count": 92,
   "metadata": {},
   "outputs": [
    {
     "name": "stdout",
     "output_type": "stream",
     "text": [
      "[1] A C B A\n",
      "Levels: A B C\n"
     ]
    }
   ],
   "source": [
    "print(x)"
   ]
  },
  {
   "cell_type": "code",
   "execution_count": 93,
   "metadata": {},
   "outputs": [
    {
     "name": "stdout",
     "output_type": "stream",
     "text": [
      " Factor w/ 4 levels \"A\",\"B\",\"C\",\"E\": 1 3 2 1\n"
     ]
    }
   ],
   "source": [
    "levels(x) <- c(levels(x), 'E') # se agrega un nuevo nivel\n",
    "str(x)"
   ]
  },
  {
   "cell_type": "markdown",
   "metadata": {
    "collapsed": true
   },
   "source": [
    "## Strings"
   ]
  },
  {
   "cell_type": "markdown",
   "metadata": {},
   "source": [
    "[Contenido](#Contenido)"
   ]
  },
  {
   "cell_type": "code",
   "execution_count": 94,
   "metadata": {},
   "outputs": [
    {
     "data": {
      "text/html": [
       "'HOLA MUNDO'"
      ],
      "text/latex": [
       "'HOLA MUNDO'"
      ],
      "text/markdown": [
       "'HOLA MUNDO'"
      ],
      "text/plain": [
       "[1] \"HOLA MUNDO\""
      ]
     },
     "metadata": {},
     "output_type": "display_data"
    }
   ],
   "source": [
    "toupper('hola mundo')"
   ]
  },
  {
   "cell_type": "code",
   "execution_count": 95,
   "metadata": {},
   "outputs": [
    {
     "data": {
      "text/html": [
       "'hola mundo'"
      ],
      "text/latex": [
       "'hola mundo'"
      ],
      "text/markdown": [
       "'hola mundo'"
      ],
      "text/plain": [
       "[1] \"hola mundo\""
      ]
     },
     "metadata": {},
     "output_type": "display_data"
    }
   ],
   "source": [
    "tolower('HOLA MUNDO')"
   ]
  },
  {
   "cell_type": "markdown",
   "metadata": {},
   "source": [
    "---"
   ]
  },
  {
   "cell_type": "markdown",
   "metadata": {},
   "source": [
    "**Ejercicio.--** Escriba una función equivalente a la función `swapcase` para los strings en Python."
   ]
  },
  {
   "cell_type": "code",
   "execution_count": 1,
   "metadata": {},
   "outputs": [
    {
     "ename": "ERROR",
     "evalue": "Error in eval(expr, envir, enclos): no se pudo encontrar la función \"swapcase\"\n",
     "output_type": "error",
     "traceback": [
      "Error in eval(expr, envir, enclos): no se pudo encontrar la función \"swapcase\"\nTraceback:\n"
     ]
    }
   ],
   "source": [
    "swapcase('Hola Mundo')"
   ]
  },
  {
   "cell_type": "markdown",
   "metadata": {},
   "source": [
    "**Ejercicio.--** Escriba una función equivalente a la función `title` para los strings en Python."
   ]
  },
  {
   "cell_type": "code",
   "execution_count": null,
   "metadata": {
    "collapsed": true
   },
   "outputs": [],
   "source": []
  },
  {
   "cell_type": "markdown",
   "metadata": {},
   "source": [
    "**Ejercicio.--** Escriba una función equivalente a la función `center` para los strings en Python."
   ]
  },
  {
   "cell_type": "code",
   "execution_count": null,
   "metadata": {
    "collapsed": true
   },
   "outputs": [],
   "source": []
  },
  {
   "cell_type": "markdown",
   "metadata": {},
   "source": [
    "**Ejercicio.--** Escriba una función equivalente a la función `ljust` para los strings en Python."
   ]
  },
  {
   "cell_type": "code",
   "execution_count": null,
   "metadata": {
    "collapsed": true
   },
   "outputs": [],
   "source": []
  },
  {
   "cell_type": "markdown",
   "metadata": {},
   "source": [
    "**Ejercicio.--** Escriba una función equivalente a la función `rjust` para los strings en Python."
   ]
  },
  {
   "cell_type": "code",
   "execution_count": null,
   "metadata": {
    "collapsed": true
   },
   "outputs": [],
   "source": []
  },
  {
   "cell_type": "markdown",
   "metadata": {},
   "source": [
    "**Ejercicio.--** Escriba una función equivalente a la función `count` para los strings en Python."
   ]
  },
  {
   "cell_type": "code",
   "execution_count": null,
   "metadata": {
    "collapsed": true
   },
   "outputs": [],
   "source": []
  },
  {
   "cell_type": "markdown",
   "metadata": {},
   "source": [
    "**Ejercicio.--** Escriba una función equivalente a la función `isalnum` para los strings en Python."
   ]
  },
  {
   "cell_type": "code",
   "execution_count": null,
   "metadata": {
    "collapsed": true
   },
   "outputs": [],
   "source": []
  },
  {
   "cell_type": "markdown",
   "metadata": {},
   "source": [
    "**Ejercicio.--** Escriba una función equivalente a la función `isalpha` para los strings en Python."
   ]
  },
  {
   "cell_type": "code",
   "execution_count": null,
   "metadata": {
    "collapsed": true
   },
   "outputs": [],
   "source": []
  },
  {
   "cell_type": "markdown",
   "metadata": {},
   "source": [
    "**Ejercicio.--** Escriba una función equivalente a la función `isdigit` para los strings en Python."
   ]
  },
  {
   "cell_type": "code",
   "execution_count": null,
   "metadata": {
    "collapsed": true
   },
   "outputs": [],
   "source": []
  },
  {
   "cell_type": "markdown",
   "metadata": {},
   "source": [
    "**Ejercicio.--** Escriba una función equivalente a la función `splitlines` para los strings en Python."
   ]
  },
  {
   "cell_type": "code",
   "execution_count": null,
   "metadata": {
    "collapsed": true
   },
   "outputs": [],
   "source": []
  },
  {
   "cell_type": "markdown",
   "metadata": {},
   "source": [
    "---"
   ]
  },
  {
   "cell_type": "code",
   "execution_count": 96,
   "metadata": {},
   "outputs": [
    {
     "data": {
      "text/html": [
       "<ol>\n",
       "\t<li><ol class=list-inline>\n",
       "\t<li>'1'</li>\n",
       "\t<li>'2'</li>\n",
       "\t<li>'3'</li>\n",
       "\t<li>'4'</li>\n",
       "\t<li>'5'</li>\n",
       "</ol>\n",
       "</li>\n",
       "</ol>\n"
      ],
      "text/latex": [
       "\\begin{enumerate}\n",
       "\\item \\begin{enumerate*}\n",
       "\\item '1'\n",
       "\\item '2'\n",
       "\\item '3'\n",
       "\\item '4'\n",
       "\\item '5'\n",
       "\\end{enumerate*}\n",
       "\n",
       "\\end{enumerate}\n"
      ],
      "text/markdown": [
       "1. 1. '1'\n",
       "2. '2'\n",
       "3. '3'\n",
       "4. '4'\n",
       "5. '5'\n",
       "\n",
       "\n",
       "\n",
       "\n",
       "\n"
      ],
      "text/plain": [
       "[[1]]\n",
       "[1] \"1\" \"2\" \"3\" \"4\" \"5\"\n"
      ]
     },
     "metadata": {},
     "output_type": "display_data"
    }
   ],
   "source": [
    "strsplit('1,2,3,4,5', ',')"
   ]
  },
  {
   "cell_type": "markdown",
   "metadata": {
    "collapsed": true
   },
   "source": [
    "`grep` retorna un vector de enteros que indican la posición de los strings que cumplen con un patrón."
   ]
  },
  {
   "cell_type": "code",
   "execution_count": 97,
   "metadata": {},
   "outputs": [
    {
     "data": {
      "text/html": [
       "<ol class=list-inline>\n",
       "\t<li>'1'</li>\n",
       "\t<li>'2'</li>\n",
       "\t<li>'3'</li>\n",
       "\t<li>'4'</li>\n",
       "\t<li>'5'</li>\n",
       "\t<li>'6'</li>\n",
       "\t<li>'7'</li>\n",
       "\t<li>'8'</li>\n",
       "\t<li>'9'</li>\n",
       "\t<li>'10'</li>\n",
       "\t<li>'11'</li>\n",
       "\t<li>'12'</li>\n",
       "\t<li>'13'</li>\n",
       "\t<li>'14'</li>\n",
       "\t<li>'15'</li>\n",
       "\t<li>'16'</li>\n",
       "\t<li>'17'</li>\n",
       "\t<li>'18'</li>\n",
       "\t<li>'19'</li>\n",
       "\t<li>'20'</li>\n",
       "</ol>\n"
      ],
      "text/latex": [
       "\\begin{enumerate*}\n",
       "\\item '1'\n",
       "\\item '2'\n",
       "\\item '3'\n",
       "\\item '4'\n",
       "\\item '5'\n",
       "\\item '6'\n",
       "\\item '7'\n",
       "\\item '8'\n",
       "\\item '9'\n",
       "\\item '10'\n",
       "\\item '11'\n",
       "\\item '12'\n",
       "\\item '13'\n",
       "\\item '14'\n",
       "\\item '15'\n",
       "\\item '16'\n",
       "\\item '17'\n",
       "\\item '18'\n",
       "\\item '19'\n",
       "\\item '20'\n",
       "\\end{enumerate*}\n"
      ],
      "text/markdown": [
       "1. '1'\n",
       "2. '2'\n",
       "3. '3'\n",
       "4. '4'\n",
       "5. '5'\n",
       "6. '6'\n",
       "7. '7'\n",
       "8. '8'\n",
       "9. '9'\n",
       "10. '10'\n",
       "11. '11'\n",
       "12. '12'\n",
       "13. '13'\n",
       "14. '14'\n",
       "15. '15'\n",
       "16. '16'\n",
       "17. '17'\n",
       "18. '18'\n",
       "19. '19'\n",
       "20. '20'\n",
       "\n",
       "\n"
      ],
      "text/plain": [
       " [1] \"1\"  \"2\"  \"3\"  \"4\"  \"5\"  \"6\"  \"7\"  \"8\"  \"9\"  \"10\" \"11\" \"12\" \"13\" \"14\" \"15\"\n",
       "[16] \"16\" \"17\" \"18\" \"19\" \"20\""
      ]
     },
     "metadata": {},
     "output_type": "display_data"
    }
   ],
   "source": [
    "sprintf('%g', 1:20)"
   ]
  },
  {
   "cell_type": "code",
   "execution_count": 98,
   "metadata": {},
   "outputs": [
    {
     "data": {
      "text/html": [
       "<ol class=list-inline>\n",
       "\t<li>'1'</li>\n",
       "\t<li>'10'</li>\n",
       "\t<li>'11'</li>\n",
       "\t<li>'12'</li>\n",
       "\t<li>'13'</li>\n",
       "\t<li>'14'</li>\n",
       "\t<li>'15'</li>\n",
       "\t<li>'16'</li>\n",
       "\t<li>'17'</li>\n",
       "\t<li>'18'</li>\n",
       "\t<li>'19'</li>\n",
       "</ol>\n"
      ],
      "text/latex": [
       "\\begin{enumerate*}\n",
       "\\item '1'\n",
       "\\item '10'\n",
       "\\item '11'\n",
       "\\item '12'\n",
       "\\item '13'\n",
       "\\item '14'\n",
       "\\item '15'\n",
       "\\item '16'\n",
       "\\item '17'\n",
       "\\item '18'\n",
       "\\item '19'\n",
       "\\end{enumerate*}\n"
      ],
      "text/markdown": [
       "1. '1'\n",
       "2. '10'\n",
       "3. '11'\n",
       "4. '12'\n",
       "5. '13'\n",
       "6. '14'\n",
       "7. '15'\n",
       "8. '16'\n",
       "9. '17'\n",
       "10. '18'\n",
       "11. '19'\n",
       "\n",
       "\n"
      ],
      "text/plain": [
       " [1] \"1\"  \"10\" \"11\" \"12\" \"13\" \"14\" \"15\" \"16\" \"17\" \"18\" \"19\""
      ]
     },
     "metadata": {},
     "output_type": "display_data"
    },
    {
     "data": {
      "text/html": [
       "<ol class=list-inline>\n",
       "\t<li>1</li>\n",
       "\t<li>10</li>\n",
       "\t<li>11</li>\n",
       "\t<li>12</li>\n",
       "\t<li>13</li>\n",
       "\t<li>14</li>\n",
       "\t<li>15</li>\n",
       "\t<li>16</li>\n",
       "\t<li>17</li>\n",
       "\t<li>18</li>\n",
       "\t<li>19</li>\n",
       "</ol>\n"
      ],
      "text/latex": [
       "\\begin{enumerate*}\n",
       "\\item 1\n",
       "\\item 10\n",
       "\\item 11\n",
       "\\item 12\n",
       "\\item 13\n",
       "\\item 14\n",
       "\\item 15\n",
       "\\item 16\n",
       "\\item 17\n",
       "\\item 18\n",
       "\\item 19\n",
       "\\end{enumerate*}\n"
      ],
      "text/markdown": [
       "1. 1\n",
       "2. 10\n",
       "3. 11\n",
       "4. 12\n",
       "5. 13\n",
       "6. 14\n",
       "7. 15\n",
       "8. 16\n",
       "9. 17\n",
       "10. 18\n",
       "11. 19\n",
       "\n",
       "\n"
      ],
      "text/plain": [
       " [1]  1 10 11 12 13 14 15 16 17 18 19"
      ]
     },
     "metadata": {},
     "output_type": "display_data"
    }
   ],
   "source": [
    "x <- sprintf('%g', 1:20)\n",
    "x[grep('1', x)]\n",
    "grep('1', x)"
   ]
  },
  {
   "cell_type": "code",
   "execution_count": 99,
   "metadata": {},
   "outputs": [
    {
     "data": {
      "text/html": [
       "<ol class=list-inline>\n",
       "\t<li>'1'</li>\n",
       "\t<li>'11'</li>\n",
       "\t<li>'21'</li>\n",
       "\t<li>'31'</li>\n",
       "\t<li>'41'</li>\n",
       "\t<li>'51'</li>\n",
       "\t<li>'61'</li>\n",
       "\t<li>'71'</li>\n",
       "\t<li>'81'</li>\n",
       "\t<li>'91'</li>\n",
       "</ol>\n"
      ],
      "text/latex": [
       "\\begin{enumerate*}\n",
       "\\item '1'\n",
       "\\item '11'\n",
       "\\item '21'\n",
       "\\item '31'\n",
       "\\item '41'\n",
       "\\item '51'\n",
       "\\item '61'\n",
       "\\item '71'\n",
       "\\item '81'\n",
       "\\item '91'\n",
       "\\end{enumerate*}\n"
      ],
      "text/markdown": [
       "1. '1'\n",
       "2. '11'\n",
       "3. '21'\n",
       "4. '31'\n",
       "5. '41'\n",
       "6. '51'\n",
       "7. '61'\n",
       "8. '71'\n",
       "9. '81'\n",
       "10. '91'\n",
       "\n",
       "\n"
      ],
      "text/plain": [
       " [1] \"1\"  \"11\" \"21\" \"31\" \"41\" \"51\" \"61\" \"71\" \"81\" \"91\""
      ]
     },
     "metadata": {},
     "output_type": "display_data"
    }
   ],
   "source": [
    "x <- sprintf('%g', 1:100)\n",
    "x[grep('1$', x)]  # **Imprima los números del 1 al 100 que finalicen con un '1'.**"
   ]
  },
  {
   "cell_type": "code",
   "execution_count": 100,
   "metadata": {},
   "outputs": [
    {
     "data": {
      "text/html": [
       "<ol class=list-inline>\n",
       "\t<li>'1'</li>\n",
       "\t<li>'10'</li>\n",
       "\t<li>'11'</li>\n",
       "\t<li>'12'</li>\n",
       "\t<li>'13'</li>\n",
       "\t<li>'14'</li>\n",
       "\t<li>'15'</li>\n",
       "\t<li>'16'</li>\n",
       "\t<li>'17'</li>\n",
       "\t<li>'18'</li>\n",
       "\t<li>'19'</li>\n",
       "\t<li>'100'</li>\n",
       "</ol>\n"
      ],
      "text/latex": [
       "\\begin{enumerate*}\n",
       "\\item '1'\n",
       "\\item '10'\n",
       "\\item '11'\n",
       "\\item '12'\n",
       "\\item '13'\n",
       "\\item '14'\n",
       "\\item '15'\n",
       "\\item '16'\n",
       "\\item '17'\n",
       "\\item '18'\n",
       "\\item '19'\n",
       "\\item '100'\n",
       "\\end{enumerate*}\n"
      ],
      "text/markdown": [
       "1. '1'\n",
       "2. '10'\n",
       "3. '11'\n",
       "4. '12'\n",
       "5. '13'\n",
       "6. '14'\n",
       "7. '15'\n",
       "8. '16'\n",
       "9. '17'\n",
       "10. '18'\n",
       "11. '19'\n",
       "12. '100'\n",
       "\n",
       "\n"
      ],
      "text/plain": [
       " [1] \"1\"   \"10\"  \"11\"  \"12\"  \"13\"  \"14\"  \"15\"  \"16\"  \"17\"  \"18\"  \"19\"  \"100\""
      ]
     },
     "metadata": {},
     "output_type": "display_data"
    }
   ],
   "source": [
    "x <- sprintf('%g', 1:100)\n",
    "x[grep('^1', x)] # **Imprima los números del 1 al 100 que empiecen con un '1'.**"
   ]
  },
  {
   "cell_type": "code",
   "execution_count": 101,
   "metadata": {},
   "outputs": [
    {
     "data": {
      "text/html": [
       "11"
      ],
      "text/latex": [
       "11"
      ],
      "text/markdown": [
       "11"
      ],
      "text/plain": [
       "[1] 11"
      ]
     },
     "metadata": {},
     "output_type": "display_data"
    }
   ],
   "source": [
    "x <- sprintf('%g', 1:20)\n",
    "length(x[grep('1', x)])"
   ]
  },
  {
   "cell_type": "code",
   "execution_count": 102,
   "metadata": {},
   "outputs": [
    {
     "data": {
      "text/html": [
       "<ol class=list-inline>\n",
       "\t<li>'345'</li>\n",
       "\t<li>'cde'</li>\n",
       "\t<li>'lmn'</li>\n",
       "</ol>\n"
      ],
      "text/latex": [
       "\\begin{enumerate*}\n",
       "\\item '345'\n",
       "\\item 'cde'\n",
       "\\item 'lmn'\n",
       "\\end{enumerate*}\n"
      ],
      "text/markdown": [
       "1. '345'\n",
       "2. 'cde'\n",
       "3. 'lmn'\n",
       "\n",
       "\n"
      ],
      "text/plain": [
       "[1] \"345\" \"cde\" \"lmn\""
      ]
     },
     "metadata": {},
     "output_type": "display_data"
    }
   ],
   "source": [
    "x <- c(\"123456790\",\n",
    "       \"abcdefghi\",\n",
    "      \"jklmnopqr\" )\n",
    "substring(x, first=3, last=5)"
   ]
  },
  {
   "cell_type": "markdown",
   "metadata": {},
   "source": [
    "# Impresión con formato"
   ]
  },
  {
   "cell_type": "markdown",
   "metadata": {
    "collapsed": true
   },
   "source": [
    "[Contenido](#Contenido)"
   ]
  },
  {
   "cell_type": "code",
   "execution_count": 103,
   "metadata": {},
   "outputs": [
    {
     "name": "stdout",
     "output_type": "stream",
     "text": [
      "[1] \"Hello, world.\"\n"
     ]
    }
   ],
   "source": [
    "s <- 'Hello, world.'\n",
    "print(s) # note que aca lo imprime con las comillas"
   ]
  },
  {
   "cell_type": "code",
   "execution_count": 104,
   "metadata": {},
   "outputs": [
    {
     "name": "stdout",
     "output_type": "stream",
     "text": [
      " chr \"Hello, world.\"\n"
     ]
    }
   ],
   "source": [
    "str(s) # imprime el tipo"
   ]
  },
  {
   "cell_type": "code",
   "execution_count": 105,
   "metadata": {},
   "outputs": [
    {
     "name": "stdout",
     "output_type": "stream",
     "text": [
      "Hello, world."
     ]
    }
   ],
   "source": [
    "cat(s) # imprime sin las comillas"
   ]
  },
  {
   "cell_type": "code",
   "execution_count": 106,
   "metadata": {},
   "outputs": [
    {
     "data": {
      "text/html": [
       "'12'"
      ],
      "text/latex": [
       "'12'"
      ],
      "text/markdown": [
       "'12'"
      ],
      "text/plain": [
       "[1] \"12\""
      ]
     },
     "metadata": {},
     "output_type": "display_data"
    }
   ],
   "source": [
    "a = 12  \n",
    "as.character(a)  # convierte al 1 de número a string."
   ]
  },
  {
   "cell_type": "code",
   "execution_count": 107,
   "metadata": {},
   "outputs": [
    {
     "data": {
      "text/html": [
       "'0.142857142857143'"
      ],
      "text/latex": [
       "'0.142857142857143'"
      ],
      "text/markdown": [
       "'0.142857142857143'"
      ],
      "text/plain": [
       "[1] \"0.142857142857143\""
      ]
     },
     "metadata": {},
     "output_type": "display_data"
    }
   ],
   "source": [
    "as.character(1/7)"
   ]
  },
  {
   "cell_type": "markdown",
   "metadata": {},
   "source": [
    "La función `cat()` es usualmente usada para la concatenación de strings, tal como se ilustra en el siguiente ejemplo."
   ]
  },
  {
   "cell_type": "code",
   "execution_count": 108,
   "metadata": {},
   "outputs": [
    {
     "name": "stdout",
     "output_type": "stream",
     "text": [
      "The value of x is  32.5 , and y is  40000 ..."
     ]
    }
   ],
   "source": [
    "x = 10 * 3.25\n",
    "y = 200 * 200\n",
    "s = paste('The value of x is ', x, ', and y is ', y, '...')\n",
    "cat(s)"
   ]
  },
  {
   "cell_type": "code",
   "execution_count": 109,
   "metadata": {},
   "outputs": [
    {
     "name": "stdout",
     "output_type": "stream",
     "text": [
      "linea 1 linea 2 linea 3"
     ]
    }
   ],
   "source": [
    "cat(\"linea 1\", \"linea 2\", \"linea 3\")"
   ]
  },
  {
   "cell_type": "code",
   "execution_count": 110,
   "metadata": {},
   "outputs": [
    {
     "name": "stdout",
     "output_type": "stream",
     "text": [
      "linea 1-linea 2-linea 3-***"
     ]
    }
   ],
   "source": [
    "cat(\"linea 1\", \"linea 2\", \"linea 3\", sep='-', end='***')"
   ]
  },
  {
   "cell_type": "code",
   "execution_count": 111,
   "metadata": {},
   "outputs": [
    {
     "name": "stdout",
     "output_type": "stream",
     "text": [
      "linea 1\n",
      "linea 2\n",
      "linea 3\n",
      "***\n"
     ]
    }
   ],
   "source": [
    "cat(\"linea 1\", \"linea 2\", \"linea 3\", sep='\\n', end='***')"
   ]
  },
  {
   "cell_type": "code",
   "execution_count": 112,
   "metadata": {},
   "outputs": [
    {
     "name": "stdout",
     "output_type": "stream",
     "text": [
      "32.5 40000 spam eggs"
     ]
    }
   ],
   "source": [
    "cat(x, y, c('spam', 'eggs'))"
   ]
  },
  {
   "cell_type": "code",
   "execution_count": 113,
   "metadata": {},
   "outputs": [
    {
     "name": "stdout",
     "output_type": "stream",
     "text": [
      " 1    1    1\n",
      " 2    4    8\n",
      " 3    9   27\n",
      " 4   16   64\n",
      " 5   25  125\n",
      " 6   36  216\n",
      " 7   49  343\n",
      " 8   64  512\n",
      " 9   81  729\n",
      "10  100 1000\n"
     ]
    }
   ],
   "source": [
    "for (x in seq(10)) {\n",
    "    cat(sprintf('%2d  %3d %4d\\n', x, x^2, x^3))\n",
    "}"
   ]
  },
  {
   "cell_type": "code",
   "execution_count": 114,
   "metadata": {},
   "outputs": [
    {
     "name": "stdout",
     "output_type": "stream",
     "text": [
      "[1] \"    5\"\n"
     ]
    }
   ],
   "source": [
    "print(sprintf('%5d', 5))"
   ]
  },
  {
   "cell_type": "code",
   "execution_count": 115,
   "metadata": {},
   "outputs": [
    {
     "name": "stdout",
     "output_type": "stream",
     "text": [
      "[1] \"5    \"\n"
     ]
    }
   ],
   "source": [
    "print(sprintf('%-5d', 5))"
   ]
  },
  {
   "cell_type": "code",
   "execution_count": 116,
   "metadata": {},
   "outputs": [
    {
     "name": "stdout",
     "output_type": "stream",
     "text": [
      "[1] \"00005\"\n"
     ]
    }
   ],
   "source": [
    "print(sprintf('%05d', 5))"
   ]
  },
  {
   "cell_type": "code",
   "execution_count": 117,
   "metadata": {},
   "outputs": [
    {
     "name": "stdout",
     "output_type": "stream",
     "text": [
      "[1] \"-0003\"\n"
     ]
    }
   ],
   "source": [
    "print(sprintf('%05d', -3))"
   ]
  },
  {
   "cell_type": "code",
   "execution_count": 118,
   "metadata": {},
   "outputs": [
    {
     "name": "stdout",
     "output_type": "stream",
     "text": [
      "[1] \" 3.14\"\n"
     ]
    }
   ],
   "source": [
    "print(sprintf('%5.2f', 3.14159265359))"
   ]
  },
  {
   "cell_type": "code",
   "execution_count": 119,
   "metadata": {},
   "outputs": [
    {
     "name": "stdout",
     "output_type": "stream",
     "text": [
      "Este es el argumento -1- y este el \"-2-\""
     ]
    }
   ],
   "source": [
    "cat(sprintf('Este es el argumento %s y este el \"%s\"', '-1-', '-2-'))"
   ]
  },
  {
   "cell_type": "code",
   "execution_count": 120,
   "metadata": {},
   "outputs": [
    {
     "name": "stdout",
     "output_type": "stream",
     "text": [
      "[1] \"hola mundo ---- 1.234568\"\n"
     ]
    }
   ],
   "source": [
    "print(sprintf('%s ---- %f', 'hola mundo', 1.23456789))"
   ]
  },
  {
   "cell_type": "code",
   "execution_count": 121,
   "metadata": {},
   "outputs": [
    {
     "name": "stdout",
     "output_type": "stream",
     "text": [
      "[1] \"     hola mundo ----     1.23\"\n"
     ]
    }
   ],
   "source": [
    "print(sprintf('%15s ---- %8.2f', 'hola mundo', 1.23456789))"
   ]
  },
  {
   "cell_type": "code",
   "execution_count": 122,
   "metadata": {},
   "outputs": [
    {
     "name": "stdout",
     "output_type": "stream",
     "text": [
      "[1] \"hola mundo      ----     1.23\"\n"
     ]
    }
   ],
   "source": [
    "print(sprintf('%-15s ---- %8.2f', 'hola mundo', 1.23456789))"
   ]
  },
  {
   "cell_type": "code",
   "execution_count": 123,
   "metadata": {},
   "outputs": [
    {
     "data": {
      "text/html": [
       "<ol class=list-inline>\n",
       "\t<li>'linea 1'</li>\n",
       "\t<li>'linea 2'</li>\n",
       "\t<li>'linea 3'</li>\n",
       "\t<li>'linea 4'</li>\n",
       "\t<li>'linea 5'</li>\n",
       "</ol>\n"
      ],
      "text/latex": [
       "\\begin{enumerate*}\n",
       "\\item 'linea 1'\n",
       "\\item 'linea 2'\n",
       "\\item 'linea 3'\n",
       "\\item 'linea 4'\n",
       "\\item 'linea 5'\n",
       "\\end{enumerate*}\n"
      ],
      "text/markdown": [
       "1. 'linea 1'\n",
       "2. 'linea 2'\n",
       "3. 'linea 3'\n",
       "4. 'linea 4'\n",
       "5. 'linea 5'\n",
       "\n",
       "\n"
      ],
      "text/plain": [
       "[1] \"linea 1\" \"linea 2\" \"linea 3\" \"linea 4\" \"linea 5\""
      ]
     },
     "metadata": {},
     "output_type": "display_data"
    }
   ],
   "source": [
    "sprintf('linea %d', 1:5)"
   ]
  },
  {
   "cell_type": "code",
   "execution_count": 124,
   "metadata": {},
   "outputs": [
    {
     "data": {
      "text/html": [
       "<ol class=list-inline>\n",
       "\t<li>'1,'</li>\n",
       "\t<li>'2,'</li>\n",
       "\t<li>'3,'</li>\n",
       "\t<li>'4,'</li>\n",
       "\t<li>'5,'</li>\n",
       "</ol>\n"
      ],
      "text/latex": [
       "\\begin{enumerate*}\n",
       "\\item '1,'\n",
       "\\item '2,'\n",
       "\\item '3,'\n",
       "\\item '4,'\n",
       "\\item '5,'\n",
       "\\end{enumerate*}\n"
      ],
      "text/markdown": [
       "1. '1,'\n",
       "2. '2,'\n",
       "3. '3,'\n",
       "4. '4,'\n",
       "5. '5,'\n",
       "\n",
       "\n"
      ],
      "text/plain": [
       "[1] \"1,\" \"2,\" \"3,\" \"4,\" \"5,\""
      ]
     },
     "metadata": {},
     "output_type": "display_data"
    }
   ],
   "source": [
    "sprintf('%d,', seq(5))"
   ]
  },
  {
   "cell_type": "code",
   "execution_count": 125,
   "metadata": {},
   "outputs": [
    {
     "name": "stdout",
     "output_type": "stream",
     "text": [
      "1,2,3,4,5"
     ]
    }
   ],
   "source": [
    "cat(sprintf('%d', seq(5)), sep=',')"
   ]
  },
  {
   "cell_type": "code",
   "execution_count": 126,
   "metadata": {},
   "outputs": [
    {
     "name": "stdout",
     "output_type": "stream",
     "text": [
      "1,2,3,4,5,"
     ]
    }
   ],
   "source": [
    "cat(sprintf('%d,', seq(5)), sep='')"
   ]
  },
  {
   "cell_type": "code",
   "execution_count": 127,
   "metadata": {},
   "outputs": [
    {
     "name": "stdout",
     "output_type": "stream",
     "text": [
      "[1] \"Sjoerd       ==>       4127\"\n",
      "[1] \"Jack         ==>       4098\"\n",
      "[1] \"Dcab         ==>       7678\"\n"
     ]
    }
   ],
   "source": [
    "x <- list(Sjoerd=4127, Jack=4098, Dcab=7678)\n",
    "for (z in names(x)) {\n",
    "    print(sprintf('%-10s   ==> %10d', z, x[[z]]))\n",
    "} "
   ]
  },
  {
   "cell_type": "markdown",
   "metadata": {},
   "source": [
    "# Ejecución de Python dentro de R"
   ]
  },
  {
   "cell_type": "markdown",
   "metadata": {
    "collapsed": true
   },
   "source": [
    "[Contenido](#Contenido)"
   ]
  },
  {
   "cell_type": "markdown",
   "metadata": {},
   "source": [
    "Instale el paquete rPython desde el depósito del CRAN."
   ]
  },
  {
   "cell_type": "markdown",
   "metadata": {},
   "source": [
    "Use el siguiente ejemplo para verificar que su instalación fue correcta"
   ]
  },
  {
   "cell_type": "code",
   "execution_count": 128,
   "metadata": {},
   "outputs": [
    {
     "name": "stderr",
     "output_type": "stream",
     "text": [
      "Loading required package: RJSONIO\n"
     ]
    },
    {
     "data": {
      "text/html": [
       "4"
      ],
      "text/latex": [
       "4"
      ],
      "text/markdown": [
       "4"
      ],
      "text/plain": [
       "[1] 4"
      ]
     },
     "metadata": {},
     "output_type": "display_data"
    }
   ],
   "source": [
    "library(rPython)\n",
    "a <- 1:4\n",
    "python.assign( \"a\", a )\n",
    "python.exec( \"b = len( a )\" )\n",
    "python.get( \"b\" )"
   ]
  },
  {
   "cell_type": "code",
   "execution_count": 129,
   "metadata": {},
   "outputs": [
    {
     "data": {
      "text/html": [
       "<ol class=list-inline>\n",
       "\t<li>1</li>\n",
       "\t<li>2</li>\n",
       "\t<li>3</li>\n",
       "\t<li>4</li>\n",
       "\t<li>5</li>\n",
       "\t<li>6</li>\n",
       "\t<li>7</li>\n",
       "\t<li>8</li>\n",
       "</ol>\n"
      ],
      "text/latex": [
       "\\begin{enumerate*}\n",
       "\\item 1\n",
       "\\item 2\n",
       "\\item 3\n",
       "\\item 4\n",
       "\\item 5\n",
       "\\item 6\n",
       "\\item 7\n",
       "\\item 8\n",
       "\\end{enumerate*}\n"
      ],
      "text/markdown": [
       "1. 1\n",
       "2. 2\n",
       "3. 3\n",
       "4. 4\n",
       "5. 5\n",
       "6. 6\n",
       "7. 7\n",
       "8. 8\n",
       "\n",
       "\n"
      ],
      "text/plain": [
       "[1] 1 2 3 4 5 6 7 8"
      ]
     },
     "metadata": {},
     "output_type": "display_data"
    }
   ],
   "source": [
    "a <- 1:4\n",
    "b <- 5:8\n",
    "python.exec( \"def concat(a,b): return a+b\" )\n",
    "python.call( \"concat\", a, b)"
   ]
  },
  {
   "cell_type": "markdown",
   "metadata": {
    "collapsed": true
   },
   "source": [
    "---"
   ]
  },
  {
   "cell_type": "markdown",
   "metadata": {
    "collapsed": true
   },
   "source": [
    "[Contenido](#Contenido)"
   ]
  },
  {
   "cell_type": "markdown",
   "metadata": {},
   "source": [
    "<a rel=\"license\" href=\"http://creativecommons.org/licenses/by-nc-nd/4.0/\"><img alt=\"Licencia de Creative Commons\" style=\"border-width:0\" src=\"https://i.creativecommons.org/l/by-nc-nd/4.0/88x31.png\" /></a><br />Este obra está bajo una <a rel=\"license\" href=\"http://creativecommons.org/licenses/by-nc-nd/4.0/\">licencia de Creative Commons Reconocimiento-NoComercial-SinObraDerivada 4.0 Internacional</a>."
   ]
  }
 ],
 "metadata": {
  "kernelspec": {
   "display_name": "R",
   "language": "R",
   "name": "ir"
  },
  "language_info": {
   "codemirror_mode": "r",
   "file_extension": ".r",
   "mimetype": "text/x-r-source",
   "name": "R",
   "pygments_lexer": "r",
   "version": "3.2.3"
  }
 },
 "nbformat": 4,
 "nbformat_minor": 1
}
