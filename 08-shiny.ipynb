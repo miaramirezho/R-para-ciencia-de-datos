{
 "cells": [
  {
   "cell_type": "markdown",
   "metadata": {},
   "source": [
    "<center>\n",
    "# R -- Shiny"
   ]
  },
  {
   "cell_type": "markdown",
   "metadata": {},
   "source": [
    "**Autor.**\n",
    "> <img src=\"../firma_github.png\" width=\"500\" align='left'>"
   ]
  },
  {
   "cell_type": "markdown",
   "metadata": {},
   "source": [
    "**Bibliografía**.\n",
    "\n",
    "> Haga click [aquí](http://shiny.rstudio.com/tutorial/lesson1/) para acceder al tutorial escrito de RStudio.  \n",
    "Haga click [aquí](http://shiny.rstudio.com/tutorial/) para acceder a los videos del tutorial de RStudio.  \n",
    "Haga click [aquí](https://www.rstudio.com/resources/webinars/) para acceder a los webminars de RStudio.  \n",
    "\n"
   ]
  },
  {
   "cell_type": "markdown",
   "metadata": {},
   "source": [
    "**Actividad.**\n",
    "\n",
    "> *Objetivo*-- Al finalizar esta actividad, el estudiante debe estar en capacidad de crear un paquete sencillo para el lenguaje R.   \n",
    "\n",
    "> *Tipo de actividad*-- No presencial.  \n",
    "\n",
    "> *Formato*-- Individual.  \n",
    "\n",
    "> *Duración*-- 1:00:00.  \n",
    "\n",
    "> *Descripción*-- El lenguaje R permite la distribución de código y datos a través de sus paquetes. Esta integración permite la extensión del lenguaje, de tal forma que los datasets y las nuevas funciones adicionadas deben cumplir con una serie de requisitos que permiten su integración transparente con el entorno.  \n",
    "\n",
    "---"
   ]
  },
  {
   "cell_type": "markdown",
   "metadata": {},
   "source": [
    "`shiny`  es una librería para crear interfases de usuario en R, las cuales corren en una ventana del navegador de internet. `shiny` es desarrollado y mantenido por RStudio. A la fecha no hay reportes de como embeber una aplicación de `shiny` en un libro de Jupyter, por lo que se recomienda usar esta librería únicamente en RStudio.\n"
   ]
  },
  {
   "cell_type": "code",
   "execution_count": null,
   "metadata": {
    "collapsed": true
   },
   "outputs": [],
   "source": []
  },
  {
   "cell_type": "markdown",
   "metadata": {},
   "source": [
    "<a rel=\"license\" href=\"http://creativecommons.org/licenses/by-nc-nd/4.0/\"><img alt=\"Licencia de Creative Commons\" style=\"border-width:0\" src=\"https://i.creativecommons.org/l/by-nc-nd/4.0/88x31.png\" /></a><br />Este obra está bajo una <a rel=\"license\" href=\"http://creativecommons.org/licenses/by-nc-nd/4.0/\">licencia de Creative Commons Reconocimiento-NoComercial-SinObraDerivada 4.0 Internacional</a>."
   ]
  }
 ],
 "metadata": {
  "kernelspec": {
   "display_name": "R",
   "language": "R",
   "name": "ir"
  },
  "language_info": {
   "codemirror_mode": "r",
   "file_extension": ".r",
   "mimetype": "text/x-r-source",
   "name": "R",
   "pygments_lexer": "r",
   "version": "3.3.0"
  }
 },
 "nbformat": 4,
 "nbformat_minor": 0
}
