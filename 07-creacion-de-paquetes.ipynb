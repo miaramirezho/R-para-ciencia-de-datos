{
 "cells": [
  {
   "cell_type": "markdown",
   "metadata": {},
   "source": [
    "<center>\n",
    "# R -- Creación de paquetes\n",
    "\n"
   ]
  },
  {
   "cell_type": "markdown",
   "metadata": {},
   "source": [
    "**Autor.**\n",
    "> <img src=\"../firma_github.png\" width=\"500\" align='left'>"
   ]
  },
  {
   "cell_type": "markdown",
   "metadata": {},
   "source": [
    "**Bibliografía**.\n",
    "\n",
    "> [Writing R Extensions](https://cran.r-project.org/doc/manuals/r-release/R-exts.html#Creating-R-packages) by the R Core Team  \n",
    "[Package writing in RStudio](https://www.rstudio.com/resources/webinars/rstudio-essentials-webinar-series-programming-part-3/)  by RStudio  \n",
    "[Github and RStudio](https://www.rstudio.com/resources/webinars/rstudio-essentials-webinar-series-managing-part-2/)\n",
    "\n",
    "\n",
    "> Una lista de paquetes es recopilada en https://github.com/qinwf/awesome-R "
   ]
  },
  {
   "cell_type": "markdown",
   "metadata": {},
   "source": [
    "**Actividad.**\n",
    "\n",
    "> *Objetivo*-- Al finalizar esta actividad, el estudiante debe estar en capacidad de crear un paquete sencillo para el lenguaje R.   \n",
    "\n",
    "> *Tipo de actividad*-- No presencial.  \n",
    "\n",
    "> *Formato*-- Individual.  \n",
    "\n",
    "> *Duración*-- 1:00:00.  \n",
    "\n",
    "> *Descripción*-- El lenguaje R permite la distribución de código y datos a través de sus paquetes. Esta integración permite la extensión del lenguaje, de tal forma que los datasets y las nuevas funciones adicionadas deben cumplir con una serie de requisitos que permiten su integración transparente con el entorno.  \n",
    "\n",
    "---"
   ]
  },
  {
   "cell_type": "markdown",
   "metadata": {},
   "source": [
    "# Creación de un paquete en RStudio.\n",
    "\n",
    "Para realizar la creación de un paquete en RStudio siga los siguientes pasos:\n",
    "\n",
    "**Paso 1.-** Cree un nuevo proyecto (File/New Project…) y seleccione New Directory.\n",
    "\n",
    " <img src=\"images/package-rstudio-01.png\" width=\"400\" >\n",
    "\n",
    "**Paso 2.-** Seleccione R package.\n",
    "\n",
    " <img src=\"images/package-rstudio-02.png\" width=\"400\" >\n",
    "\n",
    "**Paso 3.-** Complete las propiedades del proyecto y créelo.\n",
    "*\tPackage name: mypack\n",
    "*\tSubdirectory.\n",
    "\n",
    "\n",
    " <img src=\"images/package-rstudio-03.png\" width=\"400\" >\n",
    "\n",
    "**Paso 4.—** Compile el proyecto:\n",
    "\n",
    "\n",
    "<img src=\"images/package-rstudio-04.png\" width=\"200\" >\n",
    "\n",
    "\n",
    "Al compilar el paquete debe crear el archivo mypack_0.1.0.tgz.  Este paquete es instalable en R."
   ]
  },
  {
   "cell_type": "markdown",
   "metadata": {},
   "source": [
    "# Estructura del paquete\n",
    "\n",
    "En el directorio donde se crea el paquete, se generan los siguientes archivos y directorios que conforman la estructura básica del paquete:\n",
    "\n",
    "```\n",
    "  +---- mypack\n",
    "        +--- DESCRIPTION\n",
    "        +--- NAMESPACE\n",
    "        +--- man\n",
    "        |    +---- hello.Rd\n",
    "        +--- R\n",
    "             +---- hello.R\n",
    "```      \n"
   ]
  },
  {
   "cell_type": "markdown",
   "metadata": {},
   "source": [
    "* Archivo `DESCRIPTION`: Tiene el siguiente contenido:\n",
    "```\n",
    "Package: mypack\n",
    "Type: Package\n",
    "Title: What the Package Does (Title Case)\n",
    "Version: 0.1.0\n",
    "Author: Who wrote it\n",
    "Maintainer: Who to complain to <yourfault@somewhere.net>\n",
    "Description: More about what it does (maybe more than one line)\n",
    "License: What license is it under?\n",
    "LazyData: TRUE\n",
    "```\n",
    "Este debe ser completado por el autor del paquete.\n",
    "\n",
    "\n",
    "* Archivo `mypack.Rproj`: Es el archivo de proyecto de RStudio.\n",
    "\n",
    "* Archivo `NAMESPACE`: contiene información sobre cuales variables del paquete pueden ser visibles para los usuarios. Se puede indicar que funciones deben ser importadas de otros paquetes.\n",
    "```\n",
    "exportPattern(\"^[[:alpha:]]+\")\n",
    "```\n",
    "\n"
   ]
  },
  {
   "cell_type": "markdown",
   "metadata": {},
   "source": [
    "* Directorio `man`: contiene los archivos que con las ayudas para las funciones que conforman el paquete. Hay un archivo `.rd` por cada archivo `.R` en el directorio `R`. \n",
    "\n",
    "    * Archivo `hello.rd`:  Contiene la ayuda para la función `hello()`, la cual se visualiza en R así:\n",
    "\n",
    "    <img src=\"images/package-rstudio-05.png\" width=\"400\" >\n",
    "\n",
    "    `hello.Rd` es un archivo marcado con el siguiente contenido:\n",
    "    ```R\n",
    "    \\name{hello}\n",
    "    \\alias{hello}\n",
    "    \\title{Hello, World!}\n",
    "    \\usage{\n",
    "    hello()\n",
    "    }\n",
    "    \\description{\n",
    "    Prints 'Hello, world!'.\n",
    "    }\n",
    "    \\examples{\n",
    "    hello()\n",
    "    }\n",
    "    ```\n",
    "\n",
    "    Las secciones son las siguientes:\n",
    "       * `\\name` es el nombre de la función.\n",
    "       * `\\title`  es el título que aparece en la ayuda.\n",
    "       * `\\usage` describe como se realiza la llamada a la función.\n",
    "       * `\\description`  contiene la ayuda detallada sobre el uso de la función.\n",
    "       * `\\examples` contiene los ejemplos que aparecen al final de las ayudas de las funcinones."
   ]
  },
  {
   "cell_type": "markdown",
   "metadata": {
    "collapsed": true
   },
   "source": [
    "* Directorio `R`: contiene los archivos *.R en que se implementan las funciones.\n",
    "\n",
    "     * Archivo `hello.R`: contiene el código generado automáticamente para la función `hello()`:\n",
    "\n",
    "    El contenido del archivo es el siguiente:\n",
    "    ```  \n",
    "# Hello, world!  \n",
    "#  \n",
    "# This is an example function named 'hello'   \n",
    "# which prints 'Hello, world!'.  \n",
    "#  \n",
    "# You can learn more about package authoring with RStudio at:  \n",
    "#  \n",
    "#   http://r-pkgs.had.co.nz/  \n",
    "#  \n",
    "# Some useful keyboard shortcuts for package authoring:  \n",
    "#  \n",
    "#   Build and Reload Package:  'Cmd + Shift + B'  \n",
    "#   Check Package:             'Cmd + Shift + E'  \n",
    "#   Test Package:              'Cmd + Shift + T'  \n",
    "hello <- function() {\n",
    "      print(\"Hello, world!\")\n",
    "}\n",
    "```"
   ]
  },
  {
   "cell_type": "markdown",
   "metadata": {},
   "source": [
    "# Creación de un paquete desde el prompt de comandos\n",
    "\n",
    "La estructura de directorios y archivos para un paquete también puede ser creada desde el prompt de comandos de R con la función  [`package.skeleton()`](https://stat.ethz.ch/R-manual/R-devel/library/utils/html/package.skeleton.html)"
   ]
  },
  {
   "cell_type": "code",
   "execution_count": null,
   "metadata": {
    "collapsed": true
   },
   "outputs": [],
   "source": []
  },
  {
   "cell_type": "markdown",
   "metadata": {},
   "source": [
    "---"
   ]
  },
  {
   "cell_type": "markdown",
   "metadata": {},
   "source": [
    "<a rel=\"license\" href=\"http://creativecommons.org/licenses/by-nc-nd/4.0/\"><img alt=\"Licencia de Creative Commons\" style=\"border-width:0\" src=\"https://i.creativecommons.org/l/by-nc-nd/4.0/88x31.png\" /></a><br />Este obra está bajo una <a rel=\"license\" href=\"http://creativecommons.org/licenses/by-nc-nd/4.0/\">licencia de Creative Commons Reconocimiento-NoComercial-SinObraDerivada 4.0 Internacional</a>."
   ]
  }
 ],
 "metadata": {
  "kernelspec": {
   "display_name": "R",
   "language": "R",
   "name": "ir"
  },
  "language_info": {
   "codemirror_mode": "r",
   "file_extension": ".r",
   "mimetype": "text/x-r-source",
   "name": "R",
   "pygments_lexer": "r",
   "version": "3.3.0"
  }
 },
 "nbformat": 4,
 "nbformat_minor": 0
}
